{
 "cells": [
  {
   "cell_type": "markdown",
   "id": "6f28f466",
   "metadata": {},
   "source": [
    "## Часть 2. \n",
    "### Реализация генетического алгоритма"
   ]
  },
  {
   "cell_type": "code",
   "execution_count": 1,
   "id": "776ca719",
   "metadata": {
    "scrolled": false
   },
   "outputs": [
    {
     "ename": "IndexError",
     "evalue": "list index out of range",
     "output_type": "error",
     "traceback": [
      "\u001b[0;31m---------------------------------------------------------------------------\u001b[0m",
      "\u001b[0;31mIndexError\u001b[0m                                Traceback (most recent call last)",
      "Cell \u001b[0;32mIn [1], line 6\u001b[0m\n\u001b[1;32m      1\u001b[0m \u001b[38;5;28;01mfrom\u001b[39;00m \u001b[38;5;21;01msrc\u001b[39;00m \u001b[38;5;28;01mimport\u001b[39;00m Genetic\n\u001b[1;32m      2\u001b[0m \u001b[38;5;66;03m# Из изображения получаем матрицу размером 512х512 из\u001b[39;00m\n\u001b[1;32m      3\u001b[0m \u001b[38;5;66;03m# целочисленных значений от 0 до 255\u001b[39;00m\n\u001b[1;32m      4\u001b[0m \u001b[38;5;66;03m# watermark = Watermark(\"pic/sailboat.png\", \"pic/logo.png\")\u001b[39;00m\n\u001b[0;32m----> 6\u001b[0m genetic \u001b[38;5;241m=\u001b[39m \u001b[43mGenetic\u001b[49m\u001b[43m(\u001b[49m\u001b[38;5;124;43m\"\u001b[39;49m\u001b[38;5;124;43mpic/sailboat.png\u001b[39;49m\u001b[38;5;124;43m\"\u001b[39;49m\u001b[43m,\u001b[49m\u001b[43m \u001b[49m\u001b[38;5;124;43m\"\u001b[39;49m\u001b[38;5;124;43mpic/logo.png\u001b[39;49m\u001b[38;5;124;43m\"\u001b[39;49m\u001b[43m)\u001b[49m\n",
      "File \u001b[0;32m~/Documents/vkr/src/models.py:34\u001b[0m, in \u001b[0;36mGenetic.__init__\u001b[0;34m(self, image_path, embedded_image_path)\u001b[0m\n\u001b[1;32m     32\u001b[0m \u001b[38;5;28mself\u001b[39m\u001b[38;5;241m.\u001b[39mpopulation_bin \u001b[38;5;241m=\u001b[39m [\u001b[38;5;28mself\u001b[39m\u001b[38;5;241m.\u001b[39mrandom_candidates() \u001b[38;5;28;01mfor\u001b[39;00m _ \u001b[38;5;129;01min\u001b[39;00m \u001b[38;5;28mrange\u001b[39m(\u001b[38;5;28mself\u001b[39m\u001b[38;5;241m.\u001b[39mpopulation_size)]\n\u001b[1;32m     33\u001b[0m \u001b[38;5;28mself\u001b[39m\u001b[38;5;241m.\u001b[39mpopulation \u001b[38;5;241m=\u001b[39m \u001b[38;5;28mself\u001b[39m\u001b[38;5;241m.\u001b[39mbin_to_index()\n\u001b[0;32m---> 34\u001b[0m \u001b[38;5;28mself\u001b[39m\u001b[38;5;241m.\u001b[39mevaluation \u001b[38;5;241m=\u001b[39m \u001b[38;5;28;43mself\u001b[39;49m\u001b[38;5;241;43m.\u001b[39;49m\u001b[43mevaluate_population\u001b[49m\u001b[43m(\u001b[49m\u001b[43m)\u001b[49m\n",
      "File \u001b[0;32m~/Documents/vkr/src/models.py:71\u001b[0m, in \u001b[0;36mGenetic.evaluate_population\u001b[0;34m(self)\u001b[0m\n\u001b[1;32m     67\u001b[0m     \u001b[38;5;28;01mif\u001b[39;00m \u001b[38;5;28mlen\u001b[39m(\u001b[38;5;28mself\u001b[39m\u001b[38;5;241m.\u001b[39melite_candidates) \u001b[38;5;241m<\u001b[39m \u001b[38;5;28mself\u001b[39m\u001b[38;5;241m.\u001b[39melite_size:\n\u001b[1;32m     68\u001b[0m         \u001b[38;5;66;03m# Если список элитных еще не полон, то добавить в него кандидата\u001b[39;00m\n\u001b[1;32m     69\u001b[0m         \u001b[38;5;66;03m# TODO: Реализовать функционал вставка в отсортированный список\u001b[39;00m\n\u001b[1;32m     70\u001b[0m         \u001b[38;5;28;01mpass\u001b[39;00m\n\u001b[0;32m---> 71\u001b[0m     \u001b[38;5;28;01mif\u001b[39;00m \u001b[38;5;28;43mself\u001b[39;49m\u001b[38;5;241;43m.\u001b[39;49m\u001b[43melite_candidates\u001b[49m\u001b[43m[\u001b[49m\u001b[38;5;241;43m-\u001b[39;49m\u001b[38;5;241;43m1\u001b[39;49m\u001b[43m]\u001b[49m \u001b[38;5;241m>\u001b[39m watermark\u001b[38;5;241m.\u001b[39mevaluation:\n\u001b[1;32m     72\u001b[0m         \u001b[38;5;66;03m# TODO: Вставка в отсортированный список\u001b[39;00m\n\u001b[1;32m     73\u001b[0m         \u001b[38;5;28;01mpass\u001b[39;00m\n\u001b[1;32m     75\u001b[0m \u001b[38;5;28;01mreturn\u001b[39;00m results\n",
      "\u001b[0;31mIndexError\u001b[0m: list index out of range"
     ]
    }
   ],
   "source": [
    "from src import Genetic\n",
    "# Из изображения получаем матрицу размером 512х512 из\n",
    "# целочисленных значений от 0 до 255\n",
    "# watermark = Watermark(\"pic/sailboat.png\", \"pic/logo.png\")\n",
    "\n",
    "genetic = Genetic(\"pic/sailboat.png\", \"pic/logo.png\")"
   ]
  },
  {
   "cell_type": "code",
   "execution_count": null,
   "id": "0d9a2433",
   "metadata": {},
   "outputs": [],
   "source": [
    "genetic.best_candidate"
   ]
  },
  {
   "cell_type": "code",
   "execution_count": null,
   "id": "b17f9f28",
   "metadata": {},
   "outputs": [],
   "source": [
    "genetic.evaluation"
   ]
  },
  {
   "cell_type": "markdown",
   "id": "e93ea6f0",
   "metadata": {},
   "source": [
    "#### 5.2 Extracting watermark\n",
    "Погружение ЦВЗ, получение метрик PSNR и SSIM"
   ]
  },
  {
   "cell_type": "code",
   "execution_count": null,
   "id": "af5b8708",
   "metadata": {},
   "outputs": [],
   "source": [
    "len(genetic.population_bin[99])"
   ]
  },
  {
   "cell_type": "code",
   "execution_count": null,
   "id": "af56faba",
   "metadata": {},
   "outputs": [],
   "source": [
    "from src import Watermark\n",
    "\n",
    "watermark = Watermark(\n",
    "    genetic.population[0], \n",
    "    genetic.embedded_image_bin, \n",
    "    genetic.image_matrix\n",
    ")"
   ]
  },
  {
   "cell_type": "code",
   "execution_count": null,
   "id": "d930ae42",
   "metadata": {},
   "outputs": [],
   "source": [
    "watermark.watermark"
   ]
  },
  {
   "cell_type": "code",
   "execution_count": null,
   "id": "4e203251",
   "metadata": {
    "scrolled": false
   },
   "outputs": [],
   "source": [
    "import matplotlib.pyplot as plt\n",
    "\n",
    "plt.imshow(watermark.extracted_image_bin, cmap=plt.cm.gray)"
   ]
  },
  {
   "cell_type": "code",
   "execution_count": null,
   "id": "00d19578",
   "metadata": {},
   "outputs": [],
   "source": []
  }
 ],
 "metadata": {
  "kernelspec": {
   "display_name": "Python 3 (ipykernel)",
   "language": "python",
   "name": "python3"
  },
  "language_info": {
   "codemirror_mode": {
    "name": "ipython",
    "version": 3
   },
   "file_extension": ".py",
   "mimetype": "text/x-python",
   "name": "python",
   "nbconvert_exporter": "python",
   "pygments_lexer": "ipython3",
   "version": "3.11.2"
  }
 },
 "nbformat": 4,
 "nbformat_minor": 5
}
