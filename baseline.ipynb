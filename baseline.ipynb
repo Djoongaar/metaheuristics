{
 "cells": [
  {
   "cell_type": "markdown",
   "id": "6f28f466",
   "metadata": {},
   "source": [
    "## Часть 1. \n",
    "### Воспроизведение алгоритма описанного в статье Elham Moeinaddini от 22 сентября 2018"
   ]
  },
  {
   "cell_type": "markdown",
   "id": "ea9056fb",
   "metadata": {},
   "source": [
    "***Keywords:** Optimal block selection · Distinct discrete firefly algorithm · Entropy · Robustness · Transparency*\n",
    "\n",
    "***Ключевые слова:** Оптимизация выбора блоков · Дискретный светлячковый алгоритм · Энтропия · Устойчивость · Незаметность*"
   ]
  },
  {
   "cell_type": "markdown",
   "id": "0c1f2058",
   "metadata": {},
   "source": [
    "### 1 Introduction"
   ]
  },
  {
   "cell_type": "markdown",
   "id": "cb3bed53",
   "metadata": {},
   "source": [
    "Решается задача оптимизация показателей незаметности и устойчивости алгоритма. Они зависят от текстуры изображения. При размытой структуре картинки увеличивается устойчивость но изображение становится заметным. При погружении картинки в четкое изображение незаметность повышается но ухудшается устойчивость к атакам. Текстура изображения описывается параметрами: дисперсия, энтропия и страндартное отклонение. Используя эти параметры для погружения изображения можно  улучшить лишь один из показателей но нельзя решить задачу их оптимизации"
   ]
  },
  {
   "cell_type": "markdown",
   "id": "27b997d3",
   "metadata": {},
   "source": [
    "Поскольку ставится задача - оптимальный выбор блоков изображения для погружения ЦВЗ с оптимальными парметрами незаметности и устойчивости, то одним из  способов её решения может быть применение метаэвристики. За последнее время учеными были успешно применены различные подходы на основе популяционных и роевых алгоритмов"
   ]
  },
  {
   "cell_type": "markdown",
   "id": "607ded84",
   "metadata": {},
   "source": [
    "В этой статье предложена новая схема оптимального выбора блоков с применением комбинации энтропии и алгоритма светлячков. Поскольку номера блоков являются различными и дискретными значениями, алгоритм светлячков должен быть модифицирован для генерации различных и дискретных значений. DDFA — это улучшенная версия алгоритма светлячков, которая предлагается в этой статье для генерации таких значений."
   ]
  },
  {
   "cell_type": "markdown",
   "id": "108eea87",
   "metadata": {},
   "source": [
    "Другим фактором, который может повысить эффективность схемы погружения ЦВЗ, является выбор подходящего домена преобразования. Аналитические и имитационные методы показывают, что преобразование Адамара обеспечивает хорошую прозрачность, при этом устойчиво к большинству атак и процессов. В процессе внедрения предлагаемой схемы после выбора правильных блоков биты водяного знака внедряются в коэффициенты Адамара с использованием средних соседних коэффициентов, а **местоположение выбранных блоков сохраняется как секретный ключ для извлечения**."
   ]
  },
  {
   "cell_type": "markdown",
   "id": "a230c9d4",
   "metadata": {},
   "source": [
    "Преобразование Адамара как частотная область и комбинация энтропии и DDFA для выбора блоков улучшают и балансируют прозрачность и надежность водяного знака. Предлагаемая схема является новой в случае введения DDFA для выбора оптимальных блоков и использования нового метода для встраивания водяного знака в коэффициенты Адамара. Кроме того, эта схема достигает хорошей незаметности и надежности по сравнению с другими существующими схемами."
   ]
  },
  {
   "cell_type": "markdown",
   "id": "1670025d",
   "metadata": {},
   "source": [
    "Остальная часть этой статьи организована следующим образом: Раздел 2 рассматривает связанные исследования. Раздел 3 представляет используемые концепции и алгоритмы. Предлагаемый метод DDFA и водяных знаков описаны в Разделе 4. Раздел 5 представляет эксперименты и результаты. Раздел 6 сравнивает результаты предлагаемой схемы с существующими схемами, и, наконец, статья завершается в Разделе 7."
   ]
  },
  {
   "cell_type": "markdown",
   "id": "f8b9b18f",
   "metadata": {},
   "source": [
    "### 2 Related works"
   ]
  },
  {
   "cell_type": "markdown",
   "id": "0aaf890f",
   "metadata": {},
   "source": [
    "Наиболее важной частью предлагаемой схемы является мета-эвристический выбор блоков изображения обложки для внедрения водяного знака. В этом разделе описываются некоторые из блочных схем водяных знаков и их методы выбора блоков."
   ]
  },
  {
   "cell_type": "markdown",
   "id": "ce6c1570",
   "metadata": {},
   "source": [
    "Многие исследователи использовали энтропию для выбора блоков. В этих схемах визуальная энтропия и энтропия края для каждого блока рассчитываются с использованием отношений, определенных Шенноном, и блоки выбираются на основе этой информации (Шеннон 1948).\n",
    "\n",
    "Метод, предложенный Майти и соавторами, делит блоки изображения на основе их энтропии на блоки с низкой, средней и высокой информативностью (Майти и Кунду, 2010). Водяной знак встраивается в блоки с низкой и средней информативностью. Изображения, помеченные водяным знаком с использованием этого метода, не обладают хорошей прозрачностью, и, кроме того, надежность этого метода низкая.\n",
    "\n",
    "Другой метод, который использует энтропию, предложен Лаем (2011). В этом методе энтропия вычисляется для каждого блока, и блоки с более низкой энтропией выбираются для встраивания. Хотя эта схема обеспечивает хорошую прозрачность, ее устойчивость к различным атакам не очень хорошая.\n",
    "\n",
    "Франклин и др. (2011) предложили обоснованный метод для погружения ЦВЗ в изображения с использованием визуальной энтропии. В этом методе визуальная энтропия и пороговое значение вычисляются для каждого блока, и выбираются блоки, энтропия которых больше порогового значения. Надежность этого метода низкая, но его прозрачность приемлема.\n",
    "\n",
    "Али и др. (2015) предложили слепой метод для нанесения водяных знаков на изображения, в котором соответствующие блоки выбираются с использованием энтропии. В этом методе сначала к изображению обложки применяется перераспределенное инвариантное вейвлет-преобразование, а его низкочастотный поддиапазон делится на неперекрывающиеся блоки. Затем для внедрения водяного знака выбираются блоки с более низкой энтропией. К выбранным блокам применяется SVD, а биты водяного знака внедряются в первый столбец левой сингулярной матрицы с использованием различных пороговых значений. Алгоритм искусственной пчелиной колонии используется для оптимизации пороговых значений. Этот метод имеет приемлемую надежность и прозрачность, но низкую полезную нагрузку.\n",
    "\n",
    "В некоторых схемах ЦВЗ статистические параметры, такие как дисперсия и стандартное отклонение, используются для выбора подходящих блоков. Каземиваш и Эбрахими Могаддам (2016) использовали стандартное отклонение для выбора подходящих блоков. В этой схеме после применения подъемного вейвлет-преобразования к изображению обложки низкочастотная часть изображения делится на блоки 3 × 3. Блоки с более высоким стандартным отклонением выбираются, и некоторые из них игнорируются для баланса прозрачности и надежности. Проигнорированные блоки выбираются алгоритмом Firefly. Надежность этого метода хорошая, но его прозрачность неприемлема. В этой схеме алгоритм Firefly используется для поиска блоков, которые следует исключить, и он не используется напрямую для выбора блоков.\n",
    "\n",
    "В другом методе, предложенном теми же авторами, стандартное отклонение снова используется для выбора блоков (Kazemivash and Moghaddam 2017). В этом методе, как и в предыдущем методе, после применения подъемного вейвлет-преобразования к изображению обложки его низкочастотная часть делится на блоки 3 × 3, но в отличие от предыдущего метода, для внедрения водяного знака используются блоки с меньшим стандартным отклонением. Прозрачность этого метода невысокая, но его надежность высокая.\n",
    "\n",
    "В методе, предложенном Райханом, дисперсия используется для выбора блоков (Райхан и Гогои 2017). Преобразование Уолша-Адамара применяется к блокам 8 × 8, которые имеют более высокую дисперсию, и два бита водяного знака встроены в каждый блок с коэффициентами DC. Хотя прозрачность этого метода хорошая, его надежность не была исследована.\n",
    "\n",
    "В схеме, предложенной Аунгом и др., для повышения прозрачности используются блоки с низкой амплитудой для внедрения водяного знака (Аунг и др. 2011). Надежность этого метода высока, но его прозрачность не так хороша.\n",
    "\n",
    "Лучший результат был получен Саркером и др. для выбора последовательности блоков для нанесения водяных знаков (Саркер и Хан 2013). В этом методе после деления изображения обложки на блоки 8 × 8 и применения преобразования Адамара используется BFS для поиска самой длинной последовательности блоков с наибольшими коэффициентами (за исключением коэффициента DC). Блокировка и преобразование Адамара применяются также к изображению водяного знака, и коэффициенты этих блоков умножаются на коэффициент масштабирования, а затем заменяются выбранными блоками изображения обложки. Поскольку водяной знак встроен во все коэффициенты, кроме коэффициента DC, этот метод уязвим к различным шумам.\n",
    "\n",
    "В целом, основываясь на смежных работах, учитывая силу схем, предложенных Франклином и др. (2011), Али и др. (2015) и Каземивашем и Эбрахими Могаддамом (2016), мотивируют нас использовать энтропию и метод роевого интеллекта для выбора подходящих блоков для нанесения водяных знаков. Таким образом, для выбора блоков выбран и улучшен мощный алгоритм оптимизации, называемый алгоритмом Firefly. Стоит сказать, что до сих пор ни одна схема нанесения водяных знаков не использовала комбинацию энтропии и алгоритма Firefly для выбора оптимальных блоков."
   ]
  },
  {
   "cell_type": "markdown",
   "id": "c897aad3",
   "metadata": {},
   "source": [
    "### 3 Reviewing concepts and employed algorithms\n",
    "В этом разделе кратко описаны концепции и используемые алгоритмы."
   ]
  },
  {
   "cell_type": "markdown",
   "id": "de7a0fd8",
   "metadata": {},
   "source": [
    "#### 3.1 Hadamard transform\n",
    "Преобразование Адамара"
   ]
  },
  {
   "cell_type": "markdown",
   "id": "0839528e",
   "metadata": {},
   "source": [
    "Двумерное преобразование Адамара — это ортогональное несинусоидальное преобразование, которое уменьшает полосу пропускания сигнала и, следовательно, уменьшает пространство, необходимое для хранения, и это быстрое преобразование. Двумерное преобразование Адамара работает на основе матрицы Адамара. Матрица Адамара — это матрица 2n × 2n, включающая + 1 и − 1, где ее столбцы и строки ортогональны. Из-за ортогональности строк и столбцов матрица Адамара обладает особыми свойствами:\n",
    "\n",
    "$H^{T}A = HH^{T} = E$\n",
    "\n",
    "$H = H^{-1} = H^{T} = H^{*}$"
   ]
  },
  {
   "cell_type": "code",
   "execution_count": 1,
   "id": "05d1bc6e",
   "metadata": {
    "scrolled": true
   },
   "outputs": [
    {
     "name": "stdout",
     "output_type": "stream",
     "text": [
      "\n",
      "    Construct an Hadamard matrix.\n",
      "\n",
      "    Constructs an n-by-n Hadamard matrix, using Sylvester's\n",
      "    construction. `n` must be a power of 2.\n",
      "\n",
      "    Parameters\n",
      "    ----------\n",
      "    n : int\n",
      "        The order of the matrix. `n` must be a power of 2.\n",
      "    dtype : dtype, optional\n",
      "        The data type of the array to be constructed.\n",
      "\n",
      "    Returns\n",
      "    -------\n",
      "    H : (n, n) ndarray\n",
      "        The Hadamard matrix.\n",
      "\n",
      "    Notes\n",
      "    -----\n",
      "    .. versionadded:: 0.8.0\n",
      "\n",
      "    Examples\n",
      "    --------\n",
      "    >>> from scipy.linalg import hadamard\n",
      "    >>> hadamard(2, dtype=complex)\n",
      "    array([[ 1.+0.j,  1.+0.j],\n",
      "           [ 1.+0.j, -1.-0.j]])\n",
      "    >>> hadamard(4)\n",
      "    array([[ 1,  1,  1,  1],\n",
      "           [ 1, -1,  1, -1],\n",
      "           [ 1,  1, -1, -1],\n",
      "           [ 1, -1, -1,  1]])\n",
      "\n",
      "    \n"
     ]
    }
   ],
   "source": [
    "#!pip3 install scipy --break-system-packages\n",
    "from scipy.linalg import hadamard\n",
    "\n",
    "# Hadamard matrix docstring\n",
    "print(hadamard.__doc__)"
   ]
  },
  {
   "cell_type": "markdown",
   "id": "94b1b5c8",
   "metadata": {},
   "source": [
    "В предлагаемой схеме преобразование Адамара применяется к блокам 8 × 8 с использованием матрицы Адамара степени 3. Эта матрица представлена ниже."
   ]
  },
  {
   "cell_type": "code",
   "execution_count": 2,
   "id": "9a4dab50",
   "metadata": {},
   "outputs": [
    {
     "name": "stdout",
     "output_type": "stream",
     "text": [
      "[[ 1  1  1  1  1  1  1  1]\n",
      " [ 1 -1  1 -1  1 -1  1 -1]\n",
      " [ 1  1 -1 -1  1  1 -1 -1]\n",
      " [ 1 -1 -1  1  1 -1 -1  1]\n",
      " [ 1  1  1  1 -1 -1 -1 -1]\n",
      " [ 1 -1  1 -1 -1  1 -1  1]\n",
      " [ 1  1 -1 -1 -1 -1  1  1]\n",
      " [ 1 -1 -1  1 -1  1  1 -1]]\n"
     ]
    }
   ],
   "source": [
    "# Hadamard matrix\n",
    "print(hadamard(2**3))"
   ]
  },
  {
   "cell_type": "markdown",
   "id": "9ce09668",
   "metadata": {},
   "source": [
    "#### 3.2 Entropy-based block selection\n",
    "Выбор блока на основе энтропии"
   ]
  },
  {
   "cell_type": "markdown",
   "id": "1e764a2f",
   "metadata": {},
   "source": [
    "Энтропия является подходящей мерой пространственной корреляции соседних пикселей. Определение энтропии Шеннона для вычисления визуальной энтропии изображения дается следующим образом (Шеннон, 1948):\n",
    "\n",
    "$E = -\\Sigma_{i=1}^{n}p_{i}log p_{i}$\n",
    "\n",
    "где $p_{i}$ - вероятность события $i$, \n",
    "\n",
    "$0 <= p_{i} <= 1$\n",
    "\n",
    "$\\Sigma_{i=1}^{n}p_{i} = 1$"
   ]
  },
  {
   "cell_type": "markdown",
   "id": "0016bdd0",
   "metadata": {},
   "source": [
    "В этом уравнении сигнал рассматривается как последовательность символов. Энтропия зависит от относительного появления символов, независимо от позиций появления. Очевидно, что необходимо иметь некоторую информацию о характеристиках изображения, чтобы достичь незаметного и надежного водяного знака."
   ]
  },
  {
   "cell_type": "code",
   "execution_count": 3,
   "id": "522175bb",
   "metadata": {
    "scrolled": true
   },
   "outputs": [
    {
     "name": "stdout",
     "output_type": "stream",
     "text": [
      "    \n",
      "\n",
      "\n",
      "Calculate the Shannon entropy/relative entropy of given distribution(s).\n",
      "\n",
      "If only probabilities `pk` are given, the Shannon entropy is calculated as\n",
      "``H = -sum(pk * log(pk))``.\n",
      "\n",
      "If `qk` is not None, then compute the relative entropy\n",
      "``D = sum(pk * log(pk / qk))``. This quantity is also known\n",
      "as the Kullback-Leibler divergence.\n",
      "\n",
      "This routine will normalize `pk` and `qk` if they don't sum to 1.\n",
      "\n",
      "Parameters\n",
      "----------\n",
      "pk : array_like\n",
      "    Defines the (discrete) distribution. Along each axis-slice of ``pk``,\n",
      "    element ``i`` is the  (possibly unnormalized) probability of event\n",
      "    ``i``.\n",
      "qk : array_like, optional\n",
      "    Sequence against which the relative entropy is computed. Should be in\n",
      "    the same format as `pk`.\n",
      "base : float, optional\n",
      "    The logarithmic base to use, defaults to ``e`` (natural logarithm).\n",
      "axis : int or None, default: 0\n",
      "    If an int, the axis of the input along which to compute the statistic.\n",
      "    The statistic of each axis-slice (e.g. row) of the input will appear in a\n",
      "    corresponding element of the output.\n",
      "    If ``None``, the input will be raveled before computing the statistic.\n",
      "nan_policy : {'propagate', 'omit', 'raise'}\n",
      "    Defines how to handle input NaNs.\n",
      "    \n",
      "    - ``propagate``: if a NaN is present in the axis slice (e.g. row) along\n",
      "      which the  statistic is computed, the corresponding entry of the output\n",
      "      will be NaN.\n",
      "    - ``omit``: NaNs will be omitted when performing the calculation.\n",
      "      If insufficient data remains in the axis slice along which the\n",
      "      statistic is computed, the corresponding entry of the output will be\n",
      "      NaN.\n",
      "    - ``raise``: if a NaN is present, a ``ValueError`` will be raised.\n",
      "keepdims : bool, default: False\n",
      "    If this is set to True, the axes which are reduced are left\n",
      "    in the result as dimensions with size one. With this option,\n",
      "    the result will broadcast correctly against the input array.\n",
      "\n",
      "Returns\n",
      "-------\n",
      "S : {float, array_like}\n",
      "    The calculated entropy.\n",
      "\n",
      "Notes\n",
      "-----\n",
      "Informally, the Shannon entropy quantifies the expected uncertainty\n",
      "inherent in the possible outcomes of a discrete random variable.\n",
      "For example,\n",
      "if messages consisting of sequences of symbols from a set are to be\n",
      "encoded and transmitted over a noiseless channel, then the Shannon entropy\n",
      "``H(pk)`` gives a tight lower bound for the average number of units of\n",
      "information needed per symbol if the symbols occur with frequencies\n",
      "governed by the discrete distribution `pk` [1]_. The choice of base\n",
      "determines the choice of units; e.g., ``e`` for nats, ``2`` for bits, etc.\n",
      "\n",
      "The relative entropy, ``D(pk|qk)``, quantifies the increase in the average\n",
      "number of units of information needed per symbol if the encoding is\n",
      "optimized for the probability distribution `qk` instead of the true\n",
      "distribution `pk`. Informally, the relative entropy quantifies the expected\n",
      "excess in surprise experienced if one believes the true distribution is\n",
      "`qk` when it is actually `pk`.\n",
      "\n",
      "A related quantity, the cross entropy ``CE(pk, qk)``, satisfies the\n",
      "equation ``CE(pk, qk) = H(pk) + D(pk|qk)`` and can also be calculated with\n",
      "the formula ``CE = -sum(pk * log(qk))``. It gives the average\n",
      "number of units of information needed per symbol if an encoding is\n",
      "optimized for the probability distribution `qk` when the true distribution\n",
      "is `pk`. It is not computed directly by `entropy`, but it can be computed\n",
      "using two calls to the function (see Examples).\n",
      "\n",
      "See [2]_ for more information.\n",
      "\n",
      "Beginning in SciPy 1.9, ``np.matrix`` inputs (not recommended for new\n",
      "code) are converted to ``np.ndarray`` before the calculation is performed. In\n",
      "this case, the output will be a scalar or ``np.ndarray`` of appropriate shape\n",
      "rather than a 2D ``np.matrix``. Similarly, while masked elements of masked\n",
      "arrays are ignored, the output will be a scalar or ``np.ndarray`` rather than a\n",
      "masked array with ``mask=False``.\n",
      "\n",
      "References\n",
      "----------\n",
      ".. [1] Shannon, C.E. (1948), A Mathematical Theory of Communication.\n",
      "       Bell System Technical Journal, 27: 379-423.\n",
      "       https://doi.org/10.1002/j.1538-7305.1948.tb01338.x\n",
      ".. [2] Thomas M. Cover and Joy A. Thomas. 2006. Elements of Information\n",
      "       Theory (Wiley Series in Telecommunications and Signal Processing).\n",
      "       Wiley-Interscience, USA.\n",
      "\n",
      "Examples\n",
      "--------\n",
      "The outcome of a fair coin is the most uncertain:\n",
      "\n",
      ">>> import numpy as np\n",
      ">>> from scipy.stats import entropy\n",
      ">>> base = 2  # work in units of bits\n",
      ">>> pk = np.array([1/2, 1/2])  # fair coin\n",
      ">>> H = entropy(pk, base=base)\n",
      ">>> H\n",
      "1.0\n",
      ">>> H == -np.sum(pk * np.log(pk)) / np.log(base)\n",
      "True\n",
      "\n",
      "The outcome of a biased coin is less uncertain:\n",
      "\n",
      ">>> qk = np.array([9/10, 1/10])  # biased coin\n",
      ">>> entropy(qk, base=base)\n",
      "0.46899559358928117\n",
      "\n",
      "The relative entropy between the fair coin and biased coin is calculated\n",
      "as:\n",
      "\n",
      ">>> D = entropy(pk, qk, base=base)\n",
      ">>> D\n",
      "0.7369655941662062\n",
      ">>> np.isclose(D, np.sum(pk * np.log(pk/qk)) / np.log(base), rtol=4e-16, atol=0)\n",
      "True\n",
      "\n",
      "The cross entropy can be calculated as the sum of the entropy and\n",
      "relative entropy`:\n",
      "\n",
      ">>> CE = entropy(pk, base=base) + entropy(pk, qk, base=base)\n",
      ">>> CE\n",
      "1.736965594166206\n",
      ">>> CE == -np.sum(pk * np.log(qk)) / np.log(base)\n",
      "True\n",
      "\n"
     ]
    }
   ],
   "source": [
    "from scipy.stats import entropy\n",
    "\n",
    "# Shannon entropy docstring\n",
    "print(entropy.__doc__)"
   ]
  },
  {
   "cell_type": "markdown",
   "id": "f87411ac",
   "metadata": {},
   "source": [
    "Pal и Pal (1989) определили среднюю информацию о границе как экспоненциальную форму для вычисления энтропии, которая может улавливать двумерную пространственную корреляцию изображений лучше, чем энтропия Шеннона. Энтропия границы определяется как:\n",
    "\n",
    "$E = \\Sigma_{i=1}^{n}p_{i}e^{1-p_{i}}$\n",
    "\n",
    "где $1 − p_{i}$ — неопределенность значения пикселя i. Это определение энтропии дает больше информации о дисперсии пикселей и краях изображения. Для каждого блока визуальная и краевая энтропия рассчитываются с использованием двух вышеупомянутых уравнений, а затем суммируются. В этом исследовании из блоков с более низкой энтропией выбирается вдвое больше требуемых блоков, а оптимальные блоки для встраивания водяного знака выбираются из этих блоков с использованием DDFA."
   ]
  },
  {
   "cell_type": "markdown",
   "id": "98348836",
   "metadata": {},
   "source": [
    "#### 3.3 Firefly algorithm\n",
    "Алгоритм светлячков"
   ]
  },
  {
   "cell_type": "markdown",
   "id": "d612099e",
   "metadata": {},
   "source": [
    "Алгоритм светлячков — это мета-эвристический метод, вдохновленный поведением светлячков, который дает хорошие оптимальные результаты в большинстве задач. В качестве основы рассматриваются три следующих закона: (1) светлячки считаются однополыми, и каждый светлячок привлекается другими светлячками. (2) Притяжение каждого светлячка зависит от его яркости; светлячки с меньшим светом привлекаются светлячками с большим светом. (3) Яркость каждого светлячка определяется либо случайным образом, либо целевой функцией."
   ]
  },
  {
   "cell_type": "markdown",
   "id": "d0513bb4",
   "metadata": {},
   "source": [
    "***Расстояние*** между двумя светлячками i и j, которые находятся в точках $x_{i}$ и $x_{j}$, вычисляется с использованием декартового расстояния:\n",
    "\n",
    "$r_{ij} = \\sqrt{\\Sigma_{k=1}^{D}(x_{i,k} - x_{j,k})^{2}}$\n",
    "\n",
    "где *D* - количество измерений. \n",
    "\n",
    "***Привлекательность*** (притяжение) каждого светлячка рассчитывается с использованием:\n",
    "\n",
    "$\\beta(r) = \\beta_{0}e^{-\\gamma r^{2}}$\n",
    "\n",
    "***Передвижение*** светлячка *i* по направлению к светлячку *j* расчитывается с помощью:\n",
    "\n",
    "$x^{new}_{i} = x^{old}_{i} + \\beta_{0}e^{-\\gamma r^{2}_{ij}}(x^{old}_{i} - x_{j}) + \\alpha(rand-\\frac{1}{2})$\n",
    "\n",
    "где:\n",
    "\n",
    "$\\alpha$ - псевдослучайный параметр\n",
    "\n",
    "$\\gamma$ - параметр яркости (привлекательности и скорости сходимости)\n",
    "\n",
    "$rand$ - генерируемая псевдослучайная величина"
   ]
  },
  {
   "cell_type": "markdown",
   "id": "542606c7",
   "metadata": {},
   "source": [
    "***Псевдокод алгоритма:***\n",
    "\n",
    "Шаг 1. Определить целевую функцию `obj_func` $f(x)$, где $x = (x_{1},x_{2},...,x_{D})$\n",
    "\n",
    "Шаг 2. Инициализировать популяцию $x_{i}$, $(i=1,2,...N)$\n",
    "\n",
    "Шаг 3. Определить случайным образом начальный параметр $\\alpha, \\beta_{0}, \\gamma$ и максимальное количество поколений - $maxGeneration$\n",
    "\n",
    "Шаг 4. Собственно алгоритм\n",
    "\n",
    "```code\n",
    "Begin\n",
    "While (t<maxGeneration):\n",
    "    For each firefly i=1 to N:\n",
    "        For each firefly j=1 to N:\n",
    "            if obj_func(x_i) < obj_func(x_j):\n",
    "                r_ij = distance(i,j,D)\n",
    "                B_r = attarctivness(y,r)\n",
    "                x_i_new = movement(x_i, x_j, B, a, rand)\n",
    "            endif\n",
    "            # Пересчитать obj_func\n",
    "        end For j\n",
    "    end For i\n",
    "# Сортировать светлячков и найти лучшее решение\n",
    "end While\n",
    "# Обработка и визуализация результатов\n",
    "End\n",
    "```"
   ]
  },
  {
   "cell_type": "markdown",
   "id": "c62dbeed",
   "metadata": {},
   "source": [
    "### 4 The proposed method\n",
    "В этом разделе описывается дискретный алгоритм светлячка (DDFA) и его целевая функция, а также объясняются процессы внедрения и извлечения водяных знаков."
   ]
  },
  {
   "cell_type": "markdown",
   "id": "9f892bf9",
   "metadata": {},
   "source": [
    "#### 4.1 Proposed distinct discrete firefly algorithm (DDFA)"
   ]
  },
  {
   "cell_type": "markdown",
   "id": "7a13256a",
   "metadata": {},
   "source": [
    "Алгоритм Firefly был предложен для решения задач с непрерывными значениями, поскольку эти значения могут быть повторяющимися; следовательно, его нельзя использовать для выбора правильных блоков, которые являются отдельными и дискретными значениями. Поэтому, исходный алгоритм был модифицирован таким образом, чтобы его можно было использовать для решения этой задачи. В предлагаемом алгоритме каждый светлячок вводит возможную последовательность блоков для внедрения водяного знака.\n",
    "\n",
    "Количество измерений ***D*** равно количеству требуемых блоков, а их значения представляют собой различные целые числа от min до max (min равен 1, а max в два раза больше количества требуемых блоков).\n",
    "\n",
    "Для инициализации колонии светлячков генерируются различные перестановки блоков между минимумом и максимумом, и первые значения D каждой перестановки, имеющие различные значения, используются в качестве начальных светлячков.\n",
    "\n",
    "Используя различные перестановки блоков, можно гарантировать, что все измерения будут различны и не будут повторяться.\n",
    "\n",
    "$\\beta$ — это привлекательность (притяжение), то есть величина смещения каждого светлячка в сторону более яркого светлячка. В этом алгоритме для расчета $\\beta$ на каждом раунде используется следующее уравнение:\n",
    "\n",
    "$\\beta = (1 + \\frac{epoch}{max(epoch)}) \\times epoch$\n",
    "\n",
    "$epoch$ - текущая итерация\n",
    "\n",
    "$max(epoch)$ - максимальное количество итераций\n",
    "\n",
    "Так как количество итераций по мере работы алгоритма увеличивается, то и значение $\\beta$ будет увеличиваться. Таким образом, в начальных раундах притяжение меньше, так что поиск выполняется во всех пространствах задачи. Но в последних раундах притяжение увеличивается, так что решения сходятся к оптимальному решению быстрее.\n",
    "$\\alpha$ определяет случайное смещение каждого светлячка и рассчитывается следующим образом:\n",
    "\n",
    "$\\alpha = randi(\\alpha_{0})$\n",
    "\n",
    "где $randi$ - функция возвращающая натуральное число меньше чем $\\alpha_{0}$, а $\\alpha_{0}$ в данной работе определено как 10.\n",
    "\n",
    "Расстояние между светлячками $i$ и $j$ расчитывается по следующей формуле:\n",
    "\n",
    "$r_{ij} = \\frac{\\Sigma_{k=1}^{D}|x_{i,k}-x_{j,k}|}{D_{max}}$\n",
    "\n",
    "где $D$ - это размерность светлячков\n",
    "\n",
    "$D_{max} = (max - min) \\times \\sqrt{D}$\n",
    "\n",
    "Как упоминалось ранее, $min$ равен 1, а $max$ равен удвоенному количеству требуемых блоков, которые выбираются из блоков с более низкой энтропией.\n",
    "\n",
    "Наконец, смещение светлячка $i$ в сторону более яркого светлячка $j$ рассчитывается с помощью следующего уравнения:\n",
    "\n",
    "$$\n",
    "\\begin{align} \n",
    "x_{i}^{new} = \n",
    "\\begin{cases}\n",
    "x_{i}^{old}+\\lfloor \\beta \\times r_{ij} \\rfloor + \\alpha &&if \\space x_{i}^{old} \\leq max - \\lfloor \\beta \\times r_{ij} \\rfloor + \\alpha\\\\\n",
    "x_{i}^{old}+\\lfloor \\beta \\times r_{ij} \\rfloor + \\alpha - max &&else\n",
    "\\end{cases}\n",
    "\\end{align}\n",
    "$$\n",
    "\n",
    "Согласно этому уравнению, $\\lfloor\\beta × r_{ij}\\rfloor + \\alpha$, представляет собой целое число и добавляется ко всем измерениям i-го светлячка.\n",
    "\n",
    "Если при добавлении этого значения некоторые из измерений становятся больше $max$, то эти измерения переносятся в начало интервала и не будут превышать $max$. Поскольку измерения каждого светлячка инициализируются как отдельные и дискретные значения, а при движении ко всем измерениям добавляется постоянное целочисленное значение, то можно гарантировать, что измерения нового светлячка будут отдельными и дискретными. \n",
    "\n",
    "***Псевдокод DDFA:***\n",
    "\n",
    "\n",
    "Шаг 1. Определить целевую функцию $f(x)$ где $x=(x_{1},x_{1},...x_{D})$\n",
    "\n",
    "Шаг 2. Проинициализировать популяцию светлячков $x_{i}$, $(i=1,2,...N)$\n",
    "\n",
    "Шаг 3. Определить максимальное количество поколений (эпох), $min$ и $max$. $min=1$, $max=\\text{Общее количество блоков}$\n",
    "\n",
    "Шаг 4. $D_{max} = (max - min) \\times \\sqrt{D}$\n",
    "\n",
    "Шаг 5. $\\alpha_{0} = 10$\n",
    "\n",
    "Шаг 6. Собственно алгоритм\n",
    "\n",
    "```code\n",
    "Begin\n",
    "While (t<maxGeneration):\n",
    "    For each firefly i=1 to N:\n",
    "        For each firefly j=1 to N:\n",
    "            if obj_func(x_i) < obj_func(x_j):\n",
    "                r_ij = distance(i, j, D)\n",
    "                B = attractivness(epoch, max(epoch))\n",
    "                a = randi(a_0)\n",
    "                x_i_new = movement(x_i, r_ij, a, B, max)\n",
    "            end if\n",
    "            # Расчитать новые значения параметров\n",
    "        end for j\n",
    "    end for i\n",
    "# Сортировка светлячков и выбор наилучшего решения\n",
    "end while\n",
    "# Обработка результатов и визуализация данных\n",
    "```\n"
   ]
  },
  {
   "cell_type": "markdown",
   "id": "e24b4d12",
   "metadata": {},
   "source": [
    "#### 4.2 Objective function and evaluation metrics\n",
    "Целевая функция и метрики оценки качества"
   ]
  },
  {
   "cell_type": "markdown",
   "id": "8c9fff8a",
   "metadata": {},
   "source": [
    "Целевая функция DDFA является функцией минимизации и разработана таким образом, что светлячки с более низкой целевой функцией более привлекательны. Сочетание незаметности и надежности рассматривается как целевая функция и рассчитывается с использованием следующего уравнения\n",
    "\n",
    "$f = \\frac{\\gamma}{PSNR} + \\frac{1}{SSIM} + \\frac{NA}{\\Sigma_{i=1}^{NA}NC_{i}(w,w!)}$\n",
    "\n",
    "В этом уравнении NA — это количество атак, примененных к изображению с водяным знаком, а $\\gamma$ используется для балансировки эффекта PSNR.\n",
    "\n",
    "Нормальная корреляция (NC) — это мера сходства между водяным знаком w и извлеченным водяным знаком w', которая оценивает качество извлеченного водяного знака. NC вычисляется при различных атаках, а их среднее значение используется в целевой функции. Следующее уравнение вычисляет NC:\n",
    "\n",
    "$NC = \\frac\n",
    "{\\Sigma_{i=1}^{m}\\Sigma_{i=1}^{n}w(i,j) \\times w'(i,j)}\n",
    "{\\Sigma_{i=1}^{m}\\Sigma_{i=1}^{n}(w(i,j))^{2}}$\n",
    "\n",
    "где $m$ и $n$ - это размерности погружаемого изображения.\n",
    "\n",
    "Значение $NC$ варьируется от 0 до 1. Если для двух произвольных изображений $NC=1$, значит эти изображения полностью идентичны.\n",
    "\n",
    "Качество изображения с водяным знаком оценивается с помощью PSNR и SSIM. Эти показатели применяются к изображениям с водяным знаком, до того как к нему применится какая-либо атака.\n",
    "PSNR — это статистическая мера сходства между исходным изображением и обработанным изображением, измеряемая в дБ.\n",
    "\n",
    "$RMSE = \\sqrt{\\frac{1}{MN}\\Sigma_{M,N}[I(i,j)-I'(i,j)]^{2}}$\n",
    "\n",
    "$PSNR = 10log10(R^{2}/RMSE)$\n",
    "\n",
    "В этом уравнении $M$ и $N$ — размеры изображения обложки, а $R$ — максимально возможное значение пикселя изображения. Если пиксели представлены с использованием 8 бит на образец, это будет 255.\n",
    "\n",
    "SSIM — это еще один параметр для измерения качества изображения, который разработан таким образом, что если два изображения более похожи, то этот показатель ближе к 1."
   ]
  },
  {
   "cell_type": "code",
   "execution_count": 4,
   "id": "2f44b2c5",
   "metadata": {},
   "outputs": [],
   "source": [
    "#!pip3 install scikit-image --break-system-packages"
   ]
  },
  {
   "cell_type": "code",
   "execution_count": 5,
   "id": "9aeee08e",
   "metadata": {
    "scrolled": true
   },
   "outputs": [
    {
     "name": "stdout",
     "output_type": "stream",
     "text": [
      "\n",
      "    Compute the mean structural similarity index between two images.\n",
      "    Please pay attention to the `data_range` parameter with floating-point images.\n",
      "\n",
      "    Parameters\n",
      "    ----------\n",
      "    im1, im2 : ndarray\n",
      "        Images. Any dimensionality with same shape.\n",
      "    win_size : int or None, optional\n",
      "        The side-length of the sliding window used in comparison. Must be an\n",
      "        odd value. If `gaussian_weights` is True, this is ignored and the\n",
      "        window size will depend on `sigma`.\n",
      "    gradient : bool, optional\n",
      "        If True, also return the gradient with respect to im2.\n",
      "    data_range : float, optional\n",
      "        The data range of the input image (difference between maximum and\n",
      "        minimum possible values). By default, this is estimated from the image\n",
      "        data type. This estimate may be wrong for floating-point image data.\n",
      "        Therefore it is recommended to always pass this scalar value explicitly\n",
      "        (see note below).\n",
      "    channel_axis : int or None, optional\n",
      "        If None, the image is assumed to be a grayscale (single channel) image.\n",
      "        Otherwise, this parameter indicates which axis of the array corresponds\n",
      "        to channels.\n",
      "\n",
      "        .. versionadded:: 0.19\n",
      "           ``channel_axis`` was added in 0.19.\n",
      "    gaussian_weights : bool, optional\n",
      "        If True, each patch has its mean and variance spatially weighted by a\n",
      "        normalized Gaussian kernel of width sigma=1.5.\n",
      "    full : bool, optional\n",
      "        If True, also return the full structural similarity image.\n",
      "\n",
      "    Other Parameters\n",
      "    ----------------\n",
      "    use_sample_covariance : bool\n",
      "        If True, normalize covariances by N-1 rather than, N where N is the\n",
      "        number of pixels within the sliding window.\n",
      "    K1 : float\n",
      "        Algorithm parameter, K1 (small constant, see [1]_).\n",
      "    K2 : float\n",
      "        Algorithm parameter, K2 (small constant, see [1]_).\n",
      "    sigma : float\n",
      "        Standard deviation for the Gaussian when `gaussian_weights` is True.\n",
      "\n",
      "    Returns\n",
      "    -------\n",
      "    mssim : float\n",
      "        The mean structural similarity index over the image.\n",
      "    grad : ndarray\n",
      "        The gradient of the structural similarity between im1 and im2 [2]_.\n",
      "        This is only returned if `gradient` is set to True.\n",
      "    S : ndarray\n",
      "        The full SSIM image.  This is only returned if `full` is set to True.\n",
      "\n",
      "    Notes\n",
      "    -----\n",
      "    If `data_range` is not specified, the range is automatically guessed\n",
      "    based on the image data type. However for floating-point image data, this\n",
      "    estimate yields a result double the value of the desired range, as the\n",
      "    `dtype_range` in `skimage.util.dtype.py` has defined intervals from -1 to\n",
      "    +1. This yields an estimate of 2, instead of 1, which is most often\n",
      "    required when working with image data (as negative light intensities are\n",
      "    nonsensical). In case of working with YCbCr-like color data, note that\n",
      "    these ranges are different per channel (Cb and Cr have double the range\n",
      "    of Y), so one cannot calculate a channel-averaged SSIM with a single call\n",
      "    to this function, as identical ranges are assumed for each channel.\n",
      "\n",
      "    To match the implementation of Wang et al. [1]_, set `gaussian_weights`\n",
      "    to True, `sigma` to 1.5, `use_sample_covariance` to False, and\n",
      "    specify the `data_range` argument.\n",
      "\n",
      "    .. versionchanged:: 0.16\n",
      "        This function was renamed from ``skimage.measure.compare_ssim`` to\n",
      "        ``skimage.metrics.structural_similarity``.\n",
      "\n",
      "    References\n",
      "    ----------\n",
      "    .. [1] Wang, Z., Bovik, A. C., Sheikh, H. R., & Simoncelli, E. P.\n",
      "       (2004). Image quality assessment: From error visibility to\n",
      "       structural similarity. IEEE Transactions on Image Processing,\n",
      "       13, 600-612.\n",
      "       https://ece.uwaterloo.ca/~z70wang/publications/ssim.pdf,\n",
      "       :DOI:`10.1109/TIP.2003.819861`\n",
      "\n",
      "    .. [2] Avanaki, A. N. (2009). Exact global histogram specification\n",
      "       optimized for structural similarity. Optical Review, 16, 613-621.\n",
      "       :arxiv:`0901.0065`\n",
      "       :DOI:`10.1007/s10043-009-0119-z`\n",
      "\n",
      "    \n"
     ]
    }
   ],
   "source": [
    "from skimage.metrics import structural_similarity as ssim\n",
    "\n",
    "print(ssim.__doc__)"
   ]
  },
  {
   "cell_type": "markdown",
   "id": "4e590415",
   "metadata": {},
   "source": [
    "#### 4.3 Watermark embedding process\n",
    "Погружение ЦВЗ"
   ]
  },
  {
   "cell_type": "markdown",
   "id": "dd45ebb0",
   "metadata": {},
   "source": [
    "Для того чтобы вложить двоичное изображение размером $n \\times n$ в покрывающее изображение размером $M \\times N$ выполняются следующие шаги:\n",
    "\n"
   ]
  },
  {
   "cell_type": "markdown",
   "id": "64f374e3",
   "metadata": {},
   "source": [
    "***Шаг 1*** \n",
    "\n",
    "Покрывающее изображение делится на не перекрывающиеся блоки размером 8 x 8 и складывается в массив длинной 4096\n",
    "\n",
    "***Шаг 2***\n",
    "\n",
    "Для каждого блока расчитывается энтропия.\n",
    "Затем из блоков с более низкой энтропией выбирается двойное количество требуемых блоков. В каждый блок встраивается 4 бита. Таким образом, для встраивания водяного знака размерностью $n \\times n$, необходимо $\\frac{n^{2}}{4}$ блоков. Поскольку мы берем двукратное количество таких блоков, то необходимо $\\frac{n^{2}}{2}$ блоков. \n",
    "\n",
    "***Шаг 3***\n",
    "\n",
    "Используя DDFA выбираются наиболее подходящие блоки для погружения ЦВЗ. Координаты $x, y$ выбранных блоков сохраняются в виде двух матриц в качестве секретного ключа стеганограммы. \n",
    "\n",
    "В каждом блоке 4 бита ЦВЗ погружаются в 4 коэффициента матрицы Адамара: $c_{3,2}, c_{3,6}, c_{7,2}, c_{7,6}$. Шаги 4 - 6 повторяются для каждого блока пока все биты ЦВЗ не будут погружены.\n",
    "\n",
    "***Шаг 4***\n",
    "\n",
    "Преобразование Адамара применяется к текущему выбранному блоку и получаются коэффициенты результирующей матрицы.\n",
    "Для каждого коэффициента $c_{3,2}, c_{3,6}, c_{7,2}, c_{7,6}$ выполняется шаг 5.\n",
    "\n",
    "***Шаг 5***\n",
    "\n",
    "Вычисляется $avg_{i,j}$ по формуле:\n",
    "\n",
    "$avg_{i.j} = (c_{i-1,j-1} + c_{i-1,j} + c_{i-1,j+1} + c_{i,j-1} + c_{i,j+1} + c_{i+1,j-1} + c_{i+1,j} + c_{i+1,j+1}) / 8$\n",
    "\n",
    "Далее бит ЦВЗ погружается в коэффициент результирующей матрицы по формуле:\n",
    "\n",
    "$$\n",
    "\\begin{align} \n",
    "c'_{i,j} = \n",
    "\\begin{cases}\n",
    "avg_{i,j}+Th &&if \\space w(k)=1\\\\\n",
    "avg_{i,j}-Th &&if \\space w(k)=0\n",
    "\\end{cases}\n",
    "\\end{align}\n",
    "$$\n",
    "\n",
    "В этом уравнении $Th$ - пороговое значение, константа, а $i = 3, 7$ и $j = 2, 6$. Далее кожффициента матрицы $c_{i,j}$ заменяются на $c'_{i,j}$ \n",
    "\n",
    "***Шаг 6***\n",
    "\n",
    "Обратное преобразование Адамара применяется к текущему блоку.\n",
    "\n",
    "***Шаг 7***\n",
    "\n",
    "Блоки 8 х 8 соединятся вместе образую стеганограмму"
   ]
  },
  {
   "cell_type": "markdown",
   "id": "7a35b383",
   "metadata": {},
   "source": [
    "#### 4.4 Watermark extraction\n",
    "Извлечение ЦВЗ"
   ]
  },
  {
   "cell_type": "markdown",
   "id": "7c527925",
   "metadata": {},
   "source": [
    "В предлагаемой схеме для извлечение ЦВЗ не требуется наличие отдельно покрывающего объекта, а осуществляется из готовой стеганограммы, которая могла быть подвержена каким-то атакам и ключа ЦВЗ который содержит координаты блоков изображения в которое было вложение. \n",
    "\n",
    "Извлечение ЦВЗ состоит из следующих шагов:\n",
    "\n",
    "***Шаг 1***\n",
    "\n",
    "Стеганограмма дробится на блоки размером 8 х 8\n",
    "\n",
    "***Шаг 2***\n",
    "\n",
    "Используя секретный ключ полученный при погружении ЦВЗ получаем координаты блоков и сами блоки с вложенным изображением. Для каждого блока повторяются шаги 3 и 4 пока не будут добыты вложенные биты\n",
    "\n",
    "***Шаг 3***\n",
    "\n",
    "К блоку с вложенным ЦВЗ применяется преобразование Адамара и получется результирующая матрица с коэффициентами Адамара.\n",
    "\n",
    "***Шаг 4***\n",
    "\n",
    "Для каждого коэффициента $c''_{3,2}, c''_{3,6}, c''_{7,2}, c''_{7,6}$ высчитывается $avg'_{i,j}$ по той же формуле что и при погружении ЦВЗ и биты ЦВЗ добываются при помощи следующего правила:\n",
    "\n",
    "$$\n",
    "\\begin{align} \n",
    "w'(k) = \n",
    "\\begin{cases}\n",
    "1 &&if \\space avg'_{i,j} \\leq c''_{i,j}\\\\\n",
    "0 &&if \\space avg'_{i,j} > c''_{i,j}\n",
    "\\end{cases}\n",
    "\\end{align}\n",
    "$$\n",
    "\n",
    "В этом выражении:\n",
    "\n",
    "$1 \\le k \\le n^{2}$ для ЦВЗ размерностью $n \\times n$\n",
    "\n",
    "$i = 3,7$\n",
    "\n",
    "$j = 2,6$\n",
    "\n",
    "***Шаг 5***\n",
    "\n",
    "Биты $w(k)$ выстраиваются один за другим и создавая обнаруженный ЦВЗ"
   ]
  },
  {
   "cell_type": "markdown",
   "id": "182f2ad0",
   "metadata": {},
   "source": [
    "### 5 Experimental results\n",
    "Результаты экспериментов"
   ]
  },
  {
   "cell_type": "markdown",
   "id": "678a3163",
   "metadata": {},
   "source": [
    "***Исходные параметры***\n",
    "\n",
    "$\\alpha_{0} = 10$\n",
    "\n",
    "$N = 10$  # Количество светлячков\n",
    "\n",
    "$i = \\frac{n^{2}}{4}$ # Длина светлячка\n",
    "\n",
    "$max_epoch = 100$  # Количество итераций\n",
    "\n",
    "$D = randomi(1, \\frac{n^{2}}{2})$\n",
    "\n",
    "$\\gamma = 10$\n",
    "\n",
    "$Th$ - для каждого изображения устанавливался индивидуально, таким образом, чтобы среднее значение NC было больше 0,8, PSNR было больше 45, а SSIM было больше 0,99.\n",
    "\n",
    "В рамках эксперимента DDFA выполнялся 30 раз для каждого изображения.\n",
    "\n",
    "Для оценки незаметности предлагаемой схемы тестовые изображения помечаются водяными знаками с использованием двух изображений водяных знаков logo.png и flower.png. PSNR и SSIM рассчитываются до того как к изображениям не применялась атака. В таблице 1 показаны полученные результаты. Высокие значения PSNR и SSIM показывают хорошее качество изображения с водяным знаком."
   ]
  },
  {
   "cell_type": "markdown",
   "id": "f9c9d375",
   "metadata": {},
   "source": [
    "Из 12 изображений приведенных в статье удалось найти 10. Повторять эксперимент буду на них."
   ]
  },
  {
   "cell_type": "code",
   "execution_count": 6,
   "id": "48dc42c9",
   "metadata": {},
   "outputs": [
    {
     "name": "stdout",
     "output_type": "stream",
     "text": [
      "total 1308\r\n",
      "-rw-r--r-- 1 evgeny evgeny 205378 Mar 28 18:43 baboon.png\r\n",
      "-rw-r--r-- 1 evgeny evgeny 166785 Mar 28 18:44 boat.png\r\n",
      "-rw-r--r-- 1 evgeny evgeny 147363 Mar 28 18:44 couple.png\r\n",
      "-rw-r--r-- 1 evgeny evgeny 140828 Mar 28 18:45 f16.png\r\n",
      "-rw-r--r-- 1 evgeny evgeny   5290 Mar 28 17:54 flower.png\r\n",
      "-rw-r--r-- 1 evgeny evgeny 151869 Mar 28 18:45 lena.png\r\n",
      "-rw-r--r-- 1 evgeny evgeny   1442 Mar 31 13:05 logo.png\r\n",
      "-rw-r--r-- 1 evgeny evgeny 159244 Mar 28 18:50 man.png\r\n",
      "-rw-r--r-- 1 evgeny evgeny 163086 Mar 28 18:47 peppers.png\r\n",
      "-rw-r--r-- 1 evgeny evgeny 179517 Mar 28 18:48 sailboat.png\r\n"
     ]
    }
   ],
   "source": [
    "!ls -l pic/"
   ]
  },
  {
   "cell_type": "markdown",
   "id": "26f17c4c",
   "metadata": {},
   "source": [
    "#### 5.1 Embedding, PSNR and SSIM\n",
    "Погружение ЦВЗ, получение метрик PSNR и SSIM"
   ]
  },
  {
   "cell_type": "code",
   "execution_count": 7,
   "id": "0a02bff6",
   "metadata": {},
   "outputs": [],
   "source": [
    "from src.watermark import Watermark"
   ]
  },
  {
   "cell_type": "code",
   "execution_count": 8,
   "id": "776ca719",
   "metadata": {},
   "outputs": [
    {
     "name": "stderr",
     "output_type": "stream",
     "text": [
      "/home/evgeny/Documents/vkr/src/watermark.py:86: RuntimeWarning: divide by zero encountered in log\n",
      "  items.append(i * np.log(i))\n",
      "/home/evgeny/Documents/vkr/src/watermark.py:86: RuntimeWarning: invalid value encountered in scalar multiply\n",
      "  items.append(i * np.log(i))\n"
     ]
    },
    {
     "data": {
      "text/plain": [
       "array([[False, False, False, ..., False, False, False],\n",
       "       [False, False, False, ..., False, False, False],\n",
       "       [False, False, False, ..., False, False, False],\n",
       "       ...,\n",
       "       [False, False, False, ..., False, False, False],\n",
       "       [False, False, False, ..., False, False, False],\n",
       "       [False, False, False, ..., False, False, False]])"
      ]
     },
     "execution_count": 8,
     "metadata": {},
     "output_type": "execute_result"
    }
   ],
   "source": [
    "# Из изображения получаем матрицу размером 512х512 из\n",
    "# целочисленных значений от 0 до 255\n",
    "watermark = Watermark(\"pic/baboon.png\", \"pic/logo.png\")\n",
    "\n",
    "# \n",
    "watermark.image_matrix\n",
    "\n",
    "# \n",
    "watermark.block_array\n",
    "\n",
    "# \n",
    "watermark.entropies\n",
    "\n",
    "# \n",
    "watermark.candidate_blocks_count\n",
    "\n",
    "#\n",
    "watermark.candidate_blocks\n",
    "\n",
    "#\n",
    "len(watermark.candidate_blocks) == watermark.candidate_blocks_count\n",
    "\n",
    "#\n",
    "watermark.embedded_image_bin"
   ]
  },
  {
   "cell_type": "code",
   "execution_count": 9,
   "id": "f2badc5a",
   "metadata": {},
   "outputs": [
    {
     "data": {
      "text/plain": [
       "[{'index': 1935,\n",
       "  'entropy': 6.472411376006848,\n",
       "  'block': array([[ 16,  21,  39,  34,  58,  86, 121, 150],\n",
       "         [ 30,  40,  28,  32,  35,  72, 133, 155],\n",
       "         [ 22,  27,  28,  27,  23,  56, 138, 155],\n",
       "         [ 23,  20,  15,  24,  25,  55, 135, 150],\n",
       "         [ 20,  11,  17,   9,  15,  54, 131, 133],\n",
       "         [ 32,  31,  21,  15,  17,  30, 106, 141],\n",
       "         [ 34,  21,  20,  17,  32,  24,  88, 123],\n",
       "         [ 30,  24,  16,  23,  14,  19,  71, 136]]),\n",
       "  'hadamard': array([[  16,   21,   39,   34,   58,   86,  121,  150],\n",
       "         [  30,  -40,   28,  -32,   35,  -72,  133, -155],\n",
       "         [  22,   27,  -28,  -27,   23,   56, -138, -155],\n",
       "         [  23,  -20,  -15,   24,   25,  -55, -135,  150],\n",
       "         [  20,   11,   17,    9,  -15,  -54, -131, -133],\n",
       "         [  32,  -31,   21,  -15,  -17,   30, -106,  141],\n",
       "         [  34,   21,  -20,  -17,  -32,  -24,   88,  123],\n",
       "         [  30,  -24,  -16,   23,  -14,   19,   71, -136]]),\n",
       "  'coefficients': (27, 56, 21, -24)}]"
      ]
     },
     "execution_count": 9,
     "metadata": {},
     "output_type": "execute_result"
    }
   ],
   "source": [
    "watermark.candidate_blocks[:1]"
   ]
  },
  {
   "cell_type": "code",
   "execution_count": null,
   "id": "8227847b",
   "metadata": {},
   "outputs": [],
   "source": []
  }
 ],
 "metadata": {
  "kernelspec": {
   "display_name": "Python 3 (ipykernel)",
   "language": "python",
   "name": "python3"
  },
  "language_info": {
   "codemirror_mode": {
    "name": "ipython",
    "version": 3
   },
   "file_extension": ".py",
   "mimetype": "text/x-python",
   "name": "python",
   "nbconvert_exporter": "python",
   "pygments_lexer": "ipython3",
   "version": "3.11.2"
  }
 },
 "nbformat": 4,
 "nbformat_minor": 5
}
