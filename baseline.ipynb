{
 "cells": [
  {
   "cell_type": "markdown",
   "id": "6f28f466",
   "metadata": {},
   "source": [
    "## Часть 1. \n",
    "### Воспроизведение алгоритма описанного в статье Elham Moeinaddini от 22 сентября 2018"
   ]
  },
  {
   "cell_type": "markdown",
   "id": "ea9056fb",
   "metadata": {},
   "source": [
    "***Keywords:** Optimal block selection · Distinct discrete firefly algorithm · Entropy · Robustness · Transparency*\n",
    "\n",
    "***Ключевые слова:** Оптимизация выбора блоков · Дискретный светлячковый алгоритм · Энтропия · Устойчивость · Незаметность*"
   ]
  },
  {
   "cell_type": "markdown",
   "id": "0c1f2058",
   "metadata": {},
   "source": [
    "### 1 Introduction"
   ]
  },
  {
   "cell_type": "markdown",
   "id": "cb3bed53",
   "metadata": {},
   "source": [
    "Решается задача оптимизация показателей незаметности и устойчивости алгоритма. Они зависят от текстуры изображения. При размытой структуре картинки увеличивается устойчивость но изображение становится заметным. При погружении картинки в четкое изображение незаметность повышается но ухудшается устойчивость к атакам. Текстура изображения описывается параметрами: дисперсия, энтропия и страндартное отклонение. Используя эти параметры для погружения изображения можно  улучшить лишь один из показателей но нельзя решить задачу их оптимизации"
   ]
  },
  {
   "cell_type": "markdown",
   "id": "27b997d3",
   "metadata": {},
   "source": [
    "Поскольку ставится задача - оптимальный выбор блоков изображения для погружения ЦВЗ с оптимальными парметрами незаметности и устойчивости, то одним из  способов её решения может быть применение метаэвристики. За последнее время учеными были успешно применены различные подходы на основе популяционных и роевых алгоритмов"
   ]
  },
  {
   "cell_type": "markdown",
   "id": "607ded84",
   "metadata": {},
   "source": [
    "В этой статье предложена новая схема оптимального выбора блоков с применением комбинации энтропии и алгоритма светлячков. Поскольку номера блоков являются различными и дискретными значениями, алгоритм светлячков должен быть модифицирован для генерации различных и дискретных значений. DDFA — это улучшенная версия алгоритма светлячков, которая предлагается в этой статье для генерации таких значений."
   ]
  },
  {
   "cell_type": "markdown",
   "id": "108eea87",
   "metadata": {},
   "source": [
    "Другим фактором, который может повысить эффективность схемы погружения ЦВЗ, является выбор подходящего домена преобразования. Аналитические и имитационные методы показывают, что преобразование Адамара обеспечивает хорошую прозрачность, при этом устойчиво к большинству атак и процессов. В процессе внедрения предлагаемой схемы после выбора правильных блоков биты водяного знака внедряются в коэффициенты Адамара с использованием средних соседних коэффициентов, а **местоположение выбранных блоков сохраняется как секретный ключ для извлечения**."
   ]
  },
  {
   "cell_type": "markdown",
   "id": "a230c9d4",
   "metadata": {},
   "source": [
    "Преобразование Адамара как частотная область и комбинация энтропии и DDFA для выбора блоков улучшают и балансируют прозрачность и надежность водяного знака. Предлагаемая схема является новой в случае введения DDFA для выбора оптимальных блоков и использования нового метода для встраивания водяного знака в коэффициенты Адамара. Кроме того, эта схема достигает хорошей незаметности и надежности по сравнению с другими существующими схемами."
   ]
  },
  {
   "cell_type": "markdown",
   "id": "1670025d",
   "metadata": {},
   "source": [
    "Остальная часть этой статьи организована следующим образом: Раздел 2 рассматривает связанные исследования. Раздел 3 представляет используемые концепции и алгоритмы. Предлагаемый метод DDFA и водяных знаков описаны в Разделе 4. Раздел 5 представляет эксперименты и результаты. Раздел 6 сравнивает результаты предлагаемой схемы с существующими схемами, и, наконец, статья завершается в Разделе 7."
   ]
  },
  {
   "cell_type": "markdown",
   "id": "f8b9b18f",
   "metadata": {},
   "source": [
    "### 2 Related works"
   ]
  },
  {
   "cell_type": "markdown",
   "id": "0aaf890f",
   "metadata": {},
   "source": [
    "Наиболее важной частью предлагаемой схемы является мета-эвристический выбор блоков изображения обложки для внедрения водяного знака. В этом разделе описываются некоторые из блочных схем водяных знаков и их методы выбора блоков."
   ]
  },
  {
   "cell_type": "markdown",
   "id": "ce6c1570",
   "metadata": {},
   "source": [
    "Многие исследователи использовали энтропию для выбора блоков. В этих схемах визуальная энтропия и энтропия края для каждого блока рассчитываются с использованием отношений, определенных Шенноном, и блоки выбираются на основе этой информации (Шеннон 1948).\n",
    "\n",
    "Метод, предложенный Майти и соавторами, делит блоки изображения на основе их энтропии на блоки с низкой, средней и высокой информативностью (Майти и Кунду, 2010). Водяной знак встраивается в блоки с низкой и средней информативностью. Изображения, помеченные водяным знаком с использованием этого метода, не обладают хорошей прозрачностью, и, кроме того, надежность этого метода низкая.\n",
    "\n",
    "Другой метод, который использует энтропию, предложен Лаем (2011). В этом методе энтропия вычисляется для каждого блока, и блоки с более низкой энтропией выбираются для встраивания. Хотя эта схема обеспечивает хорошую прозрачность, ее устойчивость к различным атакам не очень хорошая.\n",
    "\n",
    "Франклин и др. (2011) предложили обоснованный метод для погружения ЦВЗ в изображения с использованием визуальной энтропии. В этом методе визуальная энтропия и пороговое значение вычисляются для каждого блока, и выбираются блоки, энтропия которых больше порогового значения. Надежность этого метода низкая, но его прозрачность приемлема.\n",
    "\n",
    "Али и др. (2015) предложили слепой метод для нанесения водяных знаков на изображения, в котором соответствующие блоки выбираются с использованием энтропии. В этом методе сначала к изображению обложки применяется перераспределенное инвариантное вейвлет-преобразование, а его низкочастотный поддиапазон делится на неперекрывающиеся блоки. Затем для внедрения водяного знака выбираются блоки с более низкой энтропией. К выбранным блокам применяется SVD, а биты водяного знака внедряются в первый столбец левой сингулярной матрицы с использованием различных пороговых значений. Алгоритм искусственной пчелиной колонии используется для оптимизации пороговых значений. Этот метод имеет приемлемую надежность и прозрачность, но низкую полезную нагрузку.\n",
    "\n",
    "В некоторых схемах ЦВЗ статистические параметры, такие как дисперсия и стандартное отклонение, используются для выбора подходящих блоков. Каземиваш и Эбрахими Могаддам (2016) использовали стандартное отклонение для выбора подходящих блоков. В этой схеме после применения подъемного вейвлет-преобразования к изображению обложки низкочастотная часть изображения делится на блоки 3 × 3. Блоки с более высоким стандартным отклонением выбираются, и некоторые из них игнорируются для баланса прозрачности и надежности. Проигнорированные блоки выбираются алгоритмом Firefly. Надежность этого метода хорошая, но его прозрачность неприемлема. В этой схеме алгоритм Firefly используется для поиска блоков, которые следует исключить, и он не используется напрямую для выбора блоков.\n",
    "\n",
    "В другом методе, предложенном теми же авторами, стандартное отклонение снова используется для выбора блоков (Kazemivash and Moghaddam 2017). В этом методе, как и в предыдущем методе, после применения подъемного вейвлет-преобразования к изображению обложки его низкочастотная часть делится на блоки 3 × 3, но в отличие от предыдущего метода, для внедрения водяного знака используются блоки с меньшим стандартным отклонением. Прозрачность этого метода невысокая, но его надежность высокая.\n",
    "\n",
    "В методе, предложенном Райханом, дисперсия используется для выбора блоков (Райхан и Гогои 2017). Преобразование Уолша-Адамара применяется к блокам 8 × 8, которые имеют более высокую дисперсию, и два бита водяного знака встроены в каждый блок с коэффициентами DC. Хотя прозрачность этого метода хорошая, его надежность не была исследована.\n",
    "\n",
    "В схеме, предложенной Аунгом и др., для повышения прозрачности используются блоки с низкой амплитудой для внедрения водяного знака (Аунг и др. 2011). Надежность этого метода высока, но его прозрачность не так хороша.\n",
    "\n",
    "Лучший результат был получен Саркером и др. для выбора последовательности блоков для нанесения водяных знаков (Саркер и Хан 2013). В этом методе после деления изображения обложки на блоки 8 × 8 и применения преобразования Адамара используется BFS для поиска самой длинной последовательности блоков с наибольшими коэффициентами (за исключением коэффициента DC). Блокировка и преобразование Адамара применяются также к изображению водяного знака, и коэффициенты этих блоков умножаются на коэффициент масштабирования, а затем заменяются выбранными блоками изображения обложки. Поскольку водяной знак встроен во все коэффициенты, кроме коэффициента DC, этот метод уязвим к различным шумам.\n",
    "\n",
    "В целом, основываясь на смежных работах, учитывая силу схем, предложенных Франклином и др. (2011), Али и др. (2015) и Каземивашем и Эбрахими Могаддамом (2016), мотивируют нас использовать энтропию и метод роевого интеллекта для выбора подходящих блоков для нанесения водяных знаков. Таким образом, для выбора блоков выбран и улучшен мощный алгоритм оптимизации, называемый алгоритмом Firefly. Стоит сказать, что до сих пор ни одна схема нанесения водяных знаков не использовала комбинацию энтропии и алгоритма Firefly для выбора оптимальных блоков."
   ]
  },
  {
   "cell_type": "markdown",
   "id": "c897aad3",
   "metadata": {},
   "source": [
    "### 3 Reviewing concepts and employed algorithms\n",
    "В этом разделе кратко описаны концепции и используемые алгоритмы."
   ]
  },
  {
   "cell_type": "markdown",
   "id": "de7a0fd8",
   "metadata": {},
   "source": [
    "#### 3.1 Hadamard transform\n",
    "Преобразование Адамара"
   ]
  },
  {
   "cell_type": "markdown",
   "id": "0839528e",
   "metadata": {},
   "source": [
    "Двумерное преобразование Адамара — это ортогональное несинусоидальное преобразование, которое уменьшает полосу пропускания сигнала и, следовательно, уменьшает пространство, необходимое для хранения, и это быстрое преобразование. Двумерное преобразование Адамара работает на основе матрицы Адамара. Матрица Адамара — это матрица 2n × 2n, включающая + 1 и − 1, где ее столбцы и строки ортогональны. Из-за ортогональности строк и столбцов матрица Адамара обладает особыми свойствами:\n",
    "\n",
    "$H^{T}A = HH^{T} = E$\n",
    "\n",
    "$H = H^{-1} = H^{T} = H^{*}$"
   ]
  },
  {
   "cell_type": "code",
   "execution_count": 1,
   "id": "05d1bc6e",
   "metadata": {
    "scrolled": true
   },
   "outputs": [
    {
     "name": "stdout",
     "output_type": "stream",
     "text": [
      "\n",
      "    Construct an Hadamard matrix.\n",
      "\n",
      "    Constructs an n-by-n Hadamard matrix, using Sylvester's\n",
      "    construction. `n` must be a power of 2.\n",
      "\n",
      "    Parameters\n",
      "    ----------\n",
      "    n : int\n",
      "        The order of the matrix. `n` must be a power of 2.\n",
      "    dtype : dtype, optional\n",
      "        The data type of the array to be constructed.\n",
      "\n",
      "    Returns\n",
      "    -------\n",
      "    H : (n, n) ndarray\n",
      "        The Hadamard matrix.\n",
      "\n",
      "    Notes\n",
      "    -----\n",
      "    .. versionadded:: 0.8.0\n",
      "\n",
      "    Examples\n",
      "    --------\n",
      "    >>> from scipy.linalg import hadamard\n",
      "    >>> hadamard(2, dtype=complex)\n",
      "    array([[ 1.+0.j,  1.+0.j],\n",
      "           [ 1.+0.j, -1.-0.j]])\n",
      "    >>> hadamard(4)\n",
      "    array([[ 1,  1,  1,  1],\n",
      "           [ 1, -1,  1, -1],\n",
      "           [ 1,  1, -1, -1],\n",
      "           [ 1, -1, -1,  1]])\n",
      "\n",
      "    \n"
     ]
    }
   ],
   "source": [
    "#!pip3 install scipy --break-system-packages\n",
    "from scipy.linalg import hadamard\n",
    "\n",
    "# Hadamard matrix docstring\n",
    "print(hadamard.__doc__)"
   ]
  },
  {
   "cell_type": "markdown",
   "id": "94b1b5c8",
   "metadata": {},
   "source": [
    "В предлагаемой схеме преобразование Адамара применяется к блокам 8 × 8 с использованием матрицы Адамара степени 3. Эта матрица представлена ниже."
   ]
  },
  {
   "cell_type": "code",
   "execution_count": 2,
   "id": "9a4dab50",
   "metadata": {},
   "outputs": [
    {
     "name": "stdout",
     "output_type": "stream",
     "text": [
      "[[ 1  1  1  1  1  1  1  1]\n",
      " [ 1 -1  1 -1  1 -1  1 -1]\n",
      " [ 1  1 -1 -1  1  1 -1 -1]\n",
      " [ 1 -1 -1  1  1 -1 -1  1]\n",
      " [ 1  1  1  1 -1 -1 -1 -1]\n",
      " [ 1 -1  1 -1 -1  1 -1  1]\n",
      " [ 1  1 -1 -1 -1 -1  1  1]\n",
      " [ 1 -1 -1  1 -1  1  1 -1]]\n"
     ]
    }
   ],
   "source": [
    "# Hadamard matrix\n",
    "print(hadamard(2**3))"
   ]
  },
  {
   "cell_type": "markdown",
   "id": "9ce09668",
   "metadata": {},
   "source": [
    "#### 3.2 Entropy-based block selection\n",
    "Выбор блока на основе энтропии"
   ]
  },
  {
   "cell_type": "markdown",
   "id": "1e764a2f",
   "metadata": {},
   "source": [
    "Энтропия является подходящей мерой пространственной корреляции соседних пикселей. Определение энтропии Шеннона для вычисления визуальной энтропии изображения дается следующим образом (Шеннон, 1948):\n",
    "\n",
    "$E = -\\Sigma_{i=1}^{n}p_{i}log p_{i}$\n",
    "\n",
    "где $p_{i}$ - вероятность события $i$, \n",
    "\n",
    "$0 <= p_{i} <= 1$\n",
    "\n",
    "$\\Sigma_{i=1}^{n}p_{i} = 1$"
   ]
  },
  {
   "cell_type": "markdown",
   "id": "0016bdd0",
   "metadata": {},
   "source": [
    "В этом уравнении сигнал рассматривается как последовательность символов. Энтропия зависит от относительного появления символов, независимо от позиций появления. Очевидно, что необходимо иметь некоторую информацию о характеристиках изображения, чтобы достичь незаметного и надежного водяного знака."
   ]
  },
  {
   "cell_type": "code",
   "execution_count": 3,
   "id": "522175bb",
   "metadata": {
    "scrolled": true
   },
   "outputs": [
    {
     "name": "stdout",
     "output_type": "stream",
     "text": [
      "    \n",
      "\n",
      "\n",
      "Calculate the Shannon entropy/relative entropy of given distribution(s).\n",
      "\n",
      "If only probabilities `pk` are given, the Shannon entropy is calculated as\n",
      "``H = -sum(pk * log(pk))``.\n",
      "\n",
      "If `qk` is not None, then compute the relative entropy\n",
      "``D = sum(pk * log(pk / qk))``. This quantity is also known\n",
      "as the Kullback-Leibler divergence.\n",
      "\n",
      "This routine will normalize `pk` and `qk` if they don't sum to 1.\n",
      "\n",
      "Parameters\n",
      "----------\n",
      "pk : array_like\n",
      "    Defines the (discrete) distribution. Along each axis-slice of ``pk``,\n",
      "    element ``i`` is the  (possibly unnormalized) probability of event\n",
      "    ``i``.\n",
      "qk : array_like, optional\n",
      "    Sequence against which the relative entropy is computed. Should be in\n",
      "    the same format as `pk`.\n",
      "base : float, optional\n",
      "    The logarithmic base to use, defaults to ``e`` (natural logarithm).\n",
      "axis : int or None, default: 0\n",
      "    If an int, the axis of the input along which to compute the statistic.\n",
      "    The statistic of each axis-slice (e.g. row) of the input will appear in a\n",
      "    corresponding element of the output.\n",
      "    If ``None``, the input will be raveled before computing the statistic.\n",
      "nan_policy : {'propagate', 'omit', 'raise'}\n",
      "    Defines how to handle input NaNs.\n",
      "    \n",
      "    - ``propagate``: if a NaN is present in the axis slice (e.g. row) along\n",
      "      which the  statistic is computed, the corresponding entry of the output\n",
      "      will be NaN.\n",
      "    - ``omit``: NaNs will be omitted when performing the calculation.\n",
      "      If insufficient data remains in the axis slice along which the\n",
      "      statistic is computed, the corresponding entry of the output will be\n",
      "      NaN.\n",
      "    - ``raise``: if a NaN is present, a ``ValueError`` will be raised.\n",
      "keepdims : bool, default: False\n",
      "    If this is set to True, the axes which are reduced are left\n",
      "    in the result as dimensions with size one. With this option,\n",
      "    the result will broadcast correctly against the input array.\n",
      "\n",
      "Returns\n",
      "-------\n",
      "S : {float, array_like}\n",
      "    The calculated entropy.\n",
      "\n",
      "Notes\n",
      "-----\n",
      "Informally, the Shannon entropy quantifies the expected uncertainty\n",
      "inherent in the possible outcomes of a discrete random variable.\n",
      "For example,\n",
      "if messages consisting of sequences of symbols from a set are to be\n",
      "encoded and transmitted over a noiseless channel, then the Shannon entropy\n",
      "``H(pk)`` gives a tight lower bound for the average number of units of\n",
      "information needed per symbol if the symbols occur with frequencies\n",
      "governed by the discrete distribution `pk` [1]_. The choice of base\n",
      "determines the choice of units; e.g., ``e`` for nats, ``2`` for bits, etc.\n",
      "\n",
      "The relative entropy, ``D(pk|qk)``, quantifies the increase in the average\n",
      "number of units of information needed per symbol if the encoding is\n",
      "optimized for the probability distribution `qk` instead of the true\n",
      "distribution `pk`. Informally, the relative entropy quantifies the expected\n",
      "excess in surprise experienced if one believes the true distribution is\n",
      "`qk` when it is actually `pk`.\n",
      "\n",
      "A related quantity, the cross entropy ``CE(pk, qk)``, satisfies the\n",
      "equation ``CE(pk, qk) = H(pk) + D(pk|qk)`` and can also be calculated with\n",
      "the formula ``CE = -sum(pk * log(qk))``. It gives the average\n",
      "number of units of information needed per symbol if an encoding is\n",
      "optimized for the probability distribution `qk` when the true distribution\n",
      "is `pk`. It is not computed directly by `entropy`, but it can be computed\n",
      "using two calls to the function (see Examples).\n",
      "\n",
      "See [2]_ for more information.\n",
      "\n",
      "Beginning in SciPy 1.9, ``np.matrix`` inputs (not recommended for new\n",
      "code) are converted to ``np.ndarray`` before the calculation is performed. In\n",
      "this case, the output will be a scalar or ``np.ndarray`` of appropriate shape\n",
      "rather than a 2D ``np.matrix``. Similarly, while masked elements of masked\n",
      "arrays are ignored, the output will be a scalar or ``np.ndarray`` rather than a\n",
      "masked array with ``mask=False``.\n",
      "\n",
      "References\n",
      "----------\n",
      ".. [1] Shannon, C.E. (1948), A Mathematical Theory of Communication.\n",
      "       Bell System Technical Journal, 27: 379-423.\n",
      "       https://doi.org/10.1002/j.1538-7305.1948.tb01338.x\n",
      ".. [2] Thomas M. Cover and Joy A. Thomas. 2006. Elements of Information\n",
      "       Theory (Wiley Series in Telecommunications and Signal Processing).\n",
      "       Wiley-Interscience, USA.\n",
      "\n",
      "Examples\n",
      "--------\n",
      "The outcome of a fair coin is the most uncertain:\n",
      "\n",
      ">>> import numpy as np\n",
      ">>> from scipy.stats import entropy\n",
      ">>> base = 2  # work in units of bits\n",
      ">>> pk = np.array([1/2, 1/2])  # fair coin\n",
      ">>> H = entropy(pk, base=base)\n",
      ">>> H\n",
      "1.0\n",
      ">>> H == -np.sum(pk * np.log(pk)) / np.log(base)\n",
      "True\n",
      "\n",
      "The outcome of a biased coin is less uncertain:\n",
      "\n",
      ">>> qk = np.array([9/10, 1/10])  # biased coin\n",
      ">>> entropy(qk, base=base)\n",
      "0.46899559358928117\n",
      "\n",
      "The relative entropy between the fair coin and biased coin is calculated\n",
      "as:\n",
      "\n",
      ">>> D = entropy(pk, qk, base=base)\n",
      ">>> D\n",
      "0.7369655941662062\n",
      ">>> np.isclose(D, np.sum(pk * np.log(pk/qk)) / np.log(base), rtol=4e-16, atol=0)\n",
      "True\n",
      "\n",
      "The cross entropy can be calculated as the sum of the entropy and\n",
      "relative entropy`:\n",
      "\n",
      ">>> CE = entropy(pk, base=base) + entropy(pk, qk, base=base)\n",
      ">>> CE\n",
      "1.736965594166206\n",
      ">>> CE == -np.sum(pk * np.log(qk)) / np.log(base)\n",
      "True\n",
      "\n"
     ]
    }
   ],
   "source": [
    "from scipy.stats import entropy\n",
    "\n",
    "# Shannon entropy docstring\n",
    "print(entropy.__doc__)"
   ]
  },
  {
   "cell_type": "markdown",
   "id": "f87411ac",
   "metadata": {},
   "source": [
    "Pal и Pal (1989) определили среднюю информацию о границе как экспоненциальную форму для вычисления энтропии, которая может улавливать двумерную пространственную корреляцию изображений лучше, чем энтропия Шеннона. Энтропия границы определяется как:\n",
    "\n",
    "$E = \\Sigma_{i=1}^{n}p_{i}e^{1-p_{i}}$\n",
    "\n",
    "где $1 − p_{i}$ — неопределенность значения пикселя i. Это определение энтропии дает больше информации о дисперсии пикселей и краях изображения. Для каждого блока визуальная и краевая энтропия рассчитываются с использованием двух вышеупомянутых уравнений, а затем суммируются. В этом исследовании из блоков с более низкой энтропией выбирается вдвое больше требуемых блоков, а оптимальные блоки для встраивания водяного знака выбираются из этих блоков с использованием DDFA."
   ]
  },
  {
   "cell_type": "markdown",
   "id": "98348836",
   "metadata": {},
   "source": [
    "#### 3.3 Firefly algorithm\n",
    "Алгоритм светлячков"
   ]
  },
  {
   "cell_type": "markdown",
   "id": "d612099e",
   "metadata": {},
   "source": [
    "Алгоритм светлячков — это мета-эвристический метод, вдохновленный поведением светлячков, который дает хорошие оптимальные результаты в большинстве задач. В качестве основы рассматриваются три следующих закона: (1) светлячки считаются однополыми, и каждый светлячок привлекается другими светлячками. (2) Притяжение каждого светлячка зависит от его яркости; светлячки с меньшим светом привлекаются светлячками с большим светом. (3) Яркость каждого светлячка определяется либо случайным образом, либо целевой функцией."
   ]
  },
  {
   "cell_type": "markdown",
   "id": "d0513bb4",
   "metadata": {},
   "source": [
    "***Расстояние*** между двумя светлячками i и j, которые находятся в точках $x_{i}$ и $x_{j}$, вычисляется с использованием декартового расстояния:\n",
    "\n",
    "$r_{ij} = \\sqrt{\\Sigma_{k=1}^{D}(x_{i,k} - x_{j,k})^{2}}$\n",
    "\n",
    "где *D* - количество измерений. \n",
    "\n",
    "***Привлекательность*** (притяжение) каждого светлячка рассчитывается с использованием:\n",
    "\n",
    "$\\beta(r) = \\beta_{0}e^{-\\gamma r^{2}}$\n",
    "\n",
    "***Передвижение*** светлячка *i* по направлению к светлячку *j* расчитывается с помощью:\n",
    "\n",
    "$x^{new}_{i} = x^{old}_{i} + \\beta_{0}e^{-\\gamma r^{2}_{ij}}(x^{old}_{i} - x_{j}) + \\alpha(rand-\\frac{1}{2})$\n",
    "\n",
    "где:\n",
    "\n",
    "$\\alpha$ - псевдослучайный параметр\n",
    "\n",
    "$\\gamma$ - параметр яркости (привлекательности и скорости сходимости)\n",
    "\n",
    "$rand$ - генерируемая псевдослучайная величина"
   ]
  },
  {
   "cell_type": "markdown",
   "id": "542606c7",
   "metadata": {},
   "source": [
    "***Псевдокод алгоритма:***\n",
    "\n",
    "Шаг 1. Определить целевую функцию `obj_func` $f(x)$, где $x = (x_{1},x_{2},...,x_{D})$\n",
    "\n",
    "Шаг 2. Инициализировать популяцию $x_{i}$, $(i=1,2,...N)$\n",
    "\n",
    "Шаг 3. Определить случайным образом начальный параметр $\\alpha, \\beta_{0}, \\gamma$ и максимальное количество поколений - $maxGeneration$\n",
    "\n",
    "Шаг 4. Собственно алгоритм\n",
    "\n",
    "```code\n",
    "Begin\n",
    "While (t<maxGeneration):\n",
    "    For each firefly i=1 to N:\n",
    "        For each firefly j=1 to N:\n",
    "            if obj_func(x_i) < obj_func(x_j):\n",
    "                r_ij = distance(i,j,D)\n",
    "                B_r = attarctivness(y,r)\n",
    "                x_i_new = movement(x_i, x_j, B, a, rand)\n",
    "            endif\n",
    "            # Пересчитать obj_func\n",
    "        end For j\n",
    "    end For i\n",
    "# Сортировать светлячков и найти лучшее решение\n",
    "end While\n",
    "# Обработка и визуализация результатов\n",
    "End\n",
    "```"
   ]
  },
  {
   "cell_type": "markdown",
   "id": "c62dbeed",
   "metadata": {},
   "source": [
    "### 4 The proposed method\n",
    "В этом разделе описывается дискретный алгоритм светлячка (DDFA) и его целевая функция, а также объясняются процессы внедрения и извлечения водяных знаков."
   ]
  },
  {
   "cell_type": "markdown",
   "id": "9f892bf9",
   "metadata": {},
   "source": [
    "#### 4.1 Proposed distinct discrete firefly algorithm (DDFA)"
   ]
  },
  {
   "cell_type": "markdown",
   "id": "7a13256a",
   "metadata": {},
   "source": [
    "Алгоритм Firefly был предложен для решения задач с непрерывными значениями, поскольку эти значения могут быть повторяющимися; следовательно, его нельзя использовать для выбора правильных блоков, которые являются отдельными и дискретными значениями. Поэтому, исходный алгоритм был модифицирован таким образом, чтобы его можно было использовать для решения этой задачи. В предлагаемом алгоритме каждый светлячок вводит возможную последовательность блоков для внедрения водяного знака.\n",
    "\n",
    "Размерность каждого светлячка (***D***) равно количеству требуемых блоков, а их значения представляют собой различные целые числа от min до max (min равен 1, а max в два раза больше количества требуемых блоков).\n",
    "\n",
    "Для инициализации колонии светлячков генерируются различные перестановки блоков между минимумом и максимумом, и первые значения D каждой перестановки, имеющие различные значения, используются в качестве начальных светлячков.\n",
    "\n",
    "Используя различные перестановки блоков, можно гарантировать, что все измерения будут различны и не будут повторяться.\n",
    "\n",
    "$\\beta$ — это привлекательность (притяжение), то есть величина смещения каждого светлячка в сторону более яркого светлячка. В этом алгоритме для расчета $\\beta$ на каждом раунде используется следующее уравнение:\n",
    "\n",
    "$\\beta = (1 + \\frac{epoch}{max(epoch)}) \\times epoch$\n",
    "\n",
    "$epoch$ - текущая итерация\n",
    "\n",
    "$max(epoch)$ - максимальное количество итераций\n",
    "\n",
    "Так как количество итераций по мере работы алгоритма увеличивается, то и значение $\\beta$ будет увеличиваться. Таким образом, в начальных раундах притяжение меньше, так что поиск выполняется во всех пространствах задачи. Но в последних раундах притяжение увеличивается, так что решения сходятся к оптимальному решению быстрее.\n",
    "$\\alpha$ определяет случайное смещение каждого светлячка и рассчитывается следующим образом:\n",
    "\n",
    "$\\alpha = randi(\\alpha_{0})$\n",
    "\n",
    "где $randi$ - функция возвращающая натуральное число меньше чем $\\alpha_{0}$, а $\\alpha_{0}$ в данной работе определено как 10.\n",
    "\n",
    "Расстояние между светлячками $i$ и $j$ расчитывается по следующей формуле:\n",
    "\n",
    "$r_{ij} = \\frac{\\Sigma_{k=1}^{D}|x_{i,k}-x_{j,k}|}{D_{max}}$\n",
    "\n",
    "где $D$ - это размерность светлячков\n",
    "\n",
    "$D_{max} = (max - min) \\times \\sqrt{D}$\n",
    "\n",
    "Как упоминалось ранее, $min$ равен 1, а $max$ равен удвоенному количеству требуемых блоков, которые выбираются из блоков с более низкой энтропией.\n",
    "\n",
    "Наконец, смещение светлячка $i$ в сторону более яркого светлячка $j$ рассчитывается с помощью следующего уравнения:\n",
    "\n",
    "$$\n",
    "\\begin{align} \n",
    "x_{i}^{new} = \n",
    "\\begin{cases}\n",
    "x_{i}^{old}+\\lfloor \\beta \\times r_{ij} \\rfloor + \\alpha &&if \\space x_{i}^{old} \\leq max - \\lfloor \\beta \\times r_{ij} \\rfloor + \\alpha\\\\\n",
    "x_{i}^{old}+\\lfloor \\beta \\times r_{ij} \\rfloor + \\alpha - max &&else\n",
    "\\end{cases}\n",
    "\\end{align}\n",
    "$$\n",
    "\n",
    "Согласно этому уравнению, $\\lfloor\\beta × r_{ij}\\rfloor + \\alpha$, представляет собой целое число и добавляется ко всем измерениям i-го светлячка.\n",
    "\n",
    "Если при добавлении этого значения некоторые из измерений становятся больше $max$, то эти измерения переносятся в начало интервала и не будут превышать $max$. Поскольку измерения каждого светлячка инициализируются как отдельные и дискретные значения, а при движении ко всем измерениям добавляется постоянное целочисленное значение, то можно гарантировать, что измерения нового светлячка будут отдельными и дискретными. \n",
    "\n",
    "***Псевдокод DDFA:***\n",
    "\n",
    "\n",
    "Шаг 1. Определить целевую функцию $f(x)$ где $x=(x_{1},x_{1},...x_{D})$\n",
    "\n",
    "Шаг 2. Проинициализировать популяцию светлячков $x_{i}$, $(i=1,2,...N)$\n",
    "\n",
    "Шаг 3. Определить максимальное количество поколений (эпох), $min$ и $max$. $min=1$, $max=\\text{Общее количество блоков}$\n",
    "\n",
    "Шаг 4. $D_{max} = (max - min) \\times \\sqrt{D}$\n",
    "\n",
    "Шаг 5. $\\alpha_{0} = 10$\n",
    "\n",
    "Шаг 6. Собственно алгоритм\n",
    "\n",
    "```code\n",
    "Begin\n",
    "While (t<maxGeneration):\n",
    "    For each firefly i=1 to N:\n",
    "        For each firefly j=1 to N:\n",
    "            if obj_func(x_i) < obj_func(x_j):\n",
    "                r_ij = distance(i, j, D)\n",
    "                B = attractivness(epoch, max(epoch))\n",
    "                a = randi(a_0)\n",
    "                x_i_new = movement(x_i, r_ij, a, B, max)\n",
    "            end if\n",
    "            # Расчитать новые значения параметров\n",
    "        end for j\n",
    "    end for i\n",
    "# Сортировка светлячков и выбор наилучшего решения\n",
    "end while\n",
    "# Обработка результатов и визуализация данных\n",
    "```\n"
   ]
  },
  {
   "cell_type": "markdown",
   "id": "e24b4d12",
   "metadata": {},
   "source": [
    "#### 4.2 Objective function and evaluation metrics\n",
    "Целевая функция и метрики оценки качества"
   ]
  },
  {
   "cell_type": "markdown",
   "id": "8c9fff8a",
   "metadata": {},
   "source": [
    "Целевая функция DDFA является функцией минимизации и разработана таким образом, что светлячки с более низкой целевой функцией более привлекательны. Сочетание незаметности и надежности рассматривается как целевая функция и рассчитывается с использованием следующего уравнения\n",
    "\n",
    "$f = \\frac{\\gamma}{PSNR} + \\frac{1}{SSIM} + \\frac{NA}{\\Sigma_{i=1}^{NA}NC_{i}(w,w!)}$\n",
    "\n",
    "В этом уравнении NA — это количество атак, примененных к изображению с водяным знаком, а $\\gamma$ используется для балансировки эффекта PSNR.\n",
    "\n",
    "Нормальная корреляция (NC) — это мера сходства между водяным знаком w и извлеченным водяным знаком w', которая оценивает качество извлеченного водяного знака. NC вычисляется при различных атаках, а их среднее значение используется в целевой функции. Следующее уравнение вычисляет NC:\n",
    "\n",
    "$NC = \\frac\n",
    "{\\Sigma_{i=1}^{m}\\Sigma_{i=1}^{n}w(i,j) \\times w'(i,j)}\n",
    "{\\Sigma_{i=1}^{m}\\Sigma_{i=1}^{n}(w(i,j))^{2}}$\n",
    "\n",
    "где $m$ и $n$ - это размерности погружаемого изображения.\n",
    "\n",
    "Значение $NC$ варьируется от 0 до 1. Если для двух произвольных изображений $NC=1$, значит эти изображения полностью идентичны.\n",
    "\n",
    "Качество изображения с водяным знаком оценивается с помощью PSNR и SSIM. Эти показатели применяются к изображениям с водяным знаком, до того как к нему применится какая-либо атака.\n",
    "PSNR — это статистическая мера сходства между исходным изображением и обработанным изображением, измеряемая в дБ.\n",
    "\n",
    "$RMSE = \\sqrt{\\frac{1}{MN}\\Sigma_{M,N}[I(i,j)-I'(i,j)]^{2}}$\n",
    "\n",
    "$PSNR = 10log10(R^{2}/RMSE)$\n",
    "\n",
    "В этом уравнении $M$ и $N$ — размеры изображения обложки, а $R$ — максимально возможное значение пикселя изображения. Если пиксели представлены с использованием 8 бит на образец, это будет 255.\n",
    "\n",
    "SSIM — это еще один параметр для измерения качества изображения, который разработан таким образом, что если два изображения более похожи, то этот показатель ближе к 1."
   ]
  },
  {
   "cell_type": "code",
   "execution_count": 4,
   "id": "2f44b2c5",
   "metadata": {},
   "outputs": [],
   "source": [
    "#!pip3 install scikit-image --break-system-packages"
   ]
  },
  {
   "cell_type": "code",
   "execution_count": 5,
   "id": "9aeee08e",
   "metadata": {
    "scrolled": true
   },
   "outputs": [
    {
     "name": "stdout",
     "output_type": "stream",
     "text": [
      "\n",
      "    Compute the mean structural similarity index between two images.\n",
      "    Please pay attention to the `data_range` parameter with floating-point images.\n",
      "\n",
      "    Parameters\n",
      "    ----------\n",
      "    im1, im2 : ndarray\n",
      "        Images. Any dimensionality with same shape.\n",
      "    win_size : int or None, optional\n",
      "        The side-length of the sliding window used in comparison. Must be an\n",
      "        odd value. If `gaussian_weights` is True, this is ignored and the\n",
      "        window size will depend on `sigma`.\n",
      "    gradient : bool, optional\n",
      "        If True, also return the gradient with respect to im2.\n",
      "    data_range : float, optional\n",
      "        The data range of the input image (difference between maximum and\n",
      "        minimum possible values). By default, this is estimated from the image\n",
      "        data type. This estimate may be wrong for floating-point image data.\n",
      "        Therefore it is recommended to always pass this scalar value explicitly\n",
      "        (see note below).\n",
      "    channel_axis : int or None, optional\n",
      "        If None, the image is assumed to be a grayscale (single channel) image.\n",
      "        Otherwise, this parameter indicates which axis of the array corresponds\n",
      "        to channels.\n",
      "\n",
      "        .. versionadded:: 0.19\n",
      "           ``channel_axis`` was added in 0.19.\n",
      "    gaussian_weights : bool, optional\n",
      "        If True, each patch has its mean and variance spatially weighted by a\n",
      "        normalized Gaussian kernel of width sigma=1.5.\n",
      "    full : bool, optional\n",
      "        If True, also return the full structural similarity image.\n",
      "\n",
      "    Other Parameters\n",
      "    ----------------\n",
      "    use_sample_covariance : bool\n",
      "        If True, normalize covariances by N-1 rather than, N where N is the\n",
      "        number of pixels within the sliding window.\n",
      "    K1 : float\n",
      "        Algorithm parameter, K1 (small constant, see [1]_).\n",
      "    K2 : float\n",
      "        Algorithm parameter, K2 (small constant, see [1]_).\n",
      "    sigma : float\n",
      "        Standard deviation for the Gaussian when `gaussian_weights` is True.\n",
      "\n",
      "    Returns\n",
      "    -------\n",
      "    mssim : float\n",
      "        The mean structural similarity index over the image.\n",
      "    grad : ndarray\n",
      "        The gradient of the structural similarity between im1 and im2 [2]_.\n",
      "        This is only returned if `gradient` is set to True.\n",
      "    S : ndarray\n",
      "        The full SSIM image.  This is only returned if `full` is set to True.\n",
      "\n",
      "    Notes\n",
      "    -----\n",
      "    If `data_range` is not specified, the range is automatically guessed\n",
      "    based on the image data type. However for floating-point image data, this\n",
      "    estimate yields a result double the value of the desired range, as the\n",
      "    `dtype_range` in `skimage.util.dtype.py` has defined intervals from -1 to\n",
      "    +1. This yields an estimate of 2, instead of 1, which is most often\n",
      "    required when working with image data (as negative light intensities are\n",
      "    nonsensical). In case of working with YCbCr-like color data, note that\n",
      "    these ranges are different per channel (Cb and Cr have double the range\n",
      "    of Y), so one cannot calculate a channel-averaged SSIM with a single call\n",
      "    to this function, as identical ranges are assumed for each channel.\n",
      "\n",
      "    To match the implementation of Wang et al. [1]_, set `gaussian_weights`\n",
      "    to True, `sigma` to 1.5, `use_sample_covariance` to False, and\n",
      "    specify the `data_range` argument.\n",
      "\n",
      "    .. versionchanged:: 0.16\n",
      "        This function was renamed from ``skimage.measure.compare_ssim`` to\n",
      "        ``skimage.metrics.structural_similarity``.\n",
      "\n",
      "    References\n",
      "    ----------\n",
      "    .. [1] Wang, Z., Bovik, A. C., Sheikh, H. R., & Simoncelli, E. P.\n",
      "       (2004). Image quality assessment: From error visibility to\n",
      "       structural similarity. IEEE Transactions on Image Processing,\n",
      "       13, 600-612.\n",
      "       https://ece.uwaterloo.ca/~z70wang/publications/ssim.pdf,\n",
      "       :DOI:`10.1109/TIP.2003.819861`\n",
      "\n",
      "    .. [2] Avanaki, A. N. (2009). Exact global histogram specification\n",
      "       optimized for structural similarity. Optical Review, 16, 613-621.\n",
      "       :arxiv:`0901.0065`\n",
      "       :DOI:`10.1007/s10043-009-0119-z`\n",
      "\n",
      "    \n"
     ]
    }
   ],
   "source": [
    "from skimage.metrics import structural_similarity as ssim\n",
    "\n",
    "print(ssim.__doc__)"
   ]
  },
  {
   "cell_type": "markdown",
   "id": "4e590415",
   "metadata": {},
   "source": [
    "#### 4.3 Watermark embedding process\n",
    "Погружение ЦВЗ"
   ]
  },
  {
   "cell_type": "markdown",
   "id": "dd45ebb0",
   "metadata": {},
   "source": [
    "Для того чтобы вложить двоичное изображение размером $n \\times n$ в покрывающее изображение размером $M \\times N$ выполняются следующие шаги:\n",
    "\n"
   ]
  },
  {
   "cell_type": "markdown",
   "id": "64f374e3",
   "metadata": {},
   "source": [
    "***Шаг 1*** \n",
    "\n",
    "Покрывающее изображение делится на не перекрывающиеся блоки размером 8 x 8 и складывается в массив длинной 4096\n",
    "\n",
    "***Шаг 2***\n",
    "\n",
    "Для каждого блока расчитывается энтропия.\n",
    "Затем из блоков с более низкой энтропией выбирается двойное количество требуемых блоков. В каждый блок встраивается 4 бита. Таким образом, для встраивания водяного знака размерностью $n \\times n$, необходимо $\\frac{n^{2}}{4}$ блоков. Поскольку мы берем двукратное количество таких блоков, то необходимо $\\frac{n^{2}}{2}$ блоков. \n",
    "\n",
    "***Шаг 3***\n",
    "\n",
    "Используя DDFA выбираются наиболее подходящие блоки для погружения ЦВЗ. Координаты $x, y$ выбранных блоков сохраняются в виде двух матриц в качестве секретного ключа стеганограммы. \n",
    "\n",
    "В каждом блоке 4 бита ЦВЗ погружаются в 4 коэффициента матрицы Адамара: $c_{3,2}, c_{3,6}, c_{7,2}, c_{7,6}$. Шаги 4 - 6 повторяются для каждого блока пока все биты ЦВЗ не будут погружены.\n",
    "\n",
    "***Шаг 4***\n",
    "\n",
    "Преобразование Адамара применяется к текущему выбранному блоку и получаются коэффициенты результирующей матрицы.\n",
    "Для каждого коэффициента $c_{3,2}, c_{3,6}, c_{7,2}, c_{7,6}$ выполняется шаг 5.\n",
    "\n",
    "***Шаг 5***\n",
    "\n",
    "Вычисляется $avg_{i,j}$ по формуле:\n",
    "\n",
    "$avg_{i.j} = (c_{i-1,j-1} + c_{i-1,j} + c_{i-1,j+1} + c_{i,j-1} + c_{i,j+1} + c_{i+1,j-1} + c_{i+1,j} + c_{i+1,j+1}) / 8$\n",
    "\n",
    "Далее бит ЦВЗ погружается в коэффициент результирующей матрицы по формуле:\n",
    "\n",
    "$$\n",
    "\\begin{align} \n",
    "c'_{i,j} = \n",
    "\\begin{cases}\n",
    "avg_{i,j}+Th &&if \\space w(k)=1\\\\\n",
    "avg_{i,j}-Th &&if \\space w(k)=0\n",
    "\\end{cases}\n",
    "\\end{align}\n",
    "$$\n",
    "\n",
    "В этом уравнении $Th$ - пороговое значение, константа, а $i = 3, 7$ и $j = 2, 6$. Далее кожффициента матрицы $c_{i,j}$ заменяются на $c'_{i,j}$ \n",
    "\n",
    "***Шаг 6***\n",
    "\n",
    "Обратное преобразование Адамара применяется к текущему блоку.\n",
    "\n",
    "***Шаг 7***\n",
    "\n",
    "Блоки 8 х 8 соединятся вместе образую стеганограмму"
   ]
  },
  {
   "cell_type": "markdown",
   "id": "7a35b383",
   "metadata": {},
   "source": [
    "#### 4.4 Watermark extraction\n",
    "Извлечение ЦВЗ"
   ]
  },
  {
   "cell_type": "markdown",
   "id": "7c527925",
   "metadata": {},
   "source": [
    "В предлагаемой схеме для извлечение ЦВЗ не требуется наличие отдельно покрывающего объекта, а осуществляется из готовой стеганограммы, которая могла быть подвержена каким-то атакам и ключа ЦВЗ который содержит координаты блоков изображения в которое было вложение. \n",
    "\n",
    "Извлечение ЦВЗ состоит из следующих шагов:\n",
    "\n",
    "***Шаг 1***\n",
    "\n",
    "Стеганограмма дробится на блоки размером 8 х 8\n",
    "\n",
    "***Шаг 2***\n",
    "\n",
    "Используя секретный ключ полученный при погружении ЦВЗ получаем координаты блоков и сами блоки с вложенным изображением. Для каждого блока повторяются шаги 3 и 4 пока не будут добыты вложенные биты\n",
    "\n",
    "***Шаг 3***\n",
    "\n",
    "К блоку с вложенным ЦВЗ применяется преобразование Адамара и получется результирующая матрица с коэффициентами Адамара.\n",
    "\n",
    "***Шаг 4***\n",
    "\n",
    "Для каждого коэффициента $c''_{3,2}, c''_{3,6}, c''_{7,2}, c''_{7,6}$ высчитывается $avg'_{i,j}$ по той же формуле что и при погружении ЦВЗ и биты ЦВЗ добываются при помощи следующего правила:\n",
    "\n",
    "$$\n",
    "\\begin{align} \n",
    "w'(k) = \n",
    "\\begin{cases}\n",
    "1 &&if \\space avg'_{i,j} \\leq c''_{i,j}\\\\\n",
    "0 &&if \\space avg'_{i,j} > c''_{i,j}\n",
    "\\end{cases}\n",
    "\\end{align}\n",
    "$$\n",
    "\n",
    "В этом выражении:\n",
    "\n",
    "$1 \\le k \\le n^{2}$ для ЦВЗ размерностью $n \\times n$\n",
    "\n",
    "$i = 3,7$\n",
    "\n",
    "$j = 2,6$\n",
    "\n",
    "***Шаг 5***\n",
    "\n",
    "Биты $w(k)$ выстраиваются один за другим и создавая обнаруженный ЦВЗ"
   ]
  },
  {
   "cell_type": "markdown",
   "id": "182f2ad0",
   "metadata": {},
   "source": [
    "### 5 Experimental results\n",
    "Результаты экспериментов"
   ]
  },
  {
   "cell_type": "markdown",
   "id": "678a3163",
   "metadata": {},
   "source": [
    "***Исходные параметры***\n",
    "\n",
    "$\\alpha_{0} = 10$\n",
    "\n",
    "$N = 10$  # Количество светлячков\n",
    "\n",
    "$i = \\frac{n^{2}}{4}$ # Длина светлячка\n",
    "\n",
    "$max_epoch = 100$  # Количество итераций\n",
    "\n",
    "$D = randomi(1, \\frac{n^{2}}{2})$\n",
    "\n",
    "$\\gamma = 10$\n",
    "\n",
    "$Th$ - для каждого изображения устанавливался индивидуально, таким образом, чтобы среднее значение NC было больше 0,8, PSNR было больше 45, а SSIM было больше 0,99.\n",
    "\n",
    "В рамках эксперимента DDFA выполнялся 30 раз для каждого изображения.\n",
    "\n",
    "Для оценки незаметности предлагаемой схемы тестовые изображения помечаются водяными знаками с использованием двух изображений водяных знаков logo.png и flower.png. PSNR и SSIM рассчитываются до того как к изображениям не применялась атака. В таблице 1 показаны полученные результаты. Высокие значения PSNR и SSIM показывают хорошее качество изображения с водяным знаком."
   ]
  },
  {
   "cell_type": "markdown",
   "id": "f9c9d375",
   "metadata": {},
   "source": [
    "Из 12 изображений приведенных в статье удалось найти 10. Повторять эксперимент буду на них."
   ]
  },
  {
   "cell_type": "code",
   "execution_count": 6,
   "id": "48dc42c9",
   "metadata": {
    "scrolled": true
   },
   "outputs": [
    {
     "name": "stdout",
     "output_type": "stream",
     "text": [
      "total 1304\r\n",
      "-rw-r--r-- 1 evgeny evgeny 205378 Mar 28 18:43 baboon.png\r\n",
      "-rw-r--r-- 1 evgeny evgeny 166785 Mar 28 18:44 boat.png\r\n",
      "-rw-r--r-- 1 evgeny evgeny 147363 Mar 28 18:44 couple.png\r\n",
      "-rw-r--r-- 1 evgeny evgeny 140828 Mar 28 18:45 f16.png\r\n",
      "-rw-r--r-- 1 evgeny evgeny   1808 Apr  3 14:07 flower.png\r\n",
      "-rw-r--r-- 1 evgeny evgeny 151869 Mar 28 18:45 lena.png\r\n",
      "-rw-r--r-- 1 evgeny evgeny   1442 Mar 31 13:05 logo.png\r\n",
      "-rw-r--r-- 1 evgeny evgeny 159244 Mar 28 18:50 man.png\r\n",
      "-rw-r--r-- 1 evgeny evgeny 163086 Mar 28 18:47 peppers.png\r\n",
      "-rw-r--r-- 1 evgeny evgeny 179517 Mar 28 18:48 sailboat.png\r\n"
     ]
    }
   ],
   "source": [
    "!ls -l pic/"
   ]
  },
  {
   "cell_type": "markdown",
   "id": "26f17c4c",
   "metadata": {},
   "source": [
    "#### 5.1 Embedding, PSNR and SSIM\n",
    "Погружение ЦВЗ, получение метрик PSNR и SSIM"
   ]
  },
  {
   "cell_type": "code",
   "execution_count": 7,
   "id": "776ca719",
   "metadata": {
    "scrolled": true
   },
   "outputs": [],
   "source": [
    "from src import Firefly\n",
    "# Из изображения получаем матрицу размером 512х512 из\n",
    "# целочисленных значений от 0 до 255\n",
    "# watermark = Watermark(\"pic/sailboat.png\", \"pic/logo.png\")\n",
    "\n",
    "firefly = Firefly(\"pic/sailboat.png\", \"pic/logo.png\")"
   ]
  },
  {
   "cell_type": "markdown",
   "id": "e93ea6f0",
   "metadata": {},
   "source": [
    "#### 5.2 Extracting watermark\n",
    "Погружение ЦВЗ, получение метрик PSNR и SSIM"
   ]
  },
  {
   "cell_type": "code",
   "execution_count": 8,
   "id": "f30bec01",
   "metadata": {},
   "outputs": [],
   "source": [
    "# 2.5020848189283944\n",
    "# 2.5085733091479137\n",
    "# 2.507183987419814\n",
    "# 2.5126029154893086\n",
    "# 2.5046433699464763\n",
    "# 2.505469550245694"
   ]
  },
  {
   "cell_type": "code",
   "execution_count": 9,
   "id": "ca650b37",
   "metadata": {},
   "outputs": [],
   "source": [
    "from src import Watermark\n",
    "\n",
    "watermark = Watermark(\n",
    "    firefly.population[0], \n",
    "    firefly.embedded_image_bin, \n",
    "    firefly.image_matrix\n",
    ")"
   ]
  },
  {
   "cell_type": "code",
   "execution_count": 10,
   "id": "af5b8708",
   "metadata": {},
   "outputs": [
    {
     "data": {
      "text/plain": [
       "2.5084443125462696"
      ]
     },
     "execution_count": 10,
     "metadata": {},
     "output_type": "execute_result"
    }
   ],
   "source": [
    "watermark.evaluation"
   ]
  },
  {
   "cell_type": "code",
   "execution_count": 11,
   "id": "4e203251",
   "metadata": {
    "scrolled": false
   },
   "outputs": [
    {
     "data": {
      "text/plain": [
       "<matplotlib.image.AxesImage at 0x7f69658505d0>"
      ]
     },
     "execution_count": 11,
     "metadata": {},
     "output_type": "execute_result"
    },
    {
     "data": {
      "image/png": "[encoded data removed]",
      "text/plain": [
       "<Figure size 640x480 with 1 Axes>"
      ]
     },
     "metadata": {},
     "output_type": "display_data"
    }
   ],
   "source": [
    "import matplotlib.pyplot as plt\n",
    "\n",
    "plt.imshow(watermark.extracted_image_bin, cmap=plt.cm.gray)"
   ]
  },
  {
   "cell_type": "code",
   "execution_count": 12,
   "id": "eea41006",
   "metadata": {
    "scrolled": false
   },
   "outputs": [
    {
     "name": "stdout",
     "output_type": "stream",
     "text": [
      "============== Iteration 0 ==============\n",
      "0 < 1; x_j_new = [401, 1265, 1730, 1134, 235, 1742, 176, 118, 560, 1485, 1898, 1307, 846, 439, 2107, 1958, 360, 1837, 1895, 773, 1032, 467, 1788, 695, 501, 788, 970, 1649, 237, 1480, 212, 1698, 726, 518, 1255, 1002, 1722, 526, 269, 1627, 222, 1666, 139, 1849, 1078, 634, 998, 135, 2054, 520, 1919, 416, 557, 1943, 665, 1069, 611, 854, 511, 1165, 1381, 1756, 207, 2073, 462, 1070, 982, 1191, 178, 1967, 251, 1763, 1124, 798, 301, 1815, 1253, 483, 1450, 811, 1556, 1222, 1232, 2119, 777, 1498, 1129, 935, 471, 1915, 173, 1120, 228, 370, 1750, 531, 1411, 1904, 1113, 977, 1044, 837, 1907, 1822, 1020, 609, 241, 373, 598, 980, 1859, 230, 2064, 969, 195, 130, 874, 810, 582, 908, 1302, 1855, 645, 1578, 1972, 379, 1374, 747, 1104, 584, 1513, 1198, 1712, 1590, 169, 508, 1594, 1762, 410, 1062, 1110, 781, 1219, 1976, 2042, 2044, 1913, 958, 392, 242, 589, 1512, 1351, 1600, 1986, 402, 2013, 1935, 209, 181, 1419, 507, 213, 1085, 1525, 606, 626, 1088, 545, 903, 914, 1568, 1799, 549, 697, 438, 2087, 1126, 183, 2022, 925, 876, 801, 1119, 1378, 442, 1599, 909, 762, 1697, 1205, 1970, 1170, 1523, 1985, 158, 1442, 375, 1616, 734, 1882, 1225, 1764, 740, 1080, 1140, 217, 1357, 1267, 529, 1781, 1465, 1022, 1842, 179, 850, 1828, 599, 1444, 1890, 399, 1959, 1648, 419, 1493, 1237, 1500, 319, 1664, 1691, 1595, 1782, 1588, 358, 1033, 1776, 312, 252, 249, 329, 1364, 363, 1355, 1747, 1031, 1755, 361, 2113, 2027, 512, 1549, 224, 113, 2133, 1383, 1430, 1769, 2000, 1231, 857, 983, 448, 1016, 1905, 1771, 1566, 1310, 1823, 624, 1587, 887, 309, 1496, 1791, 1050, 1325, 348, 996, 767, 679, 160, 1029, 901, 1704, 2092, 1349, 1571, 667, 1291, 1270, 381, 1014, 1368, 913, 893, 280, 1329, 724, 351, 1714, 2093, 1936, 1768, 1272, 245, 1051, 394, 2097, 1934, 723, 2098, 2038, 1179, 1303, 686, 2105, 919, 2045, 218, 2122, 487, 2025, 1558, 254, 1515, 1187, 1158, 671, 698, 1347, 172, 2036, 946, 1900, 693, 802, 431, 147, 592, 1540, 459, 869, 414, 1665, 382, 1285, 910, 654, 127, 1527, 123, 1946, 2021, 1911, 805, 831, 452, 922, 1538, 1384, 1083, 991, 1552, 1286, 1903, 184, 133, 1288, 479, 1748, 1950, 1726, 1700, 1503, 286, 2007, 2148, 939, 1462, 1157, 1369, 1644, 1906, 291, 1765, 515, 868, 156, 1633, 1081, 655, 112, 2088, 1177, 1365, 2117, 468, 579, 1370, 694, 1954, 1739, 1159, 1681, 163, 1202, 1775, 1398, 1324, 2143, 1448, 976, 1811, 1760, 829, 2016, 1921, 758, 185, 170, 1241, 1845, 308, 1254, 2132, 1145, 1484, 1399, 390, 1520, 1803, 710, 1139, 1309, 168, 1456, 149, 815, 839, 2068, 926, 633, 1974, 362, 154, 660, 1725, 972, 265, 1128, 917, 1926, 880, 553, 1973, 1524, 1949, 378, 1488, 1727, 1363, 706, 436, 474, 760, 1983, 1271, 555, 281, 1829, 232, 1604, 1547, 1385, 2089, 226, 1390, 1867, 374, 938, 1319, 450, 2147, 1912, 1257, 1529, 1091, 1477, 1677, 1835, 1150, 1394, 1796, 469, 1710, 707, 2078, 1573, 272, 1167, 1025, 1869, 1821, 625, 1223, 1532, 1220, 2046, 2146, 2030, 1575, 1409, 2084, 1457, 451, 1984, 341, 1743, 1554, 841, 196, 1678, 1944, 921, 1608, 1960, 1273, 975, 1618, 1118, 1965, 783, 1647, 848, 1330, 2037, 897, 502, 497, 350, 1387, 305, 140, 1948, 1388, 862, 393, 268, 415, 1292, 2112, 1492, 371, 1724, 1403, 754, 1336, 923, 1560, 1657, 1937, 739, 446, 948, 1786, 1957, 223, 870, 1327, 1153, 2017, 673, 574, 1263, 1899, 711, 945, 1079, 1759, 2103, 1269, 860, 1203, 1298, 1711, 1196, 2075, 120, 819, 578, 356, 1021, 1881, 1519, 1893, 2040, 216, 607, 554, 2155, 142, 838, 171, 800, 542, 283, 1086, 302, 1785, 1358, 764, 1661, 1454, 1056, 1024, 1798, 1322, 576, 1102, 621, 407, 960, 1348, 2011, 1939, 1932, 1865, 1065, 1667, 2140, 1746, 1875, 1316, 571, 618, 872, 1812, 1281, 535, 2095, 782, 1296, 2131, 1043, 2076, 412, 1125, 2145, 701, 675, 1092, 784, 1048, 1991, 1995, 753, 1624, 1052, 1246, 1389, 1099, 1793, 1090, 989, 1836, 953, 682, 1553, 1326, 2118, 1350, 287, 995, 737, 421, 1876, 944, 1252, 1240, 2108, 2099, 1817, 778, 700, 617, 2157, 1075, 986, 771, 2096, 300, 1977, 1221, 1238, 417, 863, 278, 1897, 1736, 1019, 619, 627, 119, 288, 1848, 1290, 597, 830, 659, 1372, 1884, 2153, 480, 2100, 306, 1807, 670, 516, 577, 661, 865, 1208, 1650, 2067, 1262, 1738, 1564, 1774, 746, 406, 239, 2126, 1195, 1188, 804, 1274, 1420, 377, 2121, 1795, 1451, 1847, 540, 250, 1164, 1230, 1012, 1518, 297, 1802, 663, 364, 859, 1501, 427, 1494, 1684, 194, 1570, 1131, 1393, 1169, 705, 470, 1260, 1980, 646, 719, 1694, 285, 1617, 631, 1154, 1239, 182, 902, 1636, 1301, 1116, 1728, 1609, 1266, 1579, 1603, 157, 1942, 1914, 132, 692, 750, 1486, 1141, 1992, 1443, 1089, 632, 713, 1148, 121, 1284, 2074, 1259, 681, 818, 1373, 779, 1901, 1424, 1003, 1152, 1264, 425, 1180, 264, 2014, 1630, 604, 984, 1447, 1317, 1947, 1160, 1247, 595, 1857, 2081, 844, 2051, 1873, 1767, 858, 2124, 1693, 2102, 949, 1391, 266, 429, 727, 1896, 864, 482, 1354, 2061, 2058, 124, 1613, 898, 1833, 871, 1268, 523, 191, 1653, 1466, 1321, 485, 203, 477, 674, 509, 1402, 677, 546, 1400, 1011, 565, 1361, 1414, 892, 1810, 1258, 932, 559, 247, 186, 1542, 1841, 1737, 651, 365, 1236, 1979, 637, 1634, 1437, 1464, 289, 413, 1982, 2029, 1476, 1576, 1209, 1040, 1689, 2091, 1607, 1190, 114, 2104, 1877, 1933, 765, 616, 722, 1168, 2111, 1522, 729, 825, 1144, 1460, 1250, 2072, 1655, 1308, 1371, 145, 2159, 2077, 896, 138, 849, 1752, 1438, 684, 276, 2128, 1858, 2120, 704, 966, 1994, 889, 1800, 299, 630, 1806, 775, 1591, 1204, 1185, 164, 1643, 1006, 1109, 745, 587, 1127, 275, 1489, 992, 1344, 433, 570, 197, 426, 2028, 219, 786, 1163, 978, 1058, 2134, 488, 1883, 1834, 367, 396, 1778, 495, 875, 1683, 1184, 890, 1918, 1953, 2115, 1339, 752, 354, 941, 334, 1224, 1923, 1878, 1278, 883, 1872, 1280, 2001, 231, 155, 845, 1287, 1839, 916, 812, 1410, 1885, 1787, 372, 311, 1541, 352, 1041, 1201, 1868, 586, 1598, 1474, 1114, 1431, 780, 808, 824, 1610, 1192, 1276, 211, 131, 1536, 1874]\n",
      "0 > 2\n",
      "0 < 3; x_j_new = [1993, 1427, 2000, 1065, 2005, 1119, 1821, 1038, 634, 407, 1243, 1250, 264, 915, 579, 766, 1567, 2095, 666, 1463, 839, 2128, 132, 446, 978, 937, 195, 855, 1436, 408, 986, 1916, 216, 921, 1020, 317, 1832, 843, 1780, 1689, 2077, 1379, 375, 109, 1104, 1807, 1407, 470, 670, 730, 1950, 1963, 1663, 541, 1349, 884, 1284, 602, 1482, 1312, 655, 1213, 1282, 564, 605, 2116, 322, 1560, 1373, 1859, 739, 1534, 1883, 340, 643, 764, 1710, 2073, 246, 1507, 582, 1716, 529, 1445, 489, 302, 1797, 677, 1690, 1792, 1185, 924, 731, 2130, 1120, 912, 1696, 177, 1129, 1426, 312, 329, 681, 209, 174, 450, 1214, 422, 2017, 1626, 1996, 1869, 1278, 1766, 1691, 2016, 1153, 379, 1130, 1819, 939, 940, 1403, 416, 481, 1472, 2076, 997, 285, 1028, 1075, 2002, 2078, 1722, 1645, 1128, 928, 682, 1997, 1876, 816, 1959, 1358, 214, 1027, 1566, 565, 136, 424, 313, 1048, 1356, 1927, 1537, 868, 1510, 255, 1754, 2084, 1637, 1280, 2049, 1079, 651, 279, 1753, 660, 942, 1979, 1767, 152, 653, 1317, 1118, 1873, 1457, 233, 112, 295, 1281, 1400, 1861, 1550, 1158, 173, 1903, 1943, 1628, 168, 902, 645, 878, 1619, 1263, 1944, 1031, 508, 1274, 1493, 623, 1976, 197, 1144, 1279, 828, 1288, 1391, 679, 661, 146, 886, 516, 702, 2006, 1124, 1517, 1540, 525, 1003, 484, 1798, 625, 304, 1778, 1236, 1418, 873, 1024, 1311, 1385, 830, 590, 1453, 1928, 693, 1275, 1937, 311, 1968, 1667, 1484, 448, 1375, 561, 1683, 1596, 248, 836, 2071, 746, 911, 519, 1982, 2036, 348, 845, 1712, 1989, 517, 1103, 1474, 752, 1518, 1850, 584, 1600, 362, 1612, 2091, 2066, 757, 2142, 2104, 2067, 207, 1945, 1638, 326, 1847, 1698, 1893, 514, 974, 853, 1142, 748, 631, 1061, 683, 1692, 789, 2136, 649, 1259, 496, 810, 1409, 1069, 1837, 1575, 1960, 1990, 2060, 1125, 554, 2030, 1624, 1037, 1877, 1304, 2117, 919, 2021, 269, 114, 1525, 1345, 869, 644, 182, 792, 831, 929, 363, 2064, 1773, 378, 1080, 1442, 205, 944, 672, 1225, 1166, 1912, 1208, 779, 515, 398, 970, 1297, 2003, 767, 761, 1836, 1396, 1857, 402, 1237, 377, 1811, 1446, 864, 2050, 1491, 1481, 411, 1669, 2139, 123, 1483, 795, 914, 1154, 1808, 1584, 1323, 558, 1320, 2109, 196, 1542, 905, 1410, 1868, 1632, 1002, 1932, 1983, 1655, 1505, 513, 821, 1809, 292, 2057, 876, 804, 813, 572, 1392, 420, 909, 712, 982, 178, 1644, 1017, 1865, 762, 1370, 1804, 1594, 410, 240, 1675, 474, 2011, 1981, 961, 1825, 1699, 183, 1073, 1592, 1435, 1741, 1733, 1101, 1273, 1664, 1174, 718, 1924, 1350, 1049, 2079, 663, 1381, 210, 275, 1672, 1783, 1833, 981, 1900, 1005, 1879, 1137, 1175, 283, 1420, 1134, 1191, 1478, 652, 1419, 211, 1855, 115, 110, 138, 1790, 1713, 1276, 2027, 2053, 630, 1183, 1231, 586, 1255, 765, 952, 740, 325, 965, 1207, 401, 1131, 2145, 1509, 203, 1794, 1902, 2150, 1522, 932, 856, 1450, 1646, 345, 1657, 1591, 479, 296, 920, 1531, 671, 128, 270, 1871, 231, 882, 1168, 1201, 1933, 976, 1102, 2046, 1843, 620, 1479, 1022, 1055, 1643, 510, 1338, 849, 351, 1088, 686, 963, 1429, 376, 1506, 456, 553, 1146, 134, 172, 837, 745, 987, 691, 372, 439, 744, 1430, 301, 1327, 1016, 1221, 581, 1228, 840, 268, 482, 917, 678, 555, 1650, 916, 1568, 133, 588, 385, 1384, 1562, 1967, 1132, 690, 167, 1958, 230, 1841, 1218, 550, 1234, 1743, 628, 741, 1423, 1563, 800, 1071, 1988, 852, 309, 2146, 1956, 1781, 2086, 1497, 526, 857, 1908, 465, 1846, 591, 754, 1206, 1995, 1751, 1036, 1736, 1330, 1978, 1443, 415, 1188, 2082, 1212, 760, 487, 145, 1222, 1313, 1040, 260, 1572, 1359, 1341, 596, 2103, 151, 1033, 1947, 2094, 1613, 413, 1934, 208, 1549, 773, 936, 349, 2028, 1529, 1464, 1615, 817, 1747, 842, 503, 751, 1666, 1545, 1936, 1521, 1169, 141, 1114, 900, 719, 1452, 698, 990, 1955, 1726, 226, 1513, 957, 889, 1045, 1973, 2125, 610, 228, 968, 772, 1116, 1399, 1360, 443, 281, 784, 1357, 121, 1498, 648, 442, 1315, 222, 2101, 1156, 473, 1700, 334, 409, 432, 1987, 455, 548, 2034, 150, 536, 1660, 1999, 1587, 1369, 475, 1083, 728, 406, 185, 384, 1589, 980, 811, 358, 1805, 802, 1261, 2062, 1551, 2069, 1896, 1851, 383, 756, 1706, 1906, 1245, 1761, 1504, 502, 875, 705, 608, 1969, 250, 964, 642, 807, 153, 1294, 822, 732, 426, 1991, 1034, 657, 1631, 1496, 597, 1067, 814, 1487, 217, 1845, 257, 1299, 975, 1287, 1813, 1810, 1098, 2147, 1440, 1149, 991, 953, 2096, 1227, 2105, 1693, 1940, 1543, 137, 258, 271, 1688, 1329, 716, 1193, 191, 1901, 1078, 1577, 1018, 1051, 1951, 320, 874, 1953, 1163, 129, 1640, 1351, 500, 796, 1523, 2120, 601, 737, 1095, 498, 2143, 202, 694, 1363, 1465, 1909, 331, 1891, 1610, 1964, 1215, 187, 294, 1890, 394, 318, 2012, 934, 1831, 1508, 777, 806, 1787, 1601, 1680, 983, 877, 1771, 164, 111, 1574, 1006, 717, 428, 1230, 1848, 194, 1962, 1180, 1623, 180, 593, 1658, 1702, 2088, 1382, 1395, 1092, 1117, 2026, 359, 2092, 907, 314, 1035, 274, 1187, 1718, 709, 785, 589, 971, 464, 2032, 1205, 1068, 566, 1704, 265, 1223, 1844, 632, 1456, 662, 1930, 955, 501, 457, 1121, 1892, 1367, 333, 288, 622, 290, 805, 1013, 992, 199, 695, 261, 776, 184, 618, 2035, 1431, 931, 713, 680, 901, 1651, 1913, 574, 1226, 1421, 1264, 938, 575, 603, 1707, 1432, 343, 1108, 1010, 544, 390, 1661, 2054, 1863, 951, 1985, 1757, 239, 253, 1697, 1678, 1091, 1319, 120, 1633, 1676, 425, 1241, 118, 637, 1301, 2074, 1109, 1468, 871, 2018, 1181, 1822, 1090, 585, 200, 1324, 429, 449, 1674, 782, 1608, 1151, 344, 1162, 539, 546, 1325, 2134, 797, 609, 759, 1838, 1554, 1917, 1977, 542, 1438, 1008, 1801, 2138, 1526, 664, 1703, 580, 1107, 1796, 293, 2106, 143, 1133, 1829, 1252, 1331, 2059, 704, 935, 405, 812, 1665, 1570, 2113, 1862, 2119, 108, 492, 1473, 232, 2042, 1760, 1789, 1135, 1621, 715, 188, 2024, 412, 910, 430, 2149, 1682, 1062, 1007, 697, 1346, 237, 392, 444, 1257, 1393, 527, 1087, 1583, 2121, 635, 440, 1383, 641, 445, 2015, 1240, 562, 1316, 775, 1502, 824, 1788, 675, 245, 758, 282, 1875, 1588, 1152, 1769, 1818]\n"
     ]
    },
    {
     "name": "stdout",
     "output_type": "stream",
     "text": [
      "0 > 4\n",
      "0 < 5; x_j_new = [489, 295, 1601, 376, 773, 664, 1946, 1698, 1700, 1663, 1077, 1652, 925, 2115, 2088, 2079, 2132, 187, 1847, 1345, 938, 299, 1724, 1102, 1177, 576, 1887, 184, 1846, 2046, 1491, 1172, 1912, 1908, 1241, 1054, 169, 655, 1283, 1341, 1398, 1634, 1803, 168, 2024, 200, 1892, 1104, 118, 573, 2099, 1203, 228, 1303, 661, 2034, 1629, 1868, 1752, 1238, 1136, 146, 255, 1895, 2052, 1205, 1477, 713, 1301, 2026, 2154, 511, 152, 199, 1677, 1775, 698, 1346, 761, 618, 1875, 428, 495, 2059, 2121, 1489, 591, 1135, 900, 1039, 2128, 2023, 143, 882, 446, 729, 1215, 1260, 167, 831, 753, 1993, 1165, 261, 485, 2143, 1456, 1813, 1061, 809, 1001, 1445, 181, 1248, 201, 679, 1161, 289, 728, 803, 1932, 1927, 766, 518, 1275, 2003, 1884, 897, 2063, 388, 927, 1246, 678, 385, 1288, 1836, 326, 595, 1671, 370, 971, 577, 420, 1878, 1261, 1363, 1114, 1359, 1575, 1820, 628, 1613, 1505, 656, 816, 2075, 974, 1973, 1883, 1081, 322, 213, 344, 204, 1611, 404, 505, 830, 1162, 1481, 1033, 1112, 1570, 1689, 294, 276, 1020, 1328, 707, 1784, 1697, 722, 2097, 1542, 878, 1828, 1728, 365, 1302, 2013, 1617, 1891, 623, 675, 1274, 923, 1156, 829, 1588, 160, 936, 1211, 1941, 657, 2056, 862, 668, 1764, 267, 1874, 1129, 395, 1410, 330, 1084, 1342, 1271, 1569, 964, 2031, 2116, 850, 742, 1904, 1483, 1370, 690, 1292, 1402, 1007, 1058, 1372, 468, 566, 462, 533, 2127, 499, 270, 236, 1002, 983, 1832, 1493, 915, 175, 1125, 929, 1392, 1287, 955, 1356, 867, 1759, 1350, 837, 1188, 1067, 1710, 1029, 677, 2048, 1870, 1683, 1409, 1249, 585, 2142, 1767, 1772, 745, 1394, 1420, 976, 371, 1989, 1800, 1031, 1680, 170, 401, 1022, 986, 1647, 1071, 1181, 332, 1487, 1149, 1660, 473, 1553, 1925, 965, 919, 780, 1316, 374, 1190, 560, 1742, 2096, 638, 949, 1827, 1948, 1240, 1944, 1110, 1189, 2140, 1770, 398, 325, 563, 705, 1791, 1308, 1637, 470, 960, 351, 1403, 1879, 165, 1142, 1076, 855, 382, 399, 669, 1366, 1640, 2141, 956, 2033, 282, 364, 1905, 1361, 1947, 652, 469, 1675, 1822, 708, 792, 1297, 148, 510, 2039, 586, 558, 1509, 791, 1279, 284, 1587, 1760, 1131, 320, 645, 358, 224, 235, 1998, 1916, 350, 1702, 834, 1806, 2145, 1405, 574, 431, 1307, 1408, 637, 153, 754, 562, 519, 239, 426, 1943, 1679, 1519, 1407, 229, 654, 268, 1330, 2060, 1290, 1605, 341, 1069, 2066, 1286, 319, 629, 1463, 1782, 1375, 540, 1464, 1869, 1727, 1362, 115, 572, 425, 820, 584, 978, 310, 1298, 813, 1636, 416, 523, 2038, 1396, 1885, 1531, 1956, 1325, 1032, 815, 548, 494, 342, 222, 751, 561, 1853, 183, 1606, 348, 784, 1018, 1991, 338, 2095, 1263, 1723, 189, 188, 1706, 592, 1010, 1888, 297, 946, 627, 839, 1074, 1485, 1572, 1578, 1496, 959, 1504, 524, 1237, 597, 423, 1214, 954, 1471, 1841, 821, 1656, 1480, 129, 208, 969, 2016, 607, 828, 1661, 221, 881, 1931, 699, 1395, 1311, 521, 534, 1936, 2137, 1046, 858, 779, 926, 1326, 2105, 298, 1913, 147, 762, 1988, 1565, 1972, 1025, 1116, 1168, 280, 1815, 231, 1532, 1498, 1779, 1206, 1450, 1981, 2112, 225, 2102, 2049, 1876, 750, 2069, 483, 1064, 1653, 1446, 1459, 2123, 227, 288, 396, 1056, 2028, 620, 127, 893, 1368, 308, 1579, 800, 606, 1145, 846, 457, 1804, 1255, 1580, 1452, 1299, 1633, 737, 1901, 910, 1593, 2032, 1041, 162, 1986, 1191, 995, 950, 1955, 1495, 1952, 749, 696, 924, 1062, 373, 1614, 250, 770, 1268, 1401, 695, 218, 1554, 788, 1610, 2091, 114, 277, 872, 1017, 1866, 312, 674, 2093, 113, 226, 1117, 633, 205, 1413, 475, 448, 551, 520, 1523, 672, 232, 1641, 238, 1416, 1562, 1404, 392, 646, 1089, 2129, 1954, 1095, 568, 343, 1720, 1276, 1490, 1902, 1930, 942, 2139, 624, 556, 931, 1179, 504, 1603, 422, 777, 1242, 1594, 2108, 124, 1291, 1966, 1021, 1921, 1763, 928, 798, 1845, 266, 1270, 1690, 528, 1447, 912, 1699, 1773, 1957, 531, 1658, 892, 2090, 1123, 887, 1508, 544, 1556, 141, 583, 1843, 440, 467, 759, 1825, 437, 898, 730, 635, 2015, 716, 702, 1390, 2002, 230, 1823, 733, 968, 1153, 1596, 1453, 545, 1478, 1432, 1376, 1266, 636, 133, 1355, 2012, 142, 217, 709, 1536, 1111, 1583, 1227, 802, 1785, 1871, 1561, 807, 477, 604, 1173, 327, 935, 290, 1758, 1285, 567, 178, 546, 1073, 1824, 1231, 811, 1963, 874, 2035, 786, 880, 1830, 138, 1428, 1322, 1755, 1928, 287, 1183, 512, 1598, 966, 1777, 1521, 914, 487, 443, 1422, 1644, 1234, 1753, 1212, 1124, 427, 2068, 905, 415, 1651, 1200, 1412, 543, 2061, 1600, 1766, 587, 408, 2037, 1935, 1011, 714, 1704, 1016, 1502, 697, 939, 580, 758, 1539, 1900, 497, 680, 1657, 1659, 278, 335, 735, 1848, 2113, 509, 712, 246, 1558, 600, 693, 1695, 1082, 814, 1734, 870, 445, 1961, 684, 1716, 1818, 1557, 525, 122, 286, 665, 1735, 1513, 1194, 1893, 1526, 2014, 1304, 1620, 1670, 233, 886, 1714, 444, 1164, 486, 1092, 1468, 1686, 501, 1093, 283, 1313, 123, 526, 608, 1635, 1746, 890, 1202, 1085, 1877, 515, 1799, 2117, 1044, 610, 249, 1834, 2150, 196, 1186, 2078, 347, 1754, 194, 921, 1781, 933, 806, 451, 721, 641, 704, 1839, 1236, 234, 1226, 244, 1751, 264, 1023, 727, 1378, 1497, 1377, 1851, 1430, 2073, 1457, 1351, 1665, 1096, 488, 1585, 1329, 1842, 2087, 368, 602, 1334, 967, 1668, 808, 571, 311, 1440, 436, 1442, 1030, 1990, 1170, 1079, 619, 433, 1740, 434, 1036, 407, 1975, 2006, 1951, 449, 1599, 746, 1133, 303, 212, 795, 1726, 1295, 726, 2051, 1945, 1958, 1977, 1797, 453, 337, 666, 622, 1939, 465, 1527, 689, 605, 1306, 1091, 775, 1924, 1619, 1391, 164, 1364, 2004, 1738, 1435, 211, 1623, 1837, 441, 180, 632, 119, 1038, 889, 767, 1310, 1199, 1201, 1399, 783, 220, 1294, 1639, 1922, 269, 1012, 253, 190, 1107, 848, 1880, 375, 2084, 853, 191, 1790, 2027, 940, 516, 861, 481, 1743, 1771, 125, 1005, 1985, 738, 1999, 438, 1512, 1739, 2114, 1474, 789, 1367, 1282, 137, 1984, 1099, 1762, 2147, 1609, 1196, 442, 1273, 1086, 2130, 291, 687, 2018, 1213, 731, 947, 2055, 1802, 1520, 1051, 681, 257, 1469, 1418, 1324, 2050, 719, 383, 801, 1923, 1518, 1719, 2010, 909]\n",
      "0 > 6\n",
      "0 < 7; x_j_new = [2089, 373, 116, 1743, 1091, 1717, 1905, 904, 173, 1250, 1013, 337, 149, 1015, 2014, 532, 385, 1357, 1927, 1144, 731, 638, 1845, 1388, 654, 614, 707, 1233, 1290, 1843, 2025, 1437, 1561, 1628, 601, 1419, 1935, 1784, 968, 1610, 770, 2128, 119, 1838, 1236, 2051, 1787, 1782, 669, 579, 1825, 1786, 2069, 1917, 764, 673, 1973, 1365, 1945, 1500, 554, 150, 1826, 1436, 1309, 1073, 169, 1048, 876, 328, 822, 1274, 681, 283, 358, 1884, 987, 508, 1188, 1889, 1204, 1438, 324, 267, 1066, 1033, 1588, 1824, 162, 1155, 1482, 362, 722, 1504, 1078, 969, 196, 1501, 1855, 1811, 1942, 2050, 2142, 1899, 807, 919, 1731, 2071, 2122, 1700, 1049, 568, 685, 1531, 1469, 189, 1858, 1170, 817, 1509, 1775, 1734, 464, 2013, 1780, 1055, 446, 1261, 1016, 797, 545, 447, 1806, 724, 1522, 1445, 874, 1175, 627, 342, 1959, 1018, 502, 870, 266, 988, 1565, 1575, 2080, 982, 581, 1182, 503, 842, 2052, 309, 1149, 774, 2065, 1206, 2123, 335, 1253, 1303, 354, 1086, 1754, 1711, 1362, 914, 2001, 1334, 941, 1456, 1129, 956, 1819, 535, 1158, 1333, 1818, 2090, 1733, 1053, 135, 696, 1477, 207, 460, 1390, 2012, 1770, 1569, 675, 1659, 364, 1276, 1904, 1771, 1111, 400, 738, 333, 646, 2021, 1252, 1348, 1029, 1908, 2103, 732, 2054, 1139, 1641, 1902, 2133, 2026, 1316, 1660, 1599, 597, 505, 271, 166, 718, 1847, 1141, 1667, 2023, 800, 912, 120, 2139, 1779, 412, 198, 1171, 838, 1106, 456, 250, 719, 1310, 487, 598, 301, 1327, 2046, 1802, 633, 241, 1636, 910, 1312, 1807, 596, 867, 1690, 1110, 369, 1047, 706, 1804, 340, 980, 1625, 2000, 991, 1533, 1619, 688, 1788, 1547, 628, 1435, 1133, 367, 1264, 1724, 1798, 1226, 1006, 1972, 2118, 1382, 1136, 1023, 1931, 2148, 1893, 1912, 1489, 2067, 1218, 1463, 192, 407, 611, 562, 199, 711, 1737, 1190, 1429, 210, 2037, 1468, 1318, 2151, 858, 1836, 279, 287, 1909, 1616, 622, 1225, 2064, 1350, 1963, 2086, 781, 1592, 1012, 1132, 856, 140, 237, 1217, 380, 1673, 1882, 971, 814, 1919, 1758, 107, 2055, 1557, 1523, 513, 1539, 182, 457, 1251, 2066, 432, 1051, 595, 1675, 1860, 440, 951, 2144, 1581, 1725, 994, 455, 784, 586, 1559, 2078, 979, 1193, 833, 756, 245, 1820, 1215, 1658, 2062, 529, 1246, 1795, 1041, 1981, 907, 214, 537, 1876, 127, 1792, 795, 1094, 831, 454, 153, 973, 1207, 1014, 326, 1930, 1098, 754, 844, 438, 1471, 689, 746, 2092, 1156, 2135, 106, 999, 897, 2100, 1760, 837, 585, 1242, 943, 1785, 297, 1275, 381, 769, 427, 1900, 728, 1977, 699, 165, 137, 339, 2019, 1714, 553, 1174, 499, 180, 723, 672, 230, 630, 1511, 2038, 399, 1812, 1313, 1519, 588, 2101, 1702, 1611, 582, 1879, 2079, 449, 1627, 1837, 1042, 121, 2121, 2098, 356, 1355, 1579, 1540, 1956, 1480, 1520, 1122, 1100, 1427, 244, 321, 114, 404, 518, 2099, 534, 292, 330, 1723, 1996, 1306, 1237, 209, 276, 687, 1987, 239, 1069, 1589, 1898, 1793, 2088, 141, 2070, 172, 1790, 1618, 1349, 186, 506, 1254, 762, 1281, 676, 1881, 843, 1709, 497, 184, 1716, 1585, 765, 1762, 1738, 2145, 2105, 1022, 1008, 1726, 1135, 1637, 966, 857, 818, 939, 1148, 1933, 1608, 1685, 194, 1568, 548, 219, 112, 796, 575, 264, 434, 2049, 1944, 1286, 1848, 1749, 384, 1442, 388, 1178, 855, 1623, 1187, 1184, 700, 1154, 1562, 393, 2011, 176, 1384, 1552, 1295, 248, 883, 1085, 1487, 1967, 1363, 1638, 1768, 1651, 2008, 583, 1603, 1736, 1097, 1593, 964, 1831, 894, 390, 147, 1756, 521, 1697, 1455, 1721, 480, 2031, 159, 1321, 1195, 1906, 2109, 2076, 794, 1958, 1822, 662, 736, 752, 2125, 1722, 195, 1065, 1095, 594, 1347, 1875, 645, 801, 1007, 1114, 590, 1815, 1955, 789, 1961, 587, 1381, 666, 1088, 1769, 201, 1999, 913, 916, 992, 806, 1923, 2126, 960, 1358, 1405, 1925, 612, 1296, 1302, 1113, 1783, 1467, 920, 1517, 1499, 1560, 899, 737, 1046, 574, 909, 1338, 708, 1257, 1418, 285, 1103, 1395, 1474, 1773, 1514, 262, 1921, 709, 778, 255, 228, 571, 1058, 426, 1024, 556, 1430, 526, 1067, 229, 1965, 430, 372, 812, 850, 959, 1343, 560, 1554, 152, 1420, 1801, 1661, 1128, 1335, 1413, 918, 1851, 985, 382, 1570, 525, 417, 1679, 1460, 208, 1633, 931, 1263, 1194, 2035, 1292, 1166, 967, 1612, 1979, 1153, 684, 1764, 1145, 318, 871, 1988, 1696, 1186, 1703, 1025, 1684, 2132, 226, 174, 859, 813, 1741, 444, 1071, 1219, 1328, 377, 729, 110, 690, 869, 458, 155, 448, 1087, 1643, 1161, 928, 221, 881, 294, 1244, 1832, 1849, 1434, 2060, 1755, 1946, 997, 272, 463, 1926, 1034, 1513, 1433, 2124, 826, 424, 1821, 578, 1646, 1162, 978, 1231, 786, 1670, 220, 1205, 1371, 600, 1910, 1339, 803, 1408, 665, 306, 1586, 862, 2127, 520, 1124, 498, 565, 1448, 1131, 227, 753, 934, 123, 1924, 1441, 935, 1913, 327, 389, 1986, 805, 1457, 1464, 467, 1934, 1518, 295, 1590, 409, 1179, 1551, 378, 334, 2112, 1380, 608, 739, 1640, 1553, 1582, 895, 231, 1857, 1776, 1137, 1267, 2107, 990, 697, 1340, 1450, 205, 1817, 580, 889, 2022, 1841, 1421, 936, 1403, 566, 1258, 1995, 1115, 2063, 2150, 491, 290, 500, 629, 2111, 512, 649, 124, 406, 809, 1185, 1880, 1093, 132, 1672, 395, 952, 940, 1220, 2041, 717, 1497, 401, 343, 1255, 656, 780, 591, 168, 1751, 865, 1778, 1005, 1270, 2015, 1234, 1939, 1809, 930, 486, 371, 679, 1167, 819, 1609, 1872, 1325, 976, 317, 522, 1476, 1044, 2074, 1732, 1447, 1920, 408, 1594, 735, 1914, 1629, 1108, 1300, 783, 433, 1002, 761, 1903, 320, 695, 268, 1326, 515, 877, 1152, 1037, 860, 471, 1273, 1669, 1574, 1835, 296, 1701, 1293, 1491, 839, 647, 782, 1387, 473, 1127, 1322, 799, 1708, 2010, 1165, 1040, 1495, 1989, 1212, 884, 1386, 202, 1543, 289, 1266, 350, 710, 263, 1632, 1694, 1056, 247, 1458, 1337, 1294, 442, 281, 618, 1549, 1406, 1865, 712, 1529, 825, 365, 683, 1417, 402, 677, 1214, 880, 2007, 2082, 974, 1289, 1896, 1750, 269, 961, 1765, 218, 926, 1045, 138, 2006, 885, 206, 559, 927, 188, 958, 1572, 1512, 1606, 1393, 1752, 923, 1279, 1859, 1940, 1883, 410, 167, 183, 2094, 348, 671, 418, 1211, 996, 1222, 702, 1017, 151, 1970, 2044, 1117, 2057, 1498, 1877]\n"
     ]
    },
    {
     "name": "stdout",
     "output_type": "stream",
     "text": [
      "0 < 8; x_j_new = [1228, 1996, 1031, 1836, 358, 1806, 685, 494, 1335, 1296, 246, 2105, 1043, 1294, 568, 602, 1921, 874, 477, 1394, 1356, 1987, 359, 2139, 2005, 925, 2064, 782, 1281, 1785, 178, 1601, 1436, 134, 621, 305, 427, 1125, 967, 369, 1976, 1981, 609, 2132, 971, 1783, 1452, 1014, 266, 756, 1237, 153, 504, 1348, 1697, 1395, 1639, 1429, 1496, 1304, 1983, 848, 235, 1234, 515, 1326, 1732, 1350, 740, 849, 1626, 683, 980, 1012, 548, 1566, 190, 115, 1930, 616, 511, 366, 1951, 1528, 1524, 1109, 2037, 630, 1274, 715, 1424, 1330, 439, 428, 1210, 223, 1817, 969, 1089, 814, 1096, 1536, 2152, 1030, 1289, 1487, 1504, 551, 1769, 1959, 216, 809, 1149, 1965, 2033, 1255, 1481, 1211, 834, 1459, 1856, 1609, 1070, 1457, 1790, 354, 1203, 1390, 1270, 1374, 1221, 175, 1872, 654, 821, 111, 1520, 2062, 1814, 574, 772, 2081, 791, 729, 1909, 947, 394, 1282, 1664, 1118, 863, 408, 1914, 1616, 811, 526, 998, 820, 1751, 853, 1701, 1005, 2031, 1399, 1913, 1010, 1382, 1614, 1084, 1693, 1768, 1023, 659, 1498, 1629, 1162, 652, 1155, 423, 1142, 293, 1680, 317, 1080, 1468, 1002, 1199, 1734, 1026, 272, 1934, 857, 2134, 822, 257, 545, 972, 155, 182, 208, 1940, 264, 915, 542, 713, 1724, 2114, 2030, 704, 325, 485, 181, 543, 440, 222, 2055, 815, 1329, 533, 690, 962, 1971, 607, 795, 1780, 1079, 598, 1312, 1649, 1442, 1624, 1875, 1877, 1568, 565, 1434, 1099, 1878, 1165, 953, 1936, 546, 232, 719, 556, 1885, 593, 254, 2020, 2097, 1310, 888, 1850, 1179, 168, 554, 1279, 588, 2135, 1819, 949, 238, 613, 2101, 770, 1128, 1653, 204, 760, 376, 1646, 665, 1422, 1107, 1919, 1200, 765, 351, 1986, 126, 498, 856, 727, 1821, 662, 1475, 747, 1358, 1489, 1637, 1028, 1144, 1511, 1366, 1258, 2018, 650, 174, 1152, 1035, 549, 1359, 401, 1202, 399, 982, 383, 816, 1325, 1526, 1647, 1476, 1088, 380, 1840, 1451, 1688, 1766, 1525, 997, 1573, 1389, 1985, 1129, 1911, 1188, 1516, 2104, 928, 1011, 1630, 280, 319, 921, 1047, 518, 1784, 582, 1719, 324, 1957, 1017, 1748, 315, 1034, 2086, 338, 470, 159, 1412, 1083, 1302, 1347, 1384, 481, 496, 2085, 1327, 717, 260, 1045, 1530, 1003, 1136, 1789, 2092, 1458, 1000, 326, 1788, 530, 2095, 879, 697, 1829, 1822, 1073, 2107, 1578, 1855, 1248, 1074, 1433, 864, 140, 1923, 1543, 810, 207, 1546, 638, 347, 298, 2077, 106, 786, 1097, 1473, 2015, 2089, 1510, 628, 926, 1847, 1357, 1735, 1852, 1941, 1127, 828, 1497, 789, 1404, 523, 170, 341, 2046, 1130, 1232, 2063, 929, 1387, 755, 1989, 1618, 1837, 398, 1848, 248, 529, 675, 1164, 904, 2126, 1275, 1905, 195, 987, 633, 880, 642, 1013, 221, 1674, 866, 1886, 1548, 1024, 464, 1997, 1590, 528, 1777, 432, 2056, 1286, 790, 695, 2108, 406, 1086, 1628, 943, 1809, 1115, 1212, 1518, 783, 458, 1863, 1695, 1515, 1249, 2076, 1194, 151, 1271, 1632, 349, 344, 1838, 1760, 503, 1962, 2094, 767, 120, 1945, 1792, 1380, 1246, 1833, 1025, 381, 806, 603, 647, 201, 1260, 1287, 1604, 1393, 1214, 1824, 392, 1038, 497, 1006, 374, 1883, 2141, 1405, 429, 1584, 2067, 1105, 1678, 1873, 1961, 1928, 1465, 1167, 1774, 964, 255, 244, 1354, 1835, 489, 1375, 1714, 691, 720, 404, 884, 502, 1922, 450, 1108, 1839, 1657, 1355, 112, 508, 1240, 570, 1660, 1233, 1417, 1972, 360, 643, 614, 592, 952, 1145, 1408, 1742, 316, 1229, 1535, 1063, 1800, 2004, 1593, 1021, 1513, 1954, 1018, 1555, 917, 448, 1594, 1318, 984, 1741, 992, 313, 2042, 148, 979, 1365, 480, 689, 267, 1718, 2150, 1094, 611, 1917, 1967, 1103, 1622, 1323, 259, 716, 999, 2016, 617, 1696, 337, 771, 1410, 1224, 245, 418, 742, 612, 1532, 868, 1494, 521, 1054, 1438, 1403, 225, 1295, 1764, 1093, 728, 1662, 2115, 1816, 1160, 509, 745, 1564, 1686, 385, 2102, 1500, 2050, 270, 564, 1098, 1156, 774, 676, 968, 2099, 379, 1669, 387, 883, 1583, 373, 1884, 1560, 1550, 1461, 1169, 1121, 421, 1561, 300, 1328, 176, 1276, 2106, 299, 2112, 948, 211, 435, 455, 950, 918, 1596, 1051, 1479, 1166, 459, 320, 1075, 469, 629, 567, 851, 1830, 125, 1456, 832, 1293, 1068, 1077, 1446, 1190, 183, 664, 243, 1132, 1759, 1062, 484, 516, 114, 1254, 1085, 1266, 986, 410, 1527, 1799, 920, 1595, 750, 1773, 2012, 507, 1828, 1081, 722, 240, 2079, 2137, 196, 886, 407, 1124, 2098, 2058, 1685, 876, 557, 1140, 1758, 1265, 808, 1904, 269, 587, 133, 1565, 146, 362, 797, 1463, 718, 199, 694, 417, 1066, 474, 794, 777, 960, 495, 1204, 965, 847, 1892, 644, 1135, 2084, 632, 375, 519, 841, 678, 1227, 346, 769, 1321, 1658, 1477, 1931, 2001, 1388, 2027, 989, 309, 1427, 2047, 109, 1690, 1378, 705, 1673, 1076, 1982, 1196, 1336, 1177, 558, 1207, 645, 1201, 1428, 1827, 1570, 778, 793, 452, 1737, 1717, 1151, 1659, 1574, 471, 132, 1041, 1549, 278, 1158, 898, 1728, 830, 966, 895, 2121, 308, 1648, 1665, 536, 837, 1671, 1308, 1178, 824, 946, 900, 465, 456, 2103, 1642, 443, 1100, 858, 1587, 331, 1521, 2009, 1651, 368, 889, 1552, 544, 437, 1692, 1650, 1754, 310, 1484, 903, 1362, 430, 709, 1845, 1939, 1120, 1313, 1854, 501, 906, 666, 547, 620, 996, 579, 668, 1968, 460, 877, 1757, 122, 488, 332, 1369, 1581, 2039, 1226, 861, 1346, 330, 1547, 1376, 400, 524, 1870, 1213, 457, 1364, 743, 1842, 872, 1431, 1952, 754, 1219, 988, 1787, 1874, 739, 520, 1305, 1577, 2127, 1733, 274, 522, 1607, 438, 420, 623, 787, 712, 2153, 601, 1435, 2146, 1949, 2082, 805, 932, 1625, 976, 479, 304, 147, 1183, 741, 1849, 2122, 1133, 954, 382, 1215, 145, 887, 1187, 247, 1974, 1752, 2036, 1740, 218, 1027, 234, 590, 1139, 1771, 284, 1825, 959, 2013, 296, 525, 1621, 2034, 1906, 476, 1915, 651, 1811, 1218, 1090, 1421, 252, 658, 1995, 1980, 923, 682, 656, 893, 1926, 575, 1722, 1352, 1238, 731, 1419, 1627, 301, 1988, 681, 835, 517, 1186, 1071, 1236, 143, 737, 137, 261, 1198, 123, 896, 733, 753, 1406, 1562, 1029, 1703, 1317, 353, 711, 1285, 827, 291, 961, 1723, 892, 1572, 1016, 1684, 1146, 1619, 581, 1750, 595, 1036, 1946, 1437, 1960, 1095, 1803, 1888, 1636, 1900, 1272, 1857, 869, 403]\n",
      "0 > 9\n",
      "1 > 2\n",
      "1 > 3\n",
      "1 > 4\n",
      "1 > 5\n",
      "1 > 6\n",
      "1 < 7; x_j_new = [2085, 369, 112, 1739, 1087, 1713, 1901, 900, 169, 1246, 1009, 333, 145, 1011, 2010, 528, 381, 1353, 1923, 1140, 727, 634, 1841, 1384, 650, 610, 703, 1229, 1286, 1839, 2021, 1433, 1557, 1624, 597, 1415, 1931, 1780, 964, 1606, 766, 2124, 115, 1834, 1232, 2047, 1783, 1778, 665, 575, 1821, 1782, 2065, 1913, 760, 669, 1969, 1361, 1941, 1496, 550, 146, 1822, 1432, 1305, 1069, 165, 1044, 872, 324, 818, 1270, 677, 279, 354, 1880, 983, 504, 1184, 1885, 1200, 1434, 320, 263, 1062, 1029, 1584, 1820, 158, 1151, 1478, 358, 718, 1500, 1074, 965, 192, 1497, 1851, 1807, 1938, 2046, 2138, 1895, 803, 915, 1727, 2067, 2118, 1696, 1045, 564, 681, 1527, 1465, 185, 1854, 1166, 813, 1505, 1771, 1730, 460, 2009, 1776, 1051, 442, 1257, 1012, 793, 541, 443, 1802, 720, 1518, 1441, 870, 1171, 623, 338, 1955, 1014, 498, 866, 262, 984, 1561, 1571, 2076, 978, 577, 1178, 499, 838, 2048, 305, 1145, 770, 2061, 1202, 2119, 331, 1249, 1299, 350, 1082, 1750, 1707, 1358, 910, 1997, 1330, 937, 1452, 1125, 952, 1815, 531, 1154, 1329, 1814, 2086, 1729, 1049, 131, 692, 1473, 203, 456, 1386, 2008, 1766, 1565, 671, 1655, 360, 1272, 1900, 1767, 1107, 396, 734, 329, 642, 2017, 1248, 1344, 1025, 1904, 2099, 728, 2050, 1135, 1637, 1898, 2129, 2022, 1312, 1656, 1595, 593, 501, 267, 162, 714, 1843, 1137, 1663, 2019, 796, 908, 116, 2135, 1775, 408, 194, 1167, 834, 1102, 452, 246, 715, 1306, 483, 594, 297, 1323, 2042, 1798, 629, 237, 1632, 906, 1308, 1803, 592, 863, 1686, 1106, 365, 1043, 702, 1800, 336, 976, 1621, 1996, 987, 1529, 1615, 684, 1784, 1543, 624, 1431, 1129, 363, 1260, 1720, 1794, 1222, 1002, 1968, 2114, 1378, 1132, 1019, 1927, 2144, 1889, 1908, 1485, 2063, 1214, 1459, 188, 403, 607, 558, 195, 707, 1733, 1186, 1425, 206, 2033, 1464, 1314, 2147, 854, 1832, 275, 283, 1905, 1612, 618, 1221, 2060, 1346, 1959, 2082, 777, 1588, 1008, 1128, 852, 136, 233, 1213, 376, 1669, 1878, 967, 810, 1915, 1754, 103, 2051, 1553, 1519, 509, 1535, 178, 453, 1247, 2062, 428, 1047, 591, 1671, 1856, 436, 947, 2140, 1577, 1721, 990, 451, 780, 582, 1555, 2074, 975, 1189, 829, 752, 241, 1816, 1211, 1654, 2058, 525, 1242, 1791, 1037, 1977, 903, 210, 533, 1872, 123, 1788, 791, 1090, 827, 450, 149, 969, 1203, 1010, 322, 1926, 1094, 750, 840, 434, 1467, 685, 742, 2088, 1152, 2131, 102, 995, 893, 2096, 1756, 833, 581, 1238, 939, 1781, 293, 1271, 377, 765, 423, 1896, 724, 1973, 695, 161, 133, 335, 2015, 1710, 549, 1170, 495, 176, 719, 668, 226, 626, 1507, 2034, 395, 1808, 1309, 1515, 584, 2097, 1698, 1607, 578, 1875, 2075, 445, 1623, 1833, 1038, 117, 2117, 2094, 352, 1351, 1575, 1536, 1952, 1476, 1516, 1118, 1096, 1423, 240, 317, 110, 400, 514, 2095, 530, 288, 326, 1719, 1992, 1302, 1233, 205, 272, 683, 1983, 235, 1065, 1585, 1894, 1789, 2084, 137, 2066, 168, 1786, 1614, 1345, 182, 502, 1250, 758, 1277, 672, 1877, 839, 1705, 493, 180, 1712, 1581, 761, 1758, 1734, 2141, 2101, 1018, 1004, 1722, 1131, 1633, 962, 853, 814, 935, 1144, 1929, 1604, 1681, 190, 1564, 544, 215, 108, 792, 571, 260, 430, 2045, 1940, 1282, 1844, 1745, 380, 1438, 384, 1174, 851, 1619, 1183, 1180, 696, 1150, 1558, 389, 2007, 172, 1380, 1548, 1291, 244, 879, 1081, 1483, 1963, 1359, 1634, 1764, 1647, 2004, 579, 1599, 1732, 1093, 1589, 960, 1827, 890, 386, 143, 1752, 517, 1693, 1451, 1717, 476, 2027, 155, 1317, 1191, 1902, 2105, 2072, 790, 1954, 1818, 658, 732, 748, 2121, 1718, 191, 1061, 1091, 590, 1343, 1871, 641, 797, 1003, 1110, 586, 1811, 1951, 785, 1957, 583, 1377, 662, 1084, 1765, 197, 1995, 909, 912, 988, 802, 1919, 2122, 956, 1354, 1401, 1921, 608, 1292, 1298, 1109, 1779, 1463, 916, 1513, 1495, 1556, 895, 733, 1042, 570, 905, 1334, 704, 1253, 1414, 281, 1099, 1391, 1470, 1769, 1510, 258, 1917, 705, 774, 251, 224, 567, 1054, 422, 1020, 552, 1426, 522, 1063, 225, 1961, 426, 368, 808, 846, 955, 1339, 556, 1550, 148, 1416, 1797, 1657, 1124, 1331, 1409, 914, 1847, 981, 378, 1566, 521, 413, 1675, 1456, 204, 1629, 927, 1259, 1190, 2031, 1288, 1162, 963, 1608, 1975, 1149, 680, 1760, 1141, 314, 867, 1984, 1692, 1182, 1699, 1021, 1680, 2128, 222, 170, 855, 809, 1737, 440, 1067, 1215, 1324, 373, 725, 106, 686, 865, 454, 151, 444, 1083, 1639, 1157, 924, 217, 877, 290, 1240, 1828, 1845, 1430, 2056, 1751, 1942, 993, 268, 459, 1922, 1030, 1509, 1429, 2120, 822, 420, 1817, 574, 1642, 1158, 974, 1227, 782, 1666, 216, 1201, 1367, 596, 1906, 1335, 799, 1404, 661, 302, 1582, 858, 2123, 516, 1120, 494, 561, 1444, 1127, 223, 749, 930, 119, 1920, 1437, 931, 1909, 323, 385, 1982, 801, 1453, 1460, 463, 1930, 1514, 291, 1586, 405, 1175, 1547, 374, 330, 2108, 1376, 604, 735, 1636, 1549, 1578, 891, 227, 1853, 1772, 1133, 1263, 2103, 986, 693, 1336, 1446, 201, 1813, 576, 885, 2018, 1837, 1417, 932, 1399, 562, 1254, 1991, 1111, 2059, 2146, 487, 286, 496, 625, 2107, 508, 645, 120, 402, 805, 1181, 1876, 1089, 128, 1668, 391, 948, 936, 1216, 2037, 713, 1493, 397, 339, 1251, 652, 776, 587, 164, 1747, 861, 1774, 1001, 1266, 2011, 1230, 1935, 1805, 926, 482, 367, 675, 1163, 815, 1605, 1868, 1321, 972, 313, 518, 1472, 1040, 2070, 1728, 1443, 1916, 404, 1590, 731, 1910, 1625, 1104, 1296, 779, 429, 998, 757, 1899, 316, 691, 264, 1322, 511, 873, 1148, 1033, 856, 467, 1269, 1665, 1570, 1831, 292, 1697, 1289, 1487, 835, 643, 778, 1383, 469, 1123, 1318, 795, 1704, 2006, 1161, 1036, 1491, 1985, 1208, 880, 1382, 198, 1539, 285, 1262, 346, 706, 259, 1628, 1690, 1052, 243, 1454, 1333, 1290, 438, 277, 614, 1545, 1402, 1861, 708, 1525, 821, 361, 679, 1413, 398, 673, 1210, 876, 2003, 2078, 970, 1285, 1892, 1746, 265, 957, 1761, 214, 922, 1041, 134, 2002, 881, 202, 555, 923, 184, 954, 1568, 1508, 1602, 1389, 1748, 919, 1275, 1855, 1936, 1879, 406, 163, 179, 2090, 344, 667, 414, 1207, 992, 1218, 698, 1013, 147, 1966, 2040, 1113, 2053, 1494, 1873]\n"
     ]
    },
    {
     "name": "stdout",
     "output_type": "stream",
     "text": [
      "1 > 8\n",
      "1 > 9\n",
      "2 < 3; x_j_new = [1991, 1425, 1998, 1063, 2003, 1117, 1819, 1036, 632, 405, 1241, 1248, 262, 913, 577, 764, 1565, 2093, 664, 1461, 837, 2126, 130, 444, 976, 935, 193, 853, 1434, 406, 984, 1914, 214, 919, 1018, 315, 1830, 841, 1778, 1687, 2075, 1377, 373, 107, 1102, 1805, 1405, 468, 668, 728, 1948, 1961, 1661, 539, 1347, 882, 1282, 600, 1480, 1310, 653, 1211, 1280, 562, 603, 2114, 320, 1558, 1371, 1857, 737, 1532, 1881, 338, 641, 762, 1708, 2071, 244, 1505, 580, 1714, 527, 1443, 487, 300, 1795, 675, 1688, 1790, 1183, 922, 729, 2128, 1118, 910, 1694, 175, 1127, 1424, 310, 327, 679, 207, 172, 448, 1212, 420, 2015, 1624, 1994, 1867, 1276, 1764, 1689, 2014, 1151, 377, 1128, 1817, 937, 938, 1401, 414, 479, 1470, 2074, 995, 283, 1026, 1073, 2000, 2076, 1720, 1643, 1126, 926, 680, 1995, 1874, 814, 1957, 1356, 212, 1025, 1564, 563, 134, 422, 311, 1046, 1354, 1925, 1535, 866, 1508, 253, 1752, 2082, 1635, 1278, 2047, 1077, 649, 277, 1751, 658, 940, 1977, 1765, 150, 651, 1315, 1116, 1871, 1455, 231, 110, 293, 1279, 1398, 1859, 1548, 1156, 171, 1901, 1941, 1626, 166, 900, 643, 876, 1617, 1261, 1942, 1029, 506, 1272, 1491, 621, 1974, 195, 1142, 1277, 826, 1286, 1389, 677, 659, 144, 884, 514, 700, 2004, 1122, 1515, 1538, 523, 1001, 482, 1796, 623, 302, 1776, 1234, 1416, 871, 1022, 1309, 1383, 828, 588, 1451, 1926, 691, 1273, 1935, 309, 1966, 1665, 1482, 446, 1373, 559, 1681, 1594, 246, 834, 2069, 744, 909, 517, 1980, 2034, 346, 843, 1710, 1987, 515, 1101, 1472, 750, 1516, 1848, 582, 1598, 360, 1610, 2089, 2064, 755, 2140, 2102, 2065, 205, 1943, 1636, 324, 1845, 1696, 1891, 512, 972, 851, 1140, 746, 629, 1059, 681, 1690, 787, 2134, 647, 1257, 494, 808, 1407, 1067, 1835, 1573, 1958, 1988, 2058, 1123, 552, 2028, 1622, 1035, 1875, 1302, 2115, 917, 2019, 267, 112, 1523, 1343, 867, 642, 180, 790, 829, 927, 361, 2062, 1771, 376, 1078, 1440, 203, 942, 670, 1223, 1164, 1910, 1206, 777, 513, 396, 968, 1295, 2001, 765, 759, 1834, 1394, 1855, 400, 1235, 375, 1809, 1444, 862, 2048, 1489, 1479, 409, 1667, 2137, 121, 1481, 793, 912, 1152, 1806, 1582, 1321, 556, 1318, 2107, 194, 1540, 903, 1408, 1866, 1630, 1000, 1930, 1981, 1653, 1503, 511, 819, 1807, 290, 2055, 874, 802, 811, 570, 1390, 418, 907, 710, 980, 176, 1642, 1015, 1863, 760, 1368, 1802, 1592, 408, 238, 1673, 472, 2009, 1979, 959, 1823, 1697, 181, 1071, 1590, 1433, 1739, 1731, 1099, 1271, 1662, 1172, 716, 1922, 1348, 1047, 2077, 661, 1379, 208, 273, 1670, 1781, 1831, 979, 1898, 1003, 1877, 1135, 1173, 281, 1418, 1132, 1189, 1476, 650, 1417, 209, 1853, 113, 108, 136, 1788, 1711, 1274, 2025, 2051, 628, 1181, 1229, 584, 1253, 763, 950, 738, 323, 963, 1205, 399, 1129, 2143, 1507, 201, 1792, 1900, 2148, 1520, 930, 854, 1448, 1644, 343, 1655, 1589, 477, 294, 918, 1529, 669, 126, 268, 1869, 229, 880, 1166, 1199, 1931, 974, 1100, 2044, 1841, 618, 1477, 1020, 1053, 1641, 508, 1336, 847, 349, 1086, 684, 961, 1427, 374, 1504, 454, 551, 1144, 132, 170, 835, 743, 985, 689, 370, 437, 742, 1428, 299, 1325, 1014, 1219, 579, 1226, 838, 266, 480, 915, 676, 553, 1648, 914, 1566, 131, 586, 383, 1382, 1560, 1965, 1130, 688, 165, 1956, 228, 1839, 1216, 548, 1232, 1741, 626, 739, 1421, 1561, 798, 1069, 1986, 850, 307, 2144, 1954, 1779, 2084, 1495, 524, 855, 1906, 463, 1844, 589, 752, 1204, 1993, 1749, 1034, 1734, 1328, 1976, 1441, 413, 1186, 2080, 1210, 758, 485, 143, 1220, 1311, 1038, 258, 1570, 1357, 1339, 594, 2101, 149, 1031, 1945, 2092, 1611, 411, 1932, 206, 1547, 771, 934, 347, 2026, 1527, 1462, 1613, 815, 1745, 840, 501, 749, 1664, 1543, 1934, 1519, 1167, 139, 1112, 898, 717, 1450, 696, 988, 1953, 1724, 224, 1511, 955, 887, 1043, 1971, 2123, 608, 226, 966, 770, 1114, 1397, 1358, 441, 279, 782, 1355, 119, 1496, 646, 440, 1313, 220, 2099, 1154, 471, 1698, 332, 407, 430, 1985, 453, 546, 2032, 148, 534, 1658, 1997, 1585, 1367, 473, 1081, 726, 404, 183, 382, 1587, 978, 809, 356, 1803, 800, 1259, 2060, 1549, 2067, 1894, 1849, 381, 754, 1704, 1904, 1243, 1759, 1502, 500, 873, 703, 606, 1967, 248, 962, 640, 805, 151, 1292, 820, 730, 424, 1989, 1032, 655, 1629, 1494, 595, 1065, 812, 1485, 215, 1843, 255, 1297, 973, 1285, 1811, 1808, 1096, 2145, 1438, 1147, 989, 951, 2094, 1225, 2103, 1691, 1938, 1541, 135, 256, 269, 1686, 1327, 714, 1191, 189, 1899, 1076, 1575, 1016, 1049, 1949, 318, 872, 1951, 1161, 127, 1638, 1349, 498, 794, 1521, 2118, 599, 735, 1093, 496, 2141, 200, 692, 1361, 1463, 1907, 329, 1889, 1608, 1962, 1213, 185, 292, 1888, 392, 316, 2010, 932, 1829, 1506, 775, 804, 1785, 1599, 1678, 981, 875, 1769, 162, 109, 1572, 1004, 715, 426, 1228, 1846, 192, 1960, 1178, 1621, 178, 591, 1656, 1700, 2086, 1380, 1393, 1090, 1115, 2024, 357, 2090, 905, 312, 1033, 272, 1185, 1716, 707, 783, 587, 969, 462, 2030, 1203, 1066, 564, 1702, 263, 1221, 1842, 630, 1454, 660, 1928, 953, 499, 455, 1119, 1890, 1365, 331, 286, 620, 288, 803, 1011, 990, 197, 693, 259, 774, 182, 616, 2033, 1429, 929, 711, 678, 899, 1649, 1911, 572, 1224, 1419, 1262, 936, 573, 601, 1705, 1430, 341, 1106, 1008, 542, 388, 1659, 2052, 1861, 949, 1983, 1755, 237, 251, 1695, 1676, 1089, 1317, 118, 1631, 1674, 423, 1239, 116, 635, 1299, 2072, 1107, 1466, 869, 2016, 1179, 1820, 1088, 583, 198, 1322, 427, 447, 1672, 780, 1606, 1149, 342, 1160, 537, 544, 1323, 2132, 795, 607, 757, 1836, 1552, 1915, 1975, 540, 1436, 1006, 1799, 2136, 1524, 662, 1701, 578, 1105, 1794, 291, 2104, 141, 1131, 1827, 1250, 1329, 2057, 702, 933, 403, 810, 1663, 1568, 2111, 1860, 2117, 106, 490, 1471, 230, 2040, 1758, 1787, 1133, 1619, 713, 186, 2022, 410, 908, 428, 2147, 1680, 1060, 1005, 695, 1344, 235, 390, 442, 1255, 1391, 525, 1085, 1581, 2119, 633, 438, 1381, 639, 443, 2013, 1238, 560, 1314, 773, 1500, 822, 1786, 673, 243, 756, 280, 1873, 1586, 1150, 1767, 1816]\n"
     ]
    },
    {
     "ename": "KeyboardInterrupt",
     "evalue": "",
     "output_type": "error",
     "traceback": [
      "\u001b[0;31m---------------------------------------------------------------------------\u001b[0m",
      "\u001b[0;31mKeyboardInterrupt\u001b[0m                         Traceback (most recent call last)",
      "Cell \u001b[0;32mIn [12], line 22\u001b[0m\n\u001b[1;32m     16\u001b[0m \u001b[38;5;28;01mif\u001b[39;00m i \u001b[38;5;241m!=\u001b[39m j:\n\u001b[1;32m     17\u001b[0m     watermark_i \u001b[38;5;241m=\u001b[39m Watermark(\n\u001b[1;32m     18\u001b[0m         firefly\u001b[38;5;241m.\u001b[39mpopulation[i], \n\u001b[1;32m     19\u001b[0m         firefly\u001b[38;5;241m.\u001b[39membedded_image_bin, \n\u001b[1;32m     20\u001b[0m         firefly\u001b[38;5;241m.\u001b[39mimage_matrix\n\u001b[1;32m     21\u001b[0m     )\n\u001b[0;32m---> 22\u001b[0m     watermark_j \u001b[38;5;241m=\u001b[39m \u001b[43mWatermark\u001b[49m\u001b[43m(\u001b[49m\n\u001b[1;32m     23\u001b[0m \u001b[43m        \u001b[49m\u001b[43mfirefly\u001b[49m\u001b[38;5;241;43m.\u001b[39;49m\u001b[43mpopulation\u001b[49m\u001b[43m[\u001b[49m\u001b[43mj\u001b[49m\u001b[43m]\u001b[49m\u001b[43m,\u001b[49m\u001b[43m \u001b[49m\n\u001b[1;32m     24\u001b[0m \u001b[43m        \u001b[49m\u001b[43mfirefly\u001b[49m\u001b[38;5;241;43m.\u001b[39;49m\u001b[43membedded_image_bin\u001b[49m\u001b[43m,\u001b[49m\u001b[43m \u001b[49m\n\u001b[1;32m     25\u001b[0m \u001b[43m        \u001b[49m\u001b[43mfirefly\u001b[49m\u001b[38;5;241;43m.\u001b[39;49m\u001b[43mimage_matrix\u001b[49m\n\u001b[1;32m     26\u001b[0m \u001b[43m    \u001b[49m\u001b[43m)\u001b[49m\n\u001b[1;32m     27\u001b[0m     \u001b[38;5;66;03m# Если у первого светлячка целевая функция меньше чем у второго \u001b[39;00m\n\u001b[1;32m     28\u001b[0m     population_i \u001b[38;5;241m=\u001b[39m [a[\u001b[38;5;124m\"\u001b[39m\u001b[38;5;124mindex\u001b[39m\u001b[38;5;124m\"\u001b[39m] \u001b[38;5;28;01mfor\u001b[39;00m a \u001b[38;5;129;01min\u001b[39;00m firefly\u001b[38;5;241m.\u001b[39mpopulation[i]]\n",
      "File \u001b[0;32m~/Documents/vkr/src/models.py:42\u001b[0m, in \u001b[0;36mWatermark.__init__\u001b[0;34m(self, candidate_blocks, embedded_image_bin, image_matrix)\u001b[0m\n\u001b[1;32m     40\u001b[0m \u001b[38;5;28mself\u001b[39m\u001b[38;5;241m.\u001b[39mpsnr \u001b[38;5;241m=\u001b[39m Utilities\u001b[38;5;241m.\u001b[39mget_psnr(\u001b[38;5;28mself\u001b[39m\u001b[38;5;241m.\u001b[39mimage_matrix, \u001b[38;5;28mself\u001b[39m\u001b[38;5;241m.\u001b[39mwatermark_matrix)\n\u001b[1;32m     41\u001b[0m \u001b[38;5;28mself\u001b[39m\u001b[38;5;241m.\u001b[39mextracted_image_bin \u001b[38;5;241m=\u001b[39m Utilities\u001b[38;5;241m.\u001b[39mextracting(\u001b[38;5;28mself\u001b[39m\u001b[38;5;241m.\u001b[39mwatermark, \u001b[38;5;28mself\u001b[39m\u001b[38;5;241m.\u001b[39msecret_key)\n\u001b[0;32m---> 42\u001b[0m \u001b[38;5;28mself\u001b[39m\u001b[38;5;241m.\u001b[39mevaluation \u001b[38;5;241m=\u001b[39m \u001b[38;5;28;43mself\u001b[39;49m\u001b[38;5;241;43m.\u001b[39;49m\u001b[43mevaluate\u001b[49m\u001b[43m(\u001b[49m\u001b[43m)\u001b[49m\n",
      "File \u001b[0;32m~/Documents/vkr/src/models.py:111\u001b[0m, in \u001b[0;36mWatermark.evaluate\u001b[0;34m(self)\u001b[0m\n\u001b[1;32m    108\u001b[0m gamma \u001b[38;5;241m=\u001b[39m \u001b[38;5;241m10\u001b[39m\n\u001b[1;32m    110\u001b[0m \u001b[38;5;66;03m# Произвожу разные атаки на стеганограмму и пытаюсь получить ЦВЗ\u001b[39;00m\n\u001b[0;32m--> 111\u001b[0m attacked \u001b[38;5;241m=\u001b[39m \u001b[43mAttack\u001b[49m\u001b[43m(\u001b[49m\u001b[38;5;28;43mself\u001b[39;49m\u001b[38;5;241;43m.\u001b[39;49m\u001b[43mwatermark\u001b[49m\u001b[43m)\u001b[49m\n\u001b[1;32m    113\u001b[0m mf \u001b[38;5;241m=\u001b[39m Utilities\u001b[38;5;241m.\u001b[39mextracting(Utilities\u001b[38;5;241m.\u001b[39mmatrix_to_image(attacked\u001b[38;5;241m.\u001b[39mmf), \u001b[38;5;28mself\u001b[39m\u001b[38;5;241m.\u001b[39msecret_key)\n\u001b[1;32m    114\u001b[0m gs3 \u001b[38;5;241m=\u001b[39m Utilities\u001b[38;5;241m.\u001b[39mextracting(Utilities\u001b[38;5;241m.\u001b[39mmatrix_to_image(attacked\u001b[38;5;241m.\u001b[39mmf), \u001b[38;5;28mself\u001b[39m\u001b[38;5;241m.\u001b[39msecret_key)\n",
      "File \u001b[0;32m~/Documents/vkr/src/utilities.py:241\u001b[0m, in \u001b[0;36mAttack.__init__\u001b[0;34m(self, image)\u001b[0m\n\u001b[1;32m    239\u001b[0m \u001b[38;5;28mself\u001b[39m\u001b[38;5;241m.\u001b[39mrt5 \u001b[38;5;241m=\u001b[39m \u001b[38;5;28mself\u001b[39m\u001b[38;5;241m.\u001b[39mrotation()\n\u001b[1;32m    240\u001b[0m \u001b[38;5;28mself\u001b[39m\u001b[38;5;241m.\u001b[39mrt45 \u001b[38;5;241m=\u001b[39m \u001b[38;5;28mself\u001b[39m\u001b[38;5;241m.\u001b[39mrotation(angle\u001b[38;5;241m=\u001b[39m\u001b[38;5;241m45\u001b[39m)\n\u001b[0;32m--> 241\u001b[0m \u001b[38;5;28mself\u001b[39m\u001b[38;5;241m.\u001b[39mrt90 \u001b[38;5;241m=\u001b[39m \u001b[38;5;28;43mself\u001b[39;49m\u001b[38;5;241;43m.\u001b[39;49m\u001b[43mrotation\u001b[49m\u001b[43m(\u001b[49m\u001b[43mangle\u001b[49m\u001b[38;5;241;43m=\u001b[39;49m\u001b[38;5;241;43m90\u001b[39;49m\u001b[43m)\u001b[49m\n\u001b[1;32m    242\u001b[0m \u001b[38;5;28mself\u001b[39m\u001b[38;5;241m.\u001b[39mcom70 \u001b[38;5;241m=\u001b[39m \u001b[38;5;28mself\u001b[39m\u001b[38;5;241m.\u001b[39mcompression()\n\u001b[1;32m    243\u001b[0m \u001b[38;5;28mself\u001b[39m\u001b[38;5;241m.\u001b[39mcom80 \u001b[38;5;241m=\u001b[39m \u001b[38;5;28mself\u001b[39m\u001b[38;5;241m.\u001b[39mcompression(quality\u001b[38;5;241m=\u001b[39m\u001b[38;5;241m80\u001b[39m)\n",
      "File \u001b[0;32m~/Documents/vkr/src/utilities.py:353\u001b[0m, in \u001b[0;36mAttack.rotation\u001b[0;34m(self, angle)\u001b[0m\n\u001b[1;32m    348\u001b[0m \u001b[38;5;28;01mdef\u001b[39;00m \u001b[38;5;21mrotation\u001b[39m(\u001b[38;5;28mself\u001b[39m, angle\u001b[38;5;241m=\u001b[39m\u001b[38;5;241m5\u001b[39m):\n\u001b[1;32m    349\u001b[0m \u001b[38;5;250m    \u001b[39m\u001b[38;5;124;03m\"\"\"\u001b[39;00m\n\u001b[1;32m    350\u001b[0m \u001b[38;5;124;03m    Вращает изображение против часовой стрелки на заданный угол\u001b[39;00m\n\u001b[1;32m    351\u001b[0m \u001b[38;5;124;03m    :param angle: Возможные параметры: 5, 45, 90\u001b[39;00m\n\u001b[1;32m    352\u001b[0m \u001b[38;5;124;03m    \"\"\"\u001b[39;00m\n\u001b[0;32m--> 353\u001b[0m     \u001b[38;5;28;01mreturn\u001b[39;00m np\u001b[38;5;241m.\u001b[39marray(\u001b[43mrotate\u001b[49m\u001b[43m(\u001b[49m\u001b[38;5;28;43mself\u001b[39;49m\u001b[38;5;241;43m.\u001b[39;49m\u001b[43mimage_matrix\u001b[49m\u001b[43m,\u001b[49m\u001b[43m \u001b[49m\u001b[43mangle\u001b[49m\u001b[38;5;241;43m=\u001b[39;49m\u001b[43mangle\u001b[49m\u001b[43m)\u001b[49m, dtype\u001b[38;5;241m=\u001b[39mnp\u001b[38;5;241m.\u001b[39muint8)\n",
      "File \u001b[0;32m~/.local/lib/python3.11/site-packages/scipy/ndimage/_interpolation.py:986\u001b[0m, in \u001b[0;36mrotate\u001b[0;34m(input, angle, axes, reshape, output, order, mode, cval, prefilter)\u001b[0m\n\u001b[1;32m    982\u001b[0m output \u001b[38;5;241m=\u001b[39m _ni_support\u001b[38;5;241m.\u001b[39m_get_output(output, input_arr, shape\u001b[38;5;241m=\u001b[39moutput_shape,\n\u001b[1;32m    983\u001b[0m                                  complex_output\u001b[38;5;241m=\u001b[39mcomplex_output)\n\u001b[1;32m    985\u001b[0m \u001b[38;5;28;01mif\u001b[39;00m ndim \u001b[38;5;241m<\u001b[39m\u001b[38;5;241m=\u001b[39m \u001b[38;5;241m2\u001b[39m:\n\u001b[0;32m--> 986\u001b[0m     \u001b[43maffine_transform\u001b[49m\u001b[43m(\u001b[49m\u001b[43minput_arr\u001b[49m\u001b[43m,\u001b[49m\u001b[43m \u001b[49m\u001b[43mrot_matrix\u001b[49m\u001b[43m,\u001b[49m\u001b[43m \u001b[49m\u001b[43moffset\u001b[49m\u001b[43m,\u001b[49m\u001b[43m \u001b[49m\u001b[43moutput_shape\u001b[49m\u001b[43m,\u001b[49m\u001b[43m \u001b[49m\u001b[43moutput\u001b[49m\u001b[43m,\u001b[49m\n\u001b[1;32m    987\u001b[0m \u001b[43m                     \u001b[49m\u001b[43morder\u001b[49m\u001b[43m,\u001b[49m\u001b[43m \u001b[49m\u001b[43mmode\u001b[49m\u001b[43m,\u001b[49m\u001b[43m \u001b[49m\u001b[43mcval\u001b[49m\u001b[43m,\u001b[49m\u001b[43m \u001b[49m\u001b[43mprefilter\u001b[49m\u001b[43m)\u001b[49m\n\u001b[1;32m    988\u001b[0m \u001b[38;5;28;01melse\u001b[39;00m:\n\u001b[1;32m    989\u001b[0m     \u001b[38;5;66;03m# If ndim > 2, the rotation is applied over all the planes\u001b[39;00m\n\u001b[1;32m    990\u001b[0m     \u001b[38;5;66;03m# parallel to axes\u001b[39;00m\n\u001b[1;32m    991\u001b[0m     planes_coord \u001b[38;5;241m=\u001b[39m itertools\u001b[38;5;241m.\u001b[39mproduct(\n\u001b[1;32m    992\u001b[0m         \u001b[38;5;241m*\u001b[39m[[\u001b[38;5;28mslice\u001b[39m(\u001b[38;5;28;01mNone\u001b[39;00m)] \u001b[38;5;28;01mif\u001b[39;00m ax \u001b[38;5;129;01min\u001b[39;00m axes \u001b[38;5;28;01melse\u001b[39;00m \u001b[38;5;28mrange\u001b[39m(img_shape[ax])\n\u001b[1;32m    993\u001b[0m           \u001b[38;5;28;01mfor\u001b[39;00m ax \u001b[38;5;129;01min\u001b[39;00m \u001b[38;5;28mrange\u001b[39m(ndim)])\n",
      "File \u001b[0;32m~/.local/lib/python3.11/site-packages/scipy/ndimage/_interpolation.py:628\u001b[0m, in \u001b[0;36maffine_transform\u001b[0;34m(input, matrix, offset, output_shape, output, order, mode, cval, prefilter)\u001b[0m\n\u001b[1;32m    625\u001b[0m     _nd_image\u001b[38;5;241m.\u001b[39mzoom_shift(filtered, matrix, offset\u001b[38;5;241m/\u001b[39mmatrix, output, order,\n\u001b[1;32m    626\u001b[0m                          mode, cval, npad, \u001b[38;5;28;01mFalse\u001b[39;00m)\n\u001b[1;32m    627\u001b[0m \u001b[38;5;28;01melse\u001b[39;00m:\n\u001b[0;32m--> 628\u001b[0m     \u001b[43m_nd_image\u001b[49m\u001b[38;5;241;43m.\u001b[39;49m\u001b[43mgeometric_transform\u001b[49m\u001b[43m(\u001b[49m\u001b[43mfiltered\u001b[49m\u001b[43m,\u001b[49m\u001b[43m \u001b[49m\u001b[38;5;28;43;01mNone\u001b[39;49;00m\u001b[43m,\u001b[49m\u001b[43m \u001b[49m\u001b[38;5;28;43;01mNone\u001b[39;49;00m\u001b[43m,\u001b[49m\u001b[43m \u001b[49m\u001b[43mmatrix\u001b[49m\u001b[43m,\u001b[49m\u001b[43m \u001b[49m\u001b[43moffset\u001b[49m\u001b[43m,\u001b[49m\n\u001b[1;32m    629\u001b[0m \u001b[43m                                  \u001b[49m\u001b[43moutput\u001b[49m\u001b[43m,\u001b[49m\u001b[43m \u001b[49m\u001b[43morder\u001b[49m\u001b[43m,\u001b[49m\u001b[43m \u001b[49m\u001b[43mmode\u001b[49m\u001b[43m,\u001b[49m\u001b[43m \u001b[49m\u001b[43mcval\u001b[49m\u001b[43m,\u001b[49m\u001b[43m \u001b[49m\u001b[43mnpad\u001b[49m\u001b[43m,\u001b[49m\u001b[43m \u001b[49m\u001b[38;5;28;43;01mNone\u001b[39;49;00m\u001b[43m,\u001b[49m\n\u001b[1;32m    630\u001b[0m \u001b[43m                                  \u001b[49m\u001b[38;5;28;43;01mNone\u001b[39;49;00m\u001b[43m)\u001b[49m\n\u001b[1;32m    631\u001b[0m \u001b[38;5;28;01mreturn\u001b[39;00m output\n",
      "\u001b[0;31mKeyboardInterrupt\u001b[0m: "
     ]
    }
   ],
   "source": [
    "import math\n",
    "import random\n",
    "import numpy as np\n",
    "\n",
    "# iterations = firefly.max_iterations\n",
    "iterations = 5\n",
    "d_max = (2048 - 1) * np.sqrt(1024)\n",
    "\n",
    "for iteration in range(iterations):\n",
    "    print(f\"============== Iteration {iteration} ==============\")\n",
    "    count = 0\n",
    "    b = (1 + iteration / iterations) * iterations\n",
    "    \n",
    "    for i in range(firefly.population_size):\n",
    "        for j in range(i, firefly.population_size):\n",
    "            if i != j:\n",
    "                watermark_i = Watermark(\n",
    "                    firefly.population[i], \n",
    "                    firefly.embedded_image_bin, \n",
    "                    firefly.image_matrix\n",
    "                )\n",
    "                watermark_j = Watermark(\n",
    "                    firefly.population[j], \n",
    "                    firefly.embedded_image_bin, \n",
    "                    firefly.image_matrix\n",
    "                )\n",
    "                # Если у первого светлячка целевая функция меньше чем у второго \n",
    "                population_i = [a[\"index\"] for a in firefly.population[i]]\n",
    "                population_j = [b[\"index\"] for b in firefly.population[j]]\n",
    "                if watermark_i.evaluation < watermark_j.evaluation:\n",
    "                    # То пересчитываем расстояние между светлячками\n",
    "                    r = round(np.sum(np.abs(np.subtract(population_j, population_i))) / d_max, 2)\n",
    "                    a = random.randint(1, 10)\n",
    "                    # firefly.population[j] = \n",
    "                    # TODO: Вычислить индексы новых блоков по инкременту к сортировочному индексу\n",
    "                    # а затем сформировать нового светлячка по полученным индексам\n",
    "                    # Возможно следует подобрать новую структуру данных для всех блоков дабы \n",
    "                    # быстро производить маппинг разных элементов по индексам \n",
    "                    x_j_new = [x[\"sorted_i\"] + int(b * r) + a for x in firefly.population[j]]\n",
    "                    print(f\"{i} < {j}; x_j_new = {x_j_new}\")\n",
    "                else:\n",
    "                    print(f\"{i} > {j}\")\n",
    "                count +=1  # Считаем количество сравнений\n",
    "    print(f\"Всего выполнено {count} сравнений.\")"
   ]
  },
  {
   "cell_type": "code",
   "execution_count": null,
   "id": "6d55e2bc",
   "metadata": {},
   "outputs": [],
   "source": [
    "import numpy as np\n",
    "np.subtract([2,3,4],[1,1,1])"
   ]
  },
  {
   "cell_type": "code",
   "execution_count": null,
   "id": "333d4524",
   "metadata": {},
   "outputs": [],
   "source": [
    "firefly.population[j]"
   ]
  },
  {
   "cell_type": "code",
   "execution_count": null,
   "id": "7502fa67",
   "metadata": {},
   "outputs": [],
   "source": []
  }
 ],
 "metadata": {
  "kernelspec": {
   "display_name": "Python 3 (ipykernel)",
   "language": "python",
   "name": "python3"
  },
  "language_info": {
   "codemirror_mode": {
    "name": "ipython",
    "version": 3
   },
   "file_extension": ".py",
   "mimetype": "text/x-python",
   "name": "python",
   "nbconvert_exporter": "python",
   "pygments_lexer": "ipython3",
   "version": "3.11.2"
  }
 },
 "nbformat": 4,
 "nbformat_minor": 5
}
