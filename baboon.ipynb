{
 "cells": [
  {
   "cell_type": "markdown",
   "id": "6f28f466",
   "metadata": {},
   "source": [
    "## Часть 2. \n",
    "### Демонстрация гибридного алгоритма"
   ]
  },
  {
   "cell_type": "code",
   "execution_count": 1,
   "id": "776ca719",
   "metadata": {
    "scrolled": false
   },
   "outputs": [
    {
     "name": "stderr",
     "output_type": "stream",
     "text": [
      "/home/evgeny/Documents/vkr/src/utilities.py:104: RuntimeWarning: divide by zero encountered in log\n",
      "  items.append(i * np.log(i))\n",
      "/home/evgeny/Documents/vkr/src/utilities.py:104: RuntimeWarning: invalid value encountered in scalar multiply\n",
      "  items.append(i * np.log(i))\n"
     ]
    }
   ],
   "source": [
    "from src import HybridMetaheuristic\n",
    "\n",
    "\n",
    "baboon = HybridMetaheuristic(\"pic/baboon.png\", \"pic/logo.png\")"
   ]
  },
  {
   "cell_type": "code",
   "execution_count": null,
   "id": "24d4226b",
   "metadata": {
    "scrolled": false
   },
   "outputs": [
    {
     "name": "stdout",
     "output_type": "stream",
     "text": [
      "Best Genetic: {'score': 2.3932, 'ssim': 0.9937, 'psnr': 39.29, 'nc': 0.8831, 'th': 10.0}\n",
      "Best Firefly: {'value': 15.287088905464614, 'score': 2.4143748203921858, 'attract': 1.0}\n",
      "Best Firefly: {'value': 10.30253214592106, 'score': 2.4128528758916614, 'attract': 0.7800025727620042}\n",
      "Best Firefly: {'value': 11.599121808942401, 'score': 2.4111591571824214, 'attract': 0.11912871814260523}\n",
      "Best Firefly: {'value': 10.0, 'score': 2.4124899179537183, 'attract': 0.9747522862993522}\n",
      "Best Firefly: {'value': 10.240374169604639, 'score': 2.4118466396326124, 'attract': 0.06106065028025577}\n",
      "Best Firefly: {'value': 10.0, 'score': 2.411890376454724, 'attract': 0.9994223694786497}\n",
      "Best Firefly: {'value': 9.635718101130667, 'score': 2.4105702521956136, 'attract': 0.9968193611940285}\n",
      "Best Firefly: {'value': 8.954835019908973, 'score': 2.410560370014811, 'attract': 0.9922390629950311}\n",
      "Best Firefly: {'value': 9.161685430588989, 'score': 2.4102388718701047, 'attract': 0.015366566591893012}\n",
      "Best Firefly: {'value': 10.526178532384794, 'score': 2.411269456431201, 'attract': 0.0020908957787359743}\n",
      "Best Firefly: {'value': 10.902407450520107, 'score': 2.4109197661853834, 'attract': 0.5226595454183645}\n",
      "Best Firefly: {'value': 10.199061041499016, 'score': 2.4108418831836294, 'attract': 0.9944904742901738}\n",
      "Best Firefly: {'value': 9.425426633455709, 'score': 2.409871169755732, 'attract': 0.9872837178671414}\n",
      "Best Firefly: {'value': 10.148917241601607, 'score': 2.411353539356522, 'attract': 0.8385017181750991}\n",
      "Best Firefly: {'value': 10.667826618184707, 'score': 2.4105567750722123, 'attract': 0.890518956539761}\n",
      "Best Firefly: {'value': 9.63442435001221, 'score': 2.4117163054961503, 'attract': 0.0020882053072500202}\n",
      "Best Firefly: {'value': 10.865668662083785, 'score': 2.4113161938424827, 'attract': 0.8859558016050054}\n",
      "Best Firefly: {'value': 9.93044800807374, 'score': 2.4113919311974126, 'attract': 0.9703821971823218}\n",
      "Best Firefly: {'value': 10.232074751469591, 'score': 2.410563522957803, 'attract': 0.9872380615501865}\n",
      "Best Firefly: {'value': 10.365947256503437, 'score': 2.410948925105134, 'attract': 0.9847542818591727}\n",
      "Best Firefly: {'value': 9.721551326096758, 'score': 2.4122762777590143, 'attract': 0.9958561483945021}\n",
      "Best Firefly: {'value': 9.92422160720755, 'score': 2.410908322198509, 'attract': 0.9538110134254374}\n",
      "Best Firefly: {'value': 10.290305599287494, 'score': 2.4116939316708503, 'attract': 0.9975730569347688}\n",
      "Best Firefly: {'value': 10.489417134281624, 'score': 2.411065189692885, 'attract': 0.4786257311352904}\n",
      "Best Firefly: {'value': 10.852318837947186, 'score': 2.4112402677574867, 'attract': 0.0019773567188076614}\n",
      "Best Firefly: {'value': 10.651775482051036, 'score': 2.4110476642217193, 'attract': 0.016651142693777207}\n",
      "Best Firefly: {'value': 9.721551326096758, 'score': 2.4107693190804937, 'attract': 0.984694996788286}\n"
     ]
    }
   ],
   "source": [
    "# Запускаю алгоритм гибридной метаэвристики\n",
    "baboon.evolution()"
   ]
  },
  {
   "cell_type": "code",
   "execution_count": null,
   "id": "add7569e",
   "metadata": {},
   "outputs": [],
   "source": [
    "# Лучший параметр Светлячка\n",
    "baboon.best_firefly['value']"
   ]
  },
  {
   "cell_type": "code",
   "execution_count": null,
   "id": "e326b1dd",
   "metadata": {},
   "outputs": [],
   "source": [
    "from src import Watermark\n",
    "\n",
    "# Пробую погрузить ЦВЗ с полученными параметрами\n",
    "watermark = Watermark(\n",
    "    baboon.best_candidate_indexes, \n",
    "    baboon.embedded_image_bin, \n",
    "    baboon.image_matrix, \n",
    "    baboon.best_firefly['value']\n",
    ")"
   ]
  },
  {
   "cell_type": "code",
   "execution_count": null,
   "id": "363128bf",
   "metadata": {
    "scrolled": false
   },
   "outputs": [],
   "source": [
    "# Исходное изображение без ЦВЗ\n",
    "baboon.image"
   ]
  },
  {
   "cell_type": "code",
   "execution_count": null,
   "id": "1bd3689b",
   "metadata": {
    "scrolled": false
   },
   "outputs": [],
   "source": [
    "# Полученное изображение с ЦВЗ\n",
    "watermark.watermark"
   ]
  },
  {
   "cell_type": "code",
   "execution_count": null,
   "id": "12a6f9f0",
   "metadata": {
    "scrolled": false
   },
   "outputs": [],
   "source": [
    "import matplotlib.pyplot as plt\n",
    "\n",
    "plt.imshow(watermark.extracted_image_bin, cmap=plt.cm.gray)"
   ]
  },
  {
   "cell_type": "code",
   "execution_count": null,
   "id": "e6119c9c",
   "metadata": {},
   "outputs": [],
   "source": [
    "from src import Attack, Utilities\n",
    "\n",
    "attacked = Attack(watermark.watermark)"
   ]
  },
  {
   "cell_type": "code",
   "execution_count": null,
   "id": "e74ee5b2",
   "metadata": {},
   "outputs": [],
   "source": [
    "# медианный фильтр\n",
    "\n",
    "mf = Utilities.extracting(Utilities.matrix_to_image(attacked.mf), watermark.secret_key)\n",
    "Utilities.get_normal_correlation(mf, watermark.embedded_image_bin)"
   ]
  },
  {
   "cell_type": "code",
   "execution_count": null,
   "id": "d341a4a5",
   "metadata": {},
   "outputs": [],
   "source": [
    "# фильтр Гаусса\n",
    "\n",
    "gs3 = Utilities.extracting(Utilities.matrix_to_image(attacked.gs3), watermark.secret_key)\n",
    "Utilities.get_normal_correlation(gs3, watermark.embedded_image_bin)"
   ]
  },
  {
   "cell_type": "code",
   "execution_count": null,
   "id": "5c90acd8",
   "metadata": {},
   "outputs": [],
   "source": [
    "# фильтр Гаусса, kernel=5\n",
    "\n",
    "gs5 = Utilities.extracting(Utilities.matrix_to_image(attacked.gs5), watermark.secret_key)\n",
    "Utilities.get_normal_correlation(gs5, watermark.embedded_image_bin)"
   ]
  },
  {
   "cell_type": "code",
   "execution_count": null,
   "id": "ab4bbf7c",
   "metadata": {},
   "outputs": [],
   "source": [
    "# усредненная фильтрация, kernel=3\n",
    "\n",
    "avr = Utilities.extracting(Utilities.matrix_to_image(attacked.avr), watermark.secret_key)\n",
    "Utilities.get_normal_correlation(avr, watermark.embedded_image_bin)"
   ]
  },
  {
   "cell_type": "code",
   "execution_count": null,
   "id": "856b633e",
   "metadata": {},
   "outputs": [],
   "source": [
    "# Фильтр увеличивает контраст соседних пикселей\n",
    "\n",
    "shr = Utilities.extracting(Utilities.matrix_to_image(attacked.shr), watermark.secret_key)\n",
    "Utilities.get_normal_correlation(shr, watermark.embedded_image_bin)"
   ]
  },
  {
   "cell_type": "code",
   "execution_count": null,
   "id": "af578bff",
   "metadata": {},
   "outputs": [],
   "source": [
    "# Изменение контрастности изображения с использованием гистограмм\n",
    "\n",
    "his = Utilities.extracting(Utilities.matrix_to_image(attacked.his), watermark.secret_key)\n",
    "Utilities.get_normal_correlation(his, watermark.embedded_image_bin)"
   ]
  },
  {
   "cell_type": "code",
   "execution_count": null,
   "id": "50c8e28a",
   "metadata": {},
   "outputs": [],
   "source": [
    "# Искажения яркости пикселей с параметром gamma=0.2\n",
    "\n",
    "gc2 = Utilities.extracting(Utilities.matrix_to_image(attacked.gc2), watermark.secret_key)\n",
    "Utilities.get_normal_correlation(gc2, watermark.embedded_image_bin)"
   ]
  },
  {
   "cell_type": "code",
   "execution_count": null,
   "id": "9aa1e1c1",
   "metadata": {},
   "outputs": [],
   "source": [
    "# Искажения яркости пикселей с параметром gamma=0.4\n",
    "\n",
    "gc4 = Utilities.extracting(Utilities.matrix_to_image(attacked.gc4), watermark.secret_key)\n",
    "Utilities.get_normal_correlation(gc4, watermark.embedded_image_bin)"
   ]
  },
  {
   "cell_type": "code",
   "execution_count": null,
   "id": "02cf49f7",
   "metadata": {},
   "outputs": [],
   "source": [
    "# Гауссовый шум с параметром 0,001\n",
    "\n",
    "gn1 = Utilities.extracting(Utilities.matrix_to_image(attacked.gn1), watermark.secret_key)\n",
    "Utilities.get_normal_correlation(gn1, watermark.embedded_image_bin)"
   ]
  },
  {
   "cell_type": "code",
   "execution_count": null,
   "id": "d0efaeba",
   "metadata": {},
   "outputs": [],
   "source": [
    "# Гауссовый шум с параметром 0,005\n",
    "\n",
    "gn5 = Utilities.extracting(Utilities.matrix_to_image(attacked.gn5), watermark.secret_key)\n",
    "Utilities.get_normal_correlation(gn5, watermark.embedded_image_bin)"
   ]
  },
  {
   "cell_type": "code",
   "execution_count": null,
   "id": "1d3560ad",
   "metadata": {},
   "outputs": [],
   "source": [
    "# Гауссовый шум с параметром 0,009\n",
    "\n",
    "gn9 = Utilities.extracting(Utilities.matrix_to_image(attacked.gn9), watermark.secret_key)\n",
    "Utilities.get_normal_correlation(gn9, watermark.embedded_image_bin)"
   ]
  },
  {
   "cell_type": "code",
   "execution_count": null,
   "id": "812e2957",
   "metadata": {},
   "outputs": [],
   "source": [
    "# Атака соль/перец с параметром p=0.01\n",
    "\n",
    "sp1 = Utilities.extracting(Utilities.matrix_to_image(attacked.sp1), watermark.secret_key)\n",
    "Utilities.get_normal_correlation(sp1, watermark.embedded_image_bin)"
   ]
  },
  {
   "cell_type": "code",
   "execution_count": null,
   "id": "6d75fb0e",
   "metadata": {},
   "outputs": [],
   "source": [
    "# Атака соль/перец с параметром p=0.02\n",
    "\n",
    "sp2 = Utilities.extracting(Utilities.matrix_to_image(attacked.sp2), watermark.secret_key)\n",
    "Utilities.get_normal_correlation(sp2, watermark.embedded_image_bin)"
   ]
  },
  {
   "cell_type": "code",
   "execution_count": null,
   "id": "e52eeb78",
   "metadata": {},
   "outputs": [],
   "source": [
    "# Атака соль/перец с параметром p=0.03\n",
    "\n",
    "sp3 = Utilities.extracting(Utilities.matrix_to_image(attacked.sp3), watermark.secret_key)\n",
    "Utilities.get_normal_correlation(sp3, watermark.embedded_image_bin)"
   ]
  },
  {
   "cell_type": "code",
   "execution_count": null,
   "id": "074d9680",
   "metadata": {},
   "outputs": [],
   "source": [
    "# В заданной области затемняет 1/4 пикселей, с параметром center\n",
    "\n",
    "crp_ct = Utilities.extracting(Utilities.matrix_to_image(attacked.crp_ct), watermark.secret_key)\n",
    "Utilities.get_normal_correlation(crp_ct, watermark.embedded_image_bin)"
   ]
  },
  {
   "cell_type": "code",
   "execution_count": null,
   "id": "2b05de3f",
   "metadata": {},
   "outputs": [],
   "source": [
    "# В заданной области затемняет 1/4 пикселей, с параметром top-left\n",
    "\n",
    "crp_tl = Utilities.extracting(Utilities.matrix_to_image(attacked.crp_tl), watermark.secret_key)\n",
    "Utilities.get_normal_correlation(crp_tl, watermark.embedded_image_bin)"
   ]
  },
  {
   "cell_type": "code",
   "execution_count": null,
   "id": "ddd61754",
   "metadata": {},
   "outputs": [],
   "source": [
    "# В заданной области затемняет 1/4 пикселей, с параметром bottom-right\n",
    "\n",
    "crp_br = Utilities.extracting(Utilities.matrix_to_image(attacked.crp_br), watermark.secret_key)\n",
    "Utilities.get_normal_correlation(crp_br, watermark.embedded_image_bin)"
   ]
  },
  {
   "cell_type": "code",
   "execution_count": null,
   "id": "efe7eff1",
   "metadata": {},
   "outputs": [],
   "source": [
    "# Растягивает изображения и возвращает к изначальным размерам \n",
    "\n",
    "scl_1024 = Utilities.extracting(Utilities.matrix_to_image(attacked.scl_1024), watermark.secret_key)\n",
    "Utilities.get_normal_correlation(scl_1024, watermark.embedded_image_bin)"
   ]
  },
  {
   "cell_type": "code",
   "execution_count": null,
   "id": "a2a62db3",
   "metadata": {},
   "outputs": [],
   "source": [
    "# Сжимает изображения и возвращает к изначальным размерам \n",
    "\n",
    "scl_256 = Utilities.extracting(Utilities.matrix_to_image(attacked.scl_256), watermark.secret_key)\n",
    "Utilities.get_normal_correlation(scl_256, watermark.embedded_image_bin)"
   ]
  },
  {
   "cell_type": "code",
   "execution_count": null,
   "id": "5f5569b8",
   "metadata": {},
   "outputs": [],
   "source": [
    "# Вращает изображение против часовой стрелки на заданный угол, 5 градусов\n",
    "\n",
    "rt5 = Utilities.extracting(Utilities.matrix_to_image(attacked.rt5), watermark.secret_key)\n",
    "Utilities.get_normal_correlation(rt5, watermark.embedded_image_bin)"
   ]
  },
  {
   "cell_type": "code",
   "execution_count": null,
   "id": "49243aef",
   "metadata": {},
   "outputs": [],
   "source": [
    "# Вращает изображение против часовой стрелки на заданный угол, 45 градусов\n",
    "\n",
    "rt45 = Utilities.extracting(Utilities.matrix_to_image(attacked.rt45), watermark.secret_key)\n",
    "Utilities.get_normal_correlation(rt45, watermark.embedded_image_bin)"
   ]
  },
  {
   "cell_type": "code",
   "execution_count": null,
   "id": "24272943",
   "metadata": {},
   "outputs": [],
   "source": [
    "# Вращает изображение против часовой стрелки на заданный угол, 90 градусов\n",
    "\n",
    "rt90 = Utilities.extracting(Utilities.matrix_to_image(attacked.rt90), watermark.secret_key)\n",
    "Utilities.get_normal_correlation(rt90, watermark.embedded_image_bin)"
   ]
  },
  {
   "cell_type": "code",
   "execution_count": null,
   "id": "86a7113f",
   "metadata": {},
   "outputs": [],
   "source": [
    "# Применяет сжатие JPEG с заданным параметром качества, с параметром 70\n",
    "\n",
    "com70 = Utilities.extracting(Utilities.matrix_to_image(attacked.com70), watermark.secret_key)\n",
    "Utilities.get_normal_correlation(com70, watermark.embedded_image_bin)"
   ]
  },
  {
   "cell_type": "code",
   "execution_count": null,
   "id": "43d1452a",
   "metadata": {},
   "outputs": [],
   "source": [
    "# Применяет сжатие JPEG с заданным параметром качества, с параметром 80\n",
    "\n",
    "com80 = Utilities.extracting(Utilities.matrix_to_image(attacked.com80), watermark.secret_key)\n",
    "Utilities.get_normal_correlation(com80, watermark.embedded_image_bin)"
   ]
  },
  {
   "cell_type": "code",
   "execution_count": null,
   "id": "5af2f1a2",
   "metadata": {},
   "outputs": [],
   "source": [
    "# Применяет сжатие JPEG с заданным параметром качества, с параметром 90\n",
    "\n",
    "com90 = Utilities.extracting(Utilities.matrix_to_image(attacked.com90), watermark.secret_key)\n",
    "Utilities.get_normal_correlation(com90, watermark.embedded_image_bin)"
   ]
  },
  {
   "cell_type": "code",
   "execution_count": null,
   "id": "75c21f30",
   "metadata": {},
   "outputs": [],
   "source": []
  }
 ],
 "metadata": {
  "kernelspec": {
   "display_name": "Python 3 (ipykernel)",
   "language": "python",
   "name": "python3"
  },
  "language_info": {
   "codemirror_mode": {
    "name": "ipython",
    "version": 3
   },
   "file_extension": ".py",
   "mimetype": "text/x-python",
   "name": "python",
   "nbconvert_exporter": "python",
   "pygments_lexer": "ipython3",
   "version": "3.11.2"
  }
 },
 "nbformat": 4,
 "nbformat_minor": 5
}
