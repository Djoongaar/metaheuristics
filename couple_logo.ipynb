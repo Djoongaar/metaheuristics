{
 "cells": [
  {
   "cell_type": "markdown",
   "id": "6f28f466",
   "metadata": {},
   "source": [
    "## Develop branch. \n",
    "### Тестирование мультипроцессорности"
   ]
  },
  {
   "cell_type": "code",
   "execution_count": 1,
   "id": "776ca719",
   "metadata": {
    "scrolled": false
   },
   "outputs": [
    {
     "name": "stderr",
     "output_type": "stream",
     "text": [
      "/home/evgeny/Documents/vkr/src/utilities.py:104: RuntimeWarning: divide by zero encountered in log\n",
      "  items.append(i * np.log(i))\n",
      "/home/evgeny/Documents/vkr/src/utilities.py:104: RuntimeWarning: invalid value encountered in scalar multiply\n",
      "  items.append(i * np.log(i))\n"
     ]
    }
   ],
   "source": [
    "from src import HybridMetaheuristic\n",
    "\n",
    "\n",
    "baboon = HybridMetaheuristic(\"pic/couple.png\", \"pic/logo.png\")"
   ]
  },
  {
   "cell_type": "code",
   "execution_count": null,
   "id": "24d4226b",
   "metadata": {
    "scrolled": false
   },
   "outputs": [
    {
     "name": "stderr",
     "output_type": "stream",
     "text": [
      "\r",
      "  0%|                                                                                                                                                                                                       | 0/100 [00:00<?, ?it/s]"
     ]
    },
    {
     "name": "stdout",
     "output_type": "stream",
     "text": [
      "Best score: 2.5048424018441655\n"
     ]
    },
    {
     "name": "stderr",
     "output_type": "stream",
     "text": [
      "  2%|███▊                                                                                                                                                                                        | 2/100 [04:36<3:47:05, 139.04s/it]"
     ]
    },
    {
     "name": "stdout",
     "output_type": "stream",
     "text": [
      "Best score: 2.4975920103828817\n"
     ]
    },
    {
     "name": "stderr",
     "output_type": "stream",
     "text": [
      "\r",
      "  3%|█████▋                                                                                                                                                                                      | 3/100 [06:52<3:42:08, 137.41s/it]"
     ]
    },
    {
     "name": "stdout",
     "output_type": "stream",
     "text": [
      "Best score: 2.496828738722887\n"
     ]
    },
    {
     "name": "stderr",
     "output_type": "stream",
     "text": [
      "\r",
      "  4%|███████▌                                                                                                                                                                                    | 4/100 [09:05<3:37:19, 135.83s/it]"
     ]
    },
    {
     "name": "stdout",
     "output_type": "stream",
     "text": [
      "Best score: 2.4880605330421623\n"
     ]
    },
    {
     "name": "stderr",
     "output_type": "stream",
     "text": [
      "  9%|████████████████▉                                                                                                                                                                           | 9/100 [20:15<3:23:48, 134.38s/it]"
     ]
    },
    {
     "name": "stdout",
     "output_type": "stream",
     "text": [
      "Best score: 2.4817006193611064\n"
     ]
    },
    {
     "name": "stderr",
     "output_type": "stream",
     "text": [
      " 17%|███████████████████████████████▉                                                                                                                                                            | 17/100 [30:51<1:44:29, 75.54s/it]"
     ]
    },
    {
     "name": "stdout",
     "output_type": "stream",
     "text": [
      "Best score: 2.4795934000165984\n"
     ]
    },
    {
     "name": "stderr",
     "output_type": "stream",
     "text": [
      " 22%|█████████████████████████████████████████▎                                                                                                                                                  | 22/100 [36:30<1:29:25, 68.79s/it]"
     ]
    },
    {
     "name": "stdout",
     "output_type": "stream",
     "text": [
      "Best score: 2.479343060777653\n"
     ]
    },
    {
     "name": "stderr",
     "output_type": "stream",
     "text": [
      "\r",
      " 23%|███████████████████████████████████████████▏                                                                                                                                                | 23/100 [38:00<1:36:33, 75.24s/it]"
     ]
    },
    {
     "name": "stdout",
     "output_type": "stream",
     "text": [
      "Best score: 2.478572375851912\n"
     ]
    },
    {
     "name": "stderr",
     "output_type": "stream",
     "text": [
      "\r",
      " 24%|█████████████████████████████████████████████                                                                                                                                               | 24/100 [39:19<1:36:27, 76.15s/it]"
     ]
    },
    {
     "name": "stdout",
     "output_type": "stream",
     "text": [
      "Best score: 2.4781863099458894\n"
     ]
    },
    {
     "name": "stderr",
     "output_type": "stream",
     "text": [
      "\r",
      " 25%|███████████████████████████████████████████████                                                                                                                                             | 25/100 [40:21<1:29:59, 72.00s/it]"
     ]
    },
    {
     "name": "stdout",
     "output_type": "stream",
     "text": [
      "Best score: 2.4780523763643334\n"
     ]
    },
    {
     "name": "stderr",
     "output_type": "stream",
     "text": [
      "\r",
      " 26%|████████████████████████████████████████████████▉                                                                                                                                           | 26/100 [41:31<1:28:09, 71.47s/it]"
     ]
    },
    {
     "name": "stdout",
     "output_type": "stream",
     "text": [
      "Best score: 2.4776986070981897\n"
     ]
    },
    {
     "name": "stderr",
     "output_type": "stream",
     "text": [
      "\r",
      " 27%|██████████████████████████████████████████████████▊                                                                                                                                         | 27/100 [43:27<1:42:57, 84.63s/it]"
     ]
    },
    {
     "name": "stdout",
     "output_type": "stream",
     "text": [
      "Best score: 2.4776157007530113\n"
     ]
    },
    {
     "name": "stderr",
     "output_type": "stream",
     "text": [
      "\r",
      " 28%|████████████████████████████████████████████████████▋                                                                                                                                       | 28/100 [45:25<1:53:40, 94.73s/it]"
     ]
    },
    {
     "name": "stdout",
     "output_type": "stream",
     "text": [
      "Best score: 2.4764955540006772\n"
     ]
    },
    {
     "name": "stderr",
     "output_type": "stream",
     "text": [
      " 35%|█████████████████████████████████████████████████████████████████▊                                                                                                                          | 35/100 [53:39<1:23:08, 76.75s/it]"
     ]
    },
    {
     "name": "stdout",
     "output_type": "stream",
     "text": [
      "Best score: 2.4762704477372823\n"
     ]
    },
    {
     "name": "stderr",
     "output_type": "stream",
     "text": [
      "\r",
      " 36%|███████████████████████████████████████████████████████████████████▋                                                                                                                        | 36/100 [54:53<1:21:04, 76.01s/it]"
     ]
    },
    {
     "name": "stdout",
     "output_type": "stream",
     "text": [
      "Best score: 2.475879307173072\n"
     ]
    },
    {
     "name": "stderr",
     "output_type": "stream",
     "text": [
      " 38%|███████████████████████████████████████████████████████████████████████▍                                                                                                                    | 38/100 [57:21<1:17:47, 75.27s/it]"
     ]
    },
    {
     "name": "stdout",
     "output_type": "stream",
     "text": [
      "Best score: 2.4753715601223254\n"
     ]
    },
    {
     "name": "stderr",
     "output_type": "stream",
     "text": [
      "\r",
      " 39%|█████████████████████████████████████████████████████████████████████████▎                                                                                                                  | 39/100 [58:34<1:15:55, 74.68s/it]"
     ]
    },
    {
     "name": "stdout",
     "output_type": "stream",
     "text": [
      "Best score: 2.474064369821041\n"
     ]
    },
    {
     "name": "stderr",
     "output_type": "stream",
     "text": [
      "\r",
      " 40%|███████████████████████████████████████████████████████████████████████████▏                                                                                                                | 40/100 [59:40<1:12:10, 72.17s/it]"
     ]
    },
    {
     "name": "stdout",
     "output_type": "stream",
     "text": [
      "Best score: 2.473951987665618\n"
     ]
    },
    {
     "name": "stderr",
     "output_type": "stream",
     "text": [
      " 42%|██████████████████████████████████████████████████████████████████████████████                                                                                                            | 42/100 [1:01:55<1:07:36, 69.94s/it]"
     ]
    },
    {
     "name": "stdout",
     "output_type": "stream",
     "text": [
      "Best score: 2.4738963202893207\n"
     ]
    },
    {
     "name": "stderr",
     "output_type": "stream",
     "text": [
      "\r",
      " 43%|███████████████████████████████████████████████████████████████████████████████▉                                                                                                          | 43/100 [1:03:07<1:07:06, 70.64s/it]"
     ]
    },
    {
     "name": "stdout",
     "output_type": "stream",
     "text": [
      "Best score: 2.4731770324616402\n"
     ]
    },
    {
     "name": "stderr",
     "output_type": "stream",
     "text": [
      " 47%|███████████████████████████████████████████████████████████████████████████████████████▍                                                                                                  | 47/100 [1:08:02<1:05:59, 74.70s/it]"
     ]
    },
    {
     "name": "stdout",
     "output_type": "stream",
     "text": [
      "Best score: 2.4731679545367626\n"
     ]
    },
    {
     "name": "stderr",
     "output_type": "stream",
     "text": [
      " 53%|███████████████████████████████████████████████████████████████████████████████████████████████████▋                                                                                        | 53/100 [1:15:50<59:46, 76.31s/it]"
     ]
    },
    {
     "name": "stdout",
     "output_type": "stream",
     "text": [
      "Best score: 2.473119420936402\n"
     ]
    },
    {
     "name": "stderr",
     "output_type": "stream",
     "text": [
      " 58%|█████████████████████████████████████████████████████████████████████████████████████████████████████████████                                                                               | 58/100 [1:22:05<52:49, 75.46s/it]"
     ]
    }
   ],
   "source": [
    "# Запускаю алгоритм гибридной метаэвристики\n",
    "baboon.evolution()"
   ]
  },
  {
   "cell_type": "code",
   "execution_count": null,
   "id": "add7569e",
   "metadata": {},
   "outputs": [],
   "source": [
    "# Лучший параметр Светлячка\n",
    "baboon.best_firefly_value"
   ]
  },
  {
   "cell_type": "code",
   "execution_count": null,
   "id": "e326b1dd",
   "metadata": {},
   "outputs": [],
   "source": [
    "from src import Watermark\n",
    "\n",
    "# Пробую погрузить ЦВЗ с полученными параметрами\n",
    "watermark = Watermark(\n",
    "    baboon.best_candidate_indexes, \n",
    "    baboon.embedded_image_bin, \n",
    "    baboon.image_matrix, \n",
    "    baboon.best_firefly_value\n",
    ")"
   ]
  },
  {
   "cell_type": "code",
   "execution_count": null,
   "id": "363128bf",
   "metadata": {
    "scrolled": false
   },
   "outputs": [],
   "source": [
    "# Исходное изображение без ЦВЗ\n",
    "baboon.image"
   ]
  },
  {
   "cell_type": "code",
   "execution_count": null,
   "id": "1bd3689b",
   "metadata": {
    "scrolled": false
   },
   "outputs": [],
   "source": [
    "# Полученное изображение с ЦВЗ\n",
    "watermark.watermark"
   ]
  },
  {
   "cell_type": "code",
   "execution_count": null,
   "id": "12a6f9f0",
   "metadata": {
    "scrolled": false
   },
   "outputs": [],
   "source": [
    "import matplotlib.pyplot as plt\n",
    "\n",
    "plt.imshow(watermark.extracted_image_bin, cmap=plt.cm.gray)"
   ]
  },
  {
   "cell_type": "code",
   "execution_count": null,
   "id": "e6119c9c",
   "metadata": {},
   "outputs": [],
   "source": [
    "from src import Attack, Utilities\n",
    "\n",
    "attacked = Attack(watermark.watermark)"
   ]
  },
  {
   "cell_type": "code",
   "execution_count": null,
   "id": "f8767391",
   "metadata": {},
   "outputs": [],
   "source": [
    "# медианный фильтр\n",
    "\n",
    "mf = Utilities.extracting(Utilities.matrix_to_image(attacked.mf), watermark.secret_key)\n",
    "Utilities.get_normal_correlation(mf, watermark.embedded_image_bin)"
   ]
  },
  {
   "cell_type": "code",
   "execution_count": null,
   "id": "f1f348f7",
   "metadata": {},
   "outputs": [],
   "source": [
    "# фильтр Гаусса\n",
    "\n",
    "gs3 = Utilities.extracting(Utilities.matrix_to_image(attacked.gs3), watermark.secret_key)\n",
    "Utilities.get_normal_correlation(gs3, watermark.embedded_image_bin)"
   ]
  },
  {
   "cell_type": "code",
   "execution_count": null,
   "id": "5d890d2b",
   "metadata": {},
   "outputs": [],
   "source": [
    "# фильтр Гаусса, kernel=5\n",
    "\n",
    "gs5 = Utilities.extracting(Utilities.matrix_to_image(attacked.gs5), watermark.secret_key)\n",
    "Utilities.get_normal_correlation(gs5, watermark.embedded_image_bin)"
   ]
  },
  {
   "cell_type": "code",
   "execution_count": null,
   "id": "fc500341",
   "metadata": {},
   "outputs": [],
   "source": [
    "# усредненная фильтрация, kernel=3\n",
    "\n",
    "avr = Utilities.extracting(Utilities.matrix_to_image(attacked.avr), watermark.secret_key)\n",
    "Utilities.get_normal_correlation(avr, watermark.embedded_image_bin)"
   ]
  },
  {
   "cell_type": "code",
   "execution_count": null,
   "id": "01eb037e",
   "metadata": {},
   "outputs": [],
   "source": [
    "# Фильтр увеличивает контраст соседних пикселей\n",
    "\n",
    "shr = Utilities.extracting(Utilities.matrix_to_image(attacked.shr), watermark.secret_key)\n",
    "Utilities.get_normal_correlation(shr, watermark.embedded_image_bin)"
   ]
  },
  {
   "cell_type": "code",
   "execution_count": null,
   "id": "85678766",
   "metadata": {},
   "outputs": [],
   "source": [
    "# Изменение контрастности изображения с использованием гистограмм\n",
    "\n",
    "his = Utilities.extracting(Utilities.matrix_to_image(attacked.his), watermark.secret_key)\n",
    "Utilities.get_normal_correlation(his, watermark.embedded_image_bin)"
   ]
  },
  {
   "cell_type": "code",
   "execution_count": null,
   "id": "f162b6af",
   "metadata": {},
   "outputs": [],
   "source": [
    "# Искажения яркости пикселей с параметром gamma=0.2\n",
    "\n",
    "gc2 = Utilities.extracting(Utilities.matrix_to_image(attacked.gc2), watermark.secret_key)\n",
    "Utilities.get_normal_correlation(gc2, watermark.embedded_image_bin)"
   ]
  },
  {
   "cell_type": "code",
   "execution_count": null,
   "id": "79c4ff5a",
   "metadata": {},
   "outputs": [],
   "source": [
    "# Искажения яркости пикселей с параметром gamma=0.4\n",
    "\n",
    "gc4 = Utilities.extracting(Utilities.matrix_to_image(attacked.gc4), watermark.secret_key)\n",
    "Utilities.get_normal_correlation(gc4, watermark.embedded_image_bin)"
   ]
  },
  {
   "cell_type": "code",
   "execution_count": null,
   "id": "abde2a8c",
   "metadata": {},
   "outputs": [],
   "source": [
    "# Гауссовый шум с параметром 0,001\n",
    "\n",
    "gn1 = Utilities.extracting(Utilities.matrix_to_image(attacked.gn1), watermark.secret_key)\n",
    "Utilities.get_normal_correlation(gn1, watermark.embedded_image_bin)"
   ]
  },
  {
   "cell_type": "code",
   "execution_count": null,
   "id": "26d89acf",
   "metadata": {},
   "outputs": [],
   "source": [
    "# Гауссовый шум с параметром 0,005\n",
    "\n",
    "gn5 = Utilities.extracting(Utilities.matrix_to_image(attacked.gn5), watermark.secret_key)\n",
    "Utilities.get_normal_correlation(gn5, watermark.embedded_image_bin)"
   ]
  },
  {
   "cell_type": "code",
   "execution_count": null,
   "id": "ad597ff4",
   "metadata": {},
   "outputs": [],
   "source": [
    "# Гауссовый шум с параметром 0,009\n",
    "\n",
    "gn9 = Utilities.extracting(Utilities.matrix_to_image(attacked.gn9), watermark.secret_key)\n",
    "Utilities.get_normal_correlation(gn9, watermark.embedded_image_bin)"
   ]
  },
  {
   "cell_type": "code",
   "execution_count": null,
   "id": "a3be6474",
   "metadata": {},
   "outputs": [],
   "source": [
    "# Атака соль/перец с параметром p=0.01\n",
    "\n",
    "sp1 = Utilities.extracting(Utilities.matrix_to_image(attacked.sp1), watermark.secret_key)\n",
    "Utilities.get_normal_correlation(sp1, watermark.embedded_image_bin)"
   ]
  },
  {
   "cell_type": "code",
   "execution_count": null,
   "id": "39a8de5e",
   "metadata": {},
   "outputs": [],
   "source": [
    "# Атака соль/перец с параметром p=0.02\n",
    "\n",
    "sp2 = Utilities.extracting(Utilities.matrix_to_image(attacked.sp2), watermark.secret_key)\n",
    "Utilities.get_normal_correlation(sp2, watermark.embedded_image_bin)"
   ]
  },
  {
   "cell_type": "code",
   "execution_count": null,
   "id": "c525f533",
   "metadata": {},
   "outputs": [],
   "source": [
    "# Атака соль/перец с параметром p=0.03\n",
    "\n",
    "sp3 = Utilities.extracting(Utilities.matrix_to_image(attacked.sp3), watermark.secret_key)\n",
    "Utilities.get_normal_correlation(sp3, watermark.embedded_image_bin)"
   ]
  },
  {
   "cell_type": "code",
   "execution_count": null,
   "id": "41123398",
   "metadata": {},
   "outputs": [],
   "source": [
    "# В заданной области затемняет 1/4 пикселей, с параметром center\n",
    "\n",
    "crp_ct = Utilities.extracting(Utilities.matrix_to_image(attacked.crp_ct), watermark.secret_key)\n",
    "Utilities.get_normal_correlation(crp_ct, watermark.embedded_image_bin)"
   ]
  },
  {
   "cell_type": "code",
   "execution_count": null,
   "id": "e37a028a",
   "metadata": {},
   "outputs": [],
   "source": [
    "# В заданной области затемняет 1/4 пикселей, с параметром top-left\n",
    "\n",
    "crp_tl = Utilities.extracting(Utilities.matrix_to_image(attacked.crp_tl), watermark.secret_key)\n",
    "Utilities.get_normal_correlation(crp_tl, watermark.embedded_image_bin)"
   ]
  },
  {
   "cell_type": "code",
   "execution_count": null,
   "id": "9a4c91b2",
   "metadata": {},
   "outputs": [],
   "source": [
    "# В заданной области затемняет 1/4 пикселей, с параметром bottom-right\n",
    "\n",
    "crp_br = Utilities.extracting(Utilities.matrix_to_image(attacked.crp_br), watermark.secret_key)\n",
    "Utilities.get_normal_correlation(crp_br, watermark.embedded_image_bin)"
   ]
  },
  {
   "cell_type": "code",
   "execution_count": null,
   "id": "9f5de9f0",
   "metadata": {},
   "outputs": [],
   "source": [
    "# Растягивает изображения и возвращает к изначальным размерам \n",
    "\n",
    "scl_1024 = Utilities.extracting(Utilities.matrix_to_image(attacked.scl_1024), watermark.secret_key)\n",
    "Utilities.get_normal_correlation(scl_1024, watermark.embedded_image_bin)"
   ]
  },
  {
   "cell_type": "code",
   "execution_count": null,
   "id": "db05fb85",
   "metadata": {},
   "outputs": [],
   "source": [
    "# Сжимает изображения и возвращает к изначальным размерам \n",
    "\n",
    "scl_256 = Utilities.extracting(Utilities.matrix_to_image(attacked.scl_256), watermark.secret_key)\n",
    "Utilities.get_normal_correlation(scl_256, watermark.embedded_image_bin)"
   ]
  },
  {
   "cell_type": "code",
   "execution_count": null,
   "id": "e390b586",
   "metadata": {},
   "outputs": [],
   "source": [
    "# Вращает изображение против часовой стрелки на заданный угол, 5 градусов\n",
    "\n",
    "rt5 = Utilities.extracting(Utilities.matrix_to_image(attacked.rt5), watermark.secret_key)\n",
    "Utilities.get_normal_correlation(rt5, watermark.embedded_image_bin)"
   ]
  },
  {
   "cell_type": "code",
   "execution_count": null,
   "id": "18d66e33",
   "metadata": {},
   "outputs": [],
   "source": [
    "# Вращает изображение против часовой стрелки на заданный угол, 45 градусов\n",
    "\n",
    "rt45 = Utilities.extracting(Utilities.matrix_to_image(attacked.rt45), watermark.secret_key)\n",
    "Utilities.get_normal_correlation(rt45, watermark.embedded_image_bin)"
   ]
  },
  {
   "cell_type": "code",
   "execution_count": null,
   "id": "6d1bed6d",
   "metadata": {},
   "outputs": [],
   "source": [
    "# Вращает изображение против часовой стрелки на заданный угол, 90 градусов\n",
    "\n",
    "rt90 = Utilities.extracting(Utilities.matrix_to_image(attacked.rt90), watermark.secret_key)\n",
    "Utilities.get_normal_correlation(rt90, watermark.embedded_image_bin)"
   ]
  },
  {
   "cell_type": "code",
   "execution_count": null,
   "id": "f2ca44fd",
   "metadata": {},
   "outputs": [],
   "source": [
    "# Применяет сжатие JPEG с заданным параметром качества, с параметром 70\n",
    "\n",
    "com70 = Utilities.extracting(Utilities.matrix_to_image(attacked.com70), watermark.secret_key)\n",
    "Utilities.get_normal_correlation(com70, watermark.embedded_image_bin)"
   ]
  },
  {
   "cell_type": "code",
   "execution_count": null,
   "id": "fbec905d",
   "metadata": {},
   "outputs": [],
   "source": [
    "# Применяет сжатие JPEG с заданным параметром качества, с параметром 80\n",
    "\n",
    "com80 = Utilities.extracting(Utilities.matrix_to_image(attacked.com80), watermark.secret_key)\n",
    "Utilities.get_normal_correlation(com80, watermark.embedded_image_bin)"
   ]
  },
  {
   "cell_type": "code",
   "execution_count": null,
   "id": "d6662160",
   "metadata": {},
   "outputs": [],
   "source": [
    "# Применяет сжатие JPEG с заданным параметром качества, с параметром 90\n",
    "\n",
    "com90 = Utilities.extracting(Utilities.matrix_to_image(attacked.com90), watermark.secret_key)\n",
    "Utilities.get_normal_correlation(com90, watermark.embedded_image_bin)"
   ]
  },
  {
   "cell_type": "code",
   "execution_count": null,
   "id": "76495db1",
   "metadata": {},
   "outputs": [],
   "source": []
  }
 ],
 "metadata": {
  "kernelspec": {
   "display_name": "Python 3 (ipykernel)",
   "language": "python",
   "name": "python3"
  },
  "language_info": {
   "codemirror_mode": {
    "name": "ipython",
    "version": 3
   },
   "file_extension": ".py",
   "mimetype": "text/x-python",
   "name": "python",
   "nbconvert_exporter": "python",
   "pygments_lexer": "ipython3",
   "version": "3.11.2"
  }
 },
 "nbformat": 4,
 "nbformat_minor": 5
}
