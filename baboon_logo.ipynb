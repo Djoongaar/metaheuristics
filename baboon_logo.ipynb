{
 "cells": [
  {
   "cell_type": "markdown",
   "id": "6f28f466",
   "metadata": {},
   "source": [
    "## Эксперимент на baboon & logo"
   ]
  },
  {
   "cell_type": "code",
   "execution_count": 1,
   "id": "776ca719",
   "metadata": {},
   "outputs": [
    {
     "name": "stderr",
     "output_type": "stream",
     "text": [
      "/home/evgeny/Documents/vkr/src/utilities.py:108: RuntimeWarning: divide by zero encountered in log\n",
      "  items.append(i * np.log(i))\n",
      "/home/evgeny/Documents/vkr/src/utilities.py:108: RuntimeWarning: invalid value encountered in scalar multiply\n",
      "  items.append(i * np.log(i))\n"
     ]
    }
   ],
   "source": [
    "from src import HybridMetaheuristic\n",
    "\n",
    "\n",
    "model = HybridMetaheuristic(\"pic/baboon.png\", \"pic/logo.png\")"
   ]
  },
  {
   "cell_type": "code",
   "execution_count": 2,
   "id": "24d4226b",
   "metadata": {},
   "outputs": [
    {
     "name": "stderr",
     "output_type": "stream",
     "text": [
      "  0%|                                                                                                                                                                                                       | 0/100 [00:00<?, ?it/s]"
     ]
    },
    {
     "name": "stdout",
     "output_type": "stream",
     "text": [
      "Best score: 2.3919340695855436\n"
     ]
    },
    {
     "name": "stderr",
     "output_type": "stream",
     "text": [
      "  3%|█████▋                                                                                                                                                                                      | 3/100 [08:13<4:26:01, 164.55s/it]Process Process-614:\n",
      "Process Process-617:\n",
      "Process Process-616:\n",
      "Process Process-615:\n",
      "Process Process-613:\n",
      "Process Process-609:\n",
      "Process Process-618:\n",
      "Process Process-610:\n",
      "Process Process-612:\n",
      "Process Process-611:\n",
      "Traceback (most recent call last):\n",
      "\n"
     ]
    },
    {
     "ename": "KeyboardInterrupt",
     "evalue": "",
     "output_type": "error",
     "traceback": [
      "\u001b[0;31m---------------------------------------------------------------------------\u001b[0m",
      "\u001b[0;31mKeyboardInterrupt\u001b[0m                         Traceback (most recent call last)",
      "Cell \u001b[0;32mIn [2], line 2\u001b[0m\n\u001b[1;32m      1\u001b[0m \u001b[38;5;66;03m# Запускаю алгоритм гибридной метаэвристики\u001b[39;00m\n\u001b[0;32m----> 2\u001b[0m \u001b[43mmodel\u001b[49m\u001b[38;5;241;43m.\u001b[39;49m\u001b[43mevolution\u001b[49m\u001b[43m(\u001b[49m\u001b[43m)\u001b[49m\n",
      "File \u001b[0;32m~/Documents/vkr/src/models.py:339\u001b[0m, in \u001b[0;36mHybridMetaheuristic.evolution\u001b[0;34m(self)\u001b[0m\n\u001b[1;32m    336\u001b[0m     writer_object\u001b[38;5;241m.\u001b[39mwriterow(fields)\n\u001b[1;32m    338\u001b[0m \u001b[38;5;28mself\u001b[39m\u001b[38;5;241m.\u001b[39mcrossing()\n\u001b[0;32m--> 339\u001b[0m \u001b[38;5;28;43mself\u001b[39;49m\u001b[38;5;241;43m.\u001b[39;49m\u001b[43mfireflies\u001b[49m\u001b[43m(\u001b[49m\u001b[43m)\u001b[49m\n",
      "File \u001b[0;32m~/Documents/vkr/src/models.py:125\u001b[0m, in \u001b[0;36mFirefly.fireflies\u001b[0;34m(self)\u001b[0m\n\u001b[1;32m    123\u001b[0m \u001b[38;5;28;01mwhile\u001b[39;00m \u001b[38;5;28;01mTrue\u001b[39;00m:\n\u001b[1;32m    124\u001b[0m     \u001b[38;5;28;01mif\u001b[39;00m firefly_evaluations_queue\u001b[38;5;241m.\u001b[39mqsize() \u001b[38;5;241m!=\u001b[39m \u001b[38;5;28mself\u001b[39m\u001b[38;5;241m.\u001b[39mfirefly_population_size:\n\u001b[0;32m--> 125\u001b[0m         time\u001b[38;5;241m.\u001b[39msleep(\u001b[38;5;241m2\u001b[39m)\n\u001b[1;32m    126\u001b[0m     \u001b[38;5;28;01melse\u001b[39;00m:\n\u001b[1;32m    127\u001b[0m         \u001b[38;5;28;01mbreak\u001b[39;00m\n",
      "\u001b[0;31mKeyboardInterrupt\u001b[0m: "
     ]
    },
    {
     "name": "stderr",
     "output_type": "stream",
     "text": [
      "Traceback (most recent call last):\n",
      "Traceback (most recent call last):\n",
      "Traceback (most recent call last):\n",
      "Traceback (most recent call last):\n",
      "Traceback (most recent call last):\n",
      "Traceback (most recent call last):\n",
      "  File \"/usr/lib/python3.11/multiprocessing/process.py\", line 314, in _bootstrap\n",
      "    self.run()\n",
      "Traceback (most recent call last):\n",
      "Traceback (most recent call last):\n",
      "  File \"/usr/lib/python3.11/multiprocessing/process.py\", line 314, in _bootstrap\n",
      "    self.run()\n",
      "  File \"/usr/lib/python3.11/multiprocessing/process.py\", line 314, in _bootstrap\n",
      "    self.run()\n",
      "  File \"/usr/lib/python3.11/multiprocessing/process.py\", line 314, in _bootstrap\n",
      "    self.run()\n",
      "  File \"/usr/lib/python3.11/multiprocessing/process.py\", line 314, in _bootstrap\n",
      "    self.run()\n",
      "Traceback (most recent call last):\n",
      "  File \"/usr/lib/python3.11/multiprocessing/process.py\", line 108, in run\n",
      "    self._target(*self._args, **self._kwargs)\n",
      "  File \"/usr/lib/python3.11/multiprocessing/process.py\", line 314, in _bootstrap\n",
      "    self.run()\n",
      "  File \"/usr/lib/python3.11/multiprocessing/process.py\", line 314, in _bootstrap\n",
      "    self.run()\n",
      "  File \"/usr/lib/python3.11/multiprocessing/process.py\", line 314, in _bootstrap\n",
      "    self.run()\n",
      "  File \"/usr/lib/python3.11/multiprocessing/process.py\", line 108, in run\n",
      "    self._target(*self._args, **self._kwargs)\n",
      "  File \"/usr/lib/python3.11/multiprocessing/process.py\", line 108, in run\n",
      "    self._target(*self._args, **self._kwargs)\n",
      "  File \"/usr/lib/python3.11/multiprocessing/process.py\", line 108, in run\n",
      "    self._target(*self._args, **self._kwargs)\n",
      "  File \"/usr/lib/python3.11/multiprocessing/process.py\", line 314, in _bootstrap\n",
      "    self.run()\n",
      "  File \"/usr/lib/python3.11/multiprocessing/process.py\", line 108, in run\n",
      "    self._target(*self._args, **self._kwargs)\n",
      "  File \"/home/evgeny/Documents/vkr/src/models.py\", line 77, in evaluate_parallel\n",
      "    watermark = Watermark(candidate, embedded_image_bin, image_matrix, firefly_candidate[\"value\"])\n",
      "                ^^^^^^^^^^^^^^^^^^^^^^^^^^^^^^^^^^^^^^^^^^^^^^^^^^^^^^^^^^^^^^^^^^^^^^^^^^^^^^^^^^\n",
      "  File \"/usr/lib/python3.11/multiprocessing/process.py\", line 314, in _bootstrap\n",
      "    self.run()\n",
      "  File \"/usr/lib/python3.11/multiprocessing/process.py\", line 108, in run\n",
      "    self._target(*self._args, **self._kwargs)\n",
      "  File \"/usr/lib/python3.11/multiprocessing/process.py\", line 108, in run\n",
      "    self._target(*self._args, **self._kwargs)\n",
      "  File \"/usr/lib/python3.11/multiprocessing/process.py\", line 108, in run\n",
      "    self._target(*self._args, **self._kwargs)\n",
      "  File \"/home/evgeny/Documents/vkr/src/models.py\", line 77, in evaluate_parallel\n",
      "    watermark = Watermark(candidate, embedded_image_bin, image_matrix, firefly_candidate[\"value\"])\n",
      "                ^^^^^^^^^^^^^^^^^^^^^^^^^^^^^^^^^^^^^^^^^^^^^^^^^^^^^^^^^^^^^^^^^^^^^^^^^^^^^^^^^^\n",
      "  File \"/home/evgeny/Documents/vkr/src/models.py\", line 77, in evaluate_parallel\n",
      "    watermark = Watermark(candidate, embedded_image_bin, image_matrix, firefly_candidate[\"value\"])\n",
      "                ^^^^^^^^^^^^^^^^^^^^^^^^^^^^^^^^^^^^^^^^^^^^^^^^^^^^^^^^^^^^^^^^^^^^^^^^^^^^^^^^^^\n",
      "  File \"/home/evgeny/Documents/vkr/src/models.py\", line 77, in evaluate_parallel\n",
      "    watermark = Watermark(candidate, embedded_image_bin, image_matrix, firefly_candidate[\"value\"])\n",
      "                ^^^^^^^^^^^^^^^^^^^^^^^^^^^^^^^^^^^^^^^^^^^^^^^^^^^^^^^^^^^^^^^^^^^^^^^^^^^^^^^^^^\n",
      "  File \"/usr/lib/python3.11/multiprocessing/process.py\", line 108, in run\n",
      "    self._target(*self._args, **self._kwargs)\n",
      "  File \"/home/evgeny/Documents/vkr/src/models.py\", line 77, in evaluate_parallel\n",
      "    watermark = Watermark(candidate, embedded_image_bin, image_matrix, firefly_candidate[\"value\"])\n",
      "                ^^^^^^^^^^^^^^^^^^^^^^^^^^^^^^^^^^^^^^^^^^^^^^^^^^^^^^^^^^^^^^^^^^^^^^^^^^^^^^^^^^\n",
      "  File \"/home/evgeny/Documents/vkr/src/models.py\", line 357, in __init__\n",
      "    self.score = self.get_score()\n",
      "                 ^^^^^^^^^^^^^^^^\n",
      "  File \"/usr/lib/python3.11/multiprocessing/process.py\", line 108, in run\n",
      "    self._target(*self._args, **self._kwargs)\n",
      "  File \"/home/evgeny/Documents/vkr/src/models.py\", line 77, in evaluate_parallel\n",
      "    watermark = Watermark(candidate, embedded_image_bin, image_matrix, firefly_candidate[\"value\"])\n",
      "                ^^^^^^^^^^^^^^^^^^^^^^^^^^^^^^^^^^^^^^^^^^^^^^^^^^^^^^^^^^^^^^^^^^^^^^^^^^^^^^^^^^\n",
      "  File \"/home/evgeny/Documents/vkr/src/models.py\", line 77, in evaluate_parallel\n",
      "    watermark = Watermark(candidate, embedded_image_bin, image_matrix, firefly_candidate[\"value\"])\n",
      "                ^^^^^^^^^^^^^^^^^^^^^^^^^^^^^^^^^^^^^^^^^^^^^^^^^^^^^^^^^^^^^^^^^^^^^^^^^^^^^^^^^^\n",
      "  File \"/home/evgeny/Documents/vkr/src/models.py\", line 77, in evaluate_parallel\n",
      "    watermark = Watermark(candidate, embedded_image_bin, image_matrix, firefly_candidate[\"value\"])\n",
      "                ^^^^^^^^^^^^^^^^^^^^^^^^^^^^^^^^^^^^^^^^^^^^^^^^^^^^^^^^^^^^^^^^^^^^^^^^^^^^^^^^^^\n",
      "  File \"/home/evgeny/Documents/vkr/src/models.py\", line 357, in __init__\n",
      "    self.score = self.get_score()\n",
      "                 ^^^^^^^^^^^^^^^^\n",
      "  File \"/home/evgeny/Documents/vkr/src/models.py\", line 357, in __init__\n",
      "    self.score = self.get_score()\n",
      "                 ^^^^^^^^^^^^^^^^\n",
      "  File \"/home/evgeny/Documents/vkr/src/models.py\", line 77, in evaluate_parallel\n",
      "    watermark = Watermark(candidate, embedded_image_bin, image_matrix, firefly_candidate[\"value\"])\n",
      "                ^^^^^^^^^^^^^^^^^^^^^^^^^^^^^^^^^^^^^^^^^^^^^^^^^^^^^^^^^^^^^^^^^^^^^^^^^^^^^^^^^^\n",
      "  File \"/home/evgeny/Documents/vkr/src/models.py\", line 357, in __init__\n",
      "    self.score = self.get_score()\n",
      "                 ^^^^^^^^^^^^^^^^\n",
      "  File \"/home/evgeny/Documents/vkr/src/models.py\", line 357, in __init__\n",
      "    self.score = self.get_score()\n",
      "                 ^^^^^^^^^^^^^^^^\n",
      "  File \"/home/evgeny/Documents/vkr/src/models.py\", line 439, in get_score\n",
      "    sp1 = Utilities.extracting(Utilities.matrix_to_image(attacked.sp1), self.secret_key)\n",
      "          ^^^^^^^^^^^^^^^^^^^^^^^^^^^^^^^^^^^^^^^^^^^^^^^^^^^^^^^^^^^^^^^^^^^^^^^^^^^^^^\n",
      "  File \"/home/evgeny/Documents/vkr/src/models.py\", line 77, in evaluate_parallel\n",
      "    watermark = Watermark(candidate, embedded_image_bin, image_matrix, firefly_candidate[\"value\"])\n",
      "                ^^^^^^^^^^^^^^^^^^^^^^^^^^^^^^^^^^^^^^^^^^^^^^^^^^^^^^^^^^^^^^^^^^^^^^^^^^^^^^^^^^\n",
      "  File \"/home/evgeny/Documents/vkr/src/models.py\", line 357, in __init__\n",
      "    self.score = self.get_score()\n",
      "                 ^^^^^^^^^^^^^^^^\n",
      "  File \"/home/evgeny/Documents/vkr/src/models.py\", line 357, in __init__\n",
      "    self.score = self.get_score()\n",
      "                 ^^^^^^^^^^^^^^^^\n",
      "  File \"/home/evgeny/Documents/vkr/src/models.py\", line 357, in __init__\n",
      "    self.score = self.get_score()\n",
      "                 ^^^^^^^^^^^^^^^^\n",
      "  File \"/home/evgeny/Documents/vkr/src/models.py\", line 444, in get_score\n",
      "    crp_br = Utilities.extracting(Utilities.matrix_to_image(attacked.crp_br), self.secret_key)\n",
      "             ^^^^^^^^^^^^^^^^^^^^^^^^^^^^^^^^^^^^^^^^^^^^^^^^^^^^^^^^^^^^^^^^^^^^^^^^^^^^^^^^^\n",
      "  File \"/home/evgeny/Documents/vkr/src/models.py\", line 438, in get_score\n",
      "    gn9 = Utilities.extracting(Utilities.matrix_to_image(attacked.gn9), self.secret_key)\n",
      "          ^^^^^^^^^^^^^^^^^^^^^^^^^^^^^^^^^^^^^^^^^^^^^^^^^^^^^^^^^^^^^^^^^^^^^^^^^^^^^^\n",
      "  File \"/home/evgeny/Documents/vkr/src/models.py\", line 446, in get_score\n",
      "    scl_256 = Utilities.extracting(Utilities.matrix_to_image(attacked.scl_256), self.secret_key)\n",
      "              ^^^^^^^^^^^^^^^^^^^^^^^^^^^^^^^^^^^^^^^^^^^^^^^^^^^^^^^^^^^^^^^^^^^^^^^^^^^^^^^^^^\n",
      "  File \"/home/evgeny/Documents/vkr/src/models.py\", line 357, in __init__\n",
      "    self.score = self.get_score()\n",
      "                 ^^^^^^^^^^^^^^^^\n",
      "  File \"/home/evgeny/Documents/vkr/src/models.py\", line 436, in get_score\n",
      "    gn1 = Utilities.extracting(Utilities.matrix_to_image(attacked.gn1), self.secret_key)\n",
      "          ^^^^^^^^^^^^^^^^^^^^^^^^^^^^^^^^^^^^^^^^^^^^^^^^^^^^^^^^^^^^^^^^^^^^^^^^^^^^^^\n",
      "  File \"/home/evgeny/Documents/vkr/src/utilities.py\", line 249, in extracting\n",
      "    result[i][j + 2] = 1 if hadamard[6][1] >= Utilities.get_avg(hadamard, 2) else 0\n",
      "                                              ^^^^^^^^^^^^^^^^^^^^^^^^^^^^^^\n",
      "  File \"/home/evgeny/Documents/vkr/src/models.py\", line 357, in __init__\n",
      "    self.score = self.get_score()\n",
      "                 ^^^^^^^^^^^^^^^^\n",
      "  File \"/home/evgeny/Documents/vkr/src/models.py\", line 443, in get_score\n",
      "    crp_tl = Utilities.extracting(Utilities.matrix_to_image(attacked.crp_tl), self.secret_key)\n",
      "             ^^^^^^^^^^^^^^^^^^^^^^^^^^^^^^^^^^^^^^^^^^^^^^^^^^^^^^^^^^^^^^^^^^^^^^^^^^^^^^^^^\n",
      "  File \"/home/evgeny/Documents/vkr/src/models.py\", line 444, in get_score\n",
      "    crp_br = Utilities.extracting(Utilities.matrix_to_image(attacked.crp_br), self.secret_key)\n",
      "             ^^^^^^^^^^^^^^^^^^^^^^^^^^^^^^^^^^^^^^^^^^^^^^^^^^^^^^^^^^^^^^^^^^^^^^^^^^^^^^^^^\n",
      "  File \"/home/evgeny/Documents/vkr/src/models.py\", line 436, in get_score\n",
      "    gn1 = Utilities.extracting(Utilities.matrix_to_image(attacked.gn1), self.secret_key)\n",
      "          ^^^^^^^^^^^^^^^^^^^^^^^^^^^^^^^^^^^^^^^^^^^^^^^^^^^^^^^^^^^^^^^^^^^^^^^^^^^^^^\n",
      "  File \"/home/evgeny/Documents/vkr/src/utilities.py\", line 247, in extracting\n",
      "    result[i][j] = 1 if hadamard[2][1] >= Utilities.get_avg(hadamard, 0) else 0\n",
      "                                          ^^^^^^^^^^^^^^^^^^^^^^^^^^^^^^\n",
      "  File \"/home/evgeny/Documents/vkr/src/utilities.py\", line 248, in extracting\n",
      "    result[i][j + 1] = 1 if hadamard[2][5] >= Utilities.get_avg(hadamard, 1) else 0\n",
      "                                              ^^^^^^^^^^^^^^^^^^^^^^^^^^^^^^\n",
      "  File \"/home/evgeny/Documents/vkr/src/utilities.py\", line 247, in extracting\n",
      "    result[i][j] = 1 if hadamard[2][1] >= Utilities.get_avg(hadamard, 0) else 0\n",
      "                                          ^^^^^^^^^^^^^^^^^^^^^^^^^^^^^^\n",
      "  File \"/home/evgeny/Documents/vkr/src/models.py\", line 446, in get_score\n",
      "    scl_256 = Utilities.extracting(Utilities.matrix_to_image(attacked.scl_256), self.secret_key)\n",
      "              ^^^^^^^^^^^^^^^^^^^^^^^^^^^^^^^^^^^^^^^^^^^^^^^^^^^^^^^^^^^^^^^^^^^^^^^^^^^^^^^^^^\n",
      "  File \"/home/evgeny/Documents/vkr/src/utilities.py\", line 247, in extracting\n",
      "    result[i][j] = 1 if hadamard[2][1] >= Utilities.get_avg(hadamard, 0) else 0\n",
      "                                          ^^^^^^^^^^^^^^^^^^^^^^^^^^^^^^\n",
      "  File \"/home/evgeny/Documents/vkr/src/utilities.py\", line 135, in get_avg\n",
      "    @staticmethod\n",
      "    \n",
      "  File \"/home/evgeny/Documents/vkr/src/models.py\", line 443, in get_score\n",
      "    crp_tl = Utilities.extracting(Utilities.matrix_to_image(attacked.crp_tl), self.secret_key)\n",
      "             ^^^^^^^^^^^^^^^^^^^^^^^^^^^^^^^^^^^^^^^^^^^^^^^^^^^^^^^^^^^^^^^^^^^^^^^^^^^^^^^^^\n",
      "  File \"/home/evgeny/Documents/vkr/src/utilities.py\", line 248, in extracting\n",
      "    result[i][j + 1] = 1 if hadamard[2][5] >= Utilities.get_avg(hadamard, 1) else 0\n",
      "                                              ^^^^^^^^^^^^^^^^^^^^^^^^^^^^^^\n",
      "  File \"/home/evgeny/Documents/vkr/src/utilities.py\", line 250, in extracting\n",
      "    result[i][j + 3] = 1 if hadamard[6][5] >= Utilities.get_avg(hadamard, 3) else 0\n",
      "                                              ^^^^^^^^^^^^^^^^^^^^^^^^^^^^^^\n",
      "  File \"/home/evgeny/Documents/vkr/src/utilities.py\", line 248, in extracting\n",
      "    result[i][j + 1] = 1 if hadamard[2][5] >= Utilities.get_avg(hadamard, 1) else 0\n",
      "                                              ^^^^^^^^^^^^^^^^^^^^^^^^^^^^^^\n",
      "  File \"/home/evgeny/Documents/vkr/src/utilities.py\", line 135, in get_avg\n",
      "    @staticmethod\n",
      "    \n",
      "  File \"/home/evgeny/Documents/vkr/src/utilities.py\", line 151, in get_avg\n",
      "    m = np.array([\n",
      "        ^^^^^^^^^^\n",
      "  File \"/home/evgeny/Documents/vkr/src/utilities.py\", line 184, in get_avg\n",
      "    return np.sum(np.multiply(matrix, m)) / 8\n",
      "           ^^^^^^^^^^^^^^^^^^^^^^^^^^^^^^\n",
      "  File \"/home/evgeny/Documents/vkr/src/utilities.py\", line 249, in extracting\n",
      "    result[i][j + 2] = 1 if hadamard[6][1] >= Utilities.get_avg(hadamard, 2) else 0\n",
      "                                              ^^^^^^^^^^^^^^^^^^^^^^^^^^^^^^\n",
      "  File \"/home/evgeny/Documents/vkr/src/utilities.py\", line 184, in get_avg\n",
      "    return np.sum(np.multiply(matrix, m)) / 8\n",
      "           ^^^^^^^^^^^^^^^^^^^^^^^^^^^^^^\n",
      "KeyboardInterrupt\n",
      "  File \"/home/evgeny/Documents/vkr/src/utilities.py\", line 247, in extracting\n",
      "    result[i][j] = 1 if hadamard[2][1] >= Utilities.get_avg(hadamard, 0) else 0\n",
      "                                          ^^^^^^^^^^^^^^^^^^^^^^^^^^^^^^\n",
      "  File \"/home/evgeny/Documents/vkr/src/utilities.py\", line 151, in get_avg\n",
      "    m = np.array([\n",
      "        ^^^^^^^^^^\n",
      "  File \"/home/evgeny/Documents/vkr/src/utilities.py\", line 173, in get_avg\n",
      "    m = np.array([\n",
      "        ^^^^^^^^^^\n",
      "KeyboardInterrupt\n",
      "  File \"/home/evgeny/Documents/vkr/src/utilities.py\", line 184, in get_avg\n",
      "    return np.sum(np.multiply(matrix, m)) / 8\n",
      "           ^^^^^^^^^^^^^^^^^^^^^^^^^^^^^^\n",
      "KeyboardInterrupt\n",
      "  File \"<__array_function__ internals>\", line 177, in sum\n",
      "  File \"/home/evgeny/Documents/vkr/src/utilities.py\", line 184, in get_avg\n",
      "    return np.sum(np.multiply(matrix, m)) / 8\n",
      "                  ^^^^^^^^^^^^^^^^^^^^^^\n",
      "  File \"<__array_function__ internals>\", line 200, in sum\n",
      "KeyboardInterrupt\n",
      "  File \"/home/evgeny/Documents/vkr/src/utilities.py\", line 184, in get_avg\n",
      "    return np.sum(np.multiply(matrix, m)) / 8\n",
      "           ^^^^^^^^^^^^^^^^^^^^^^^^^^^^^^\n",
      "KeyboardInterrupt\n",
      "  File \"<__array_function__ internals>\", line 200, in sum\n",
      "KeyboardInterrupt\n",
      "KeyboardInterrupt\n",
      "  File \"/usr/lib/python3/dist-packages/numpy/core/fromnumeric.py\", line 2324, in sum\n",
      "    return _wrapreduction(a, np.add, 'sum', axis, dtype, out, keepdims=keepdims,\n",
      "           ^^^^^^^^^^^^^^^^^^^^^^^^^^^^^^^^^^^^^^^^^^^^^^^^^^^^^^^^^^^^^^^^^^^^^\n",
      "  File \"<__array_function__ internals>\", line 200, in sum\n",
      "  File \"/usr/lib/python3/dist-packages/numpy/core/fromnumeric.py\", line 2324, in sum\n",
      "    return _wrapreduction(a, np.add, 'sum', axis, dtype, out, keepdims=keepdims,\n",
      "           ^^^^^^^^^^^^^^^^^^^^^^^^^^^^^^^^^^^^^^^^^^^^^^^^^^^^^^^^^^^^^^^^^^^^^\n",
      "  File \"/usr/lib/python3/dist-packages/numpy/core/fromnumeric.py\", line 86, in _wrapreduction\n",
      "    return ufunc.reduce(obj, axis, dtype, out, **passkwargs)\n",
      "           ^^^^^^^^^^^^^^^^^^^^^^^^^^^^^^^^^^^^^^^^^^^^^^^^^\n",
      "  File \"/usr/lib/python3/dist-packages/numpy/core/fromnumeric.py\", line 2324, in sum\n",
      "    return _wrapreduction(a, np.add, 'sum', axis, dtype, out, keepdims=keepdims,\n",
      "           ^^^^^^^^^^^^^^^^^^^^^^^^^^^^^^^^^^^^^^^^^^^^^^^^^^^^^^^^^^^^^^^^^^^^^\n",
      "  File \"/usr/lib/python3/dist-packages/numpy/core/fromnumeric.py\", line 86, in _wrapreduction\n",
      "    return ufunc.reduce(obj, axis, dtype, out, **passkwargs)\n",
      "           ^^^^^^^^^^^^^^^^^^^^^^^^^^^^^^^^^^^^^^^^^^^^^^^^^\n",
      "KeyboardInterrupt\n",
      "  File \"/usr/lib/python3/dist-packages/numpy/core/fromnumeric.py\", line 86, in _wrapreduction\n",
      "    return ufunc.reduce(obj, axis, dtype, out, **passkwargs)\n",
      "           ^^^^^^^^^^^^^^^^^^^^^^^^^^^^^^^^^^^^^^^^^^^^^^^^^\n",
      "KeyboardInterrupt\n",
      "KeyboardInterrupt\n"
     ]
    }
   ],
   "source": [
    "# Запускаю алгоритм гибридной метаэвристики\n",
    "model.evolution()"
   ]
  },
  {
   "cell_type": "code",
   "execution_count": null,
   "id": "add7569e",
   "metadata": {},
   "outputs": [],
   "source": [
    "# Лучший параметр Светлячка\n",
    "model.best_firefly_value"
   ]
  },
  {
   "cell_type": "code",
   "execution_count": null,
   "id": "e326b1dd",
   "metadata": {},
   "outputs": [],
   "source": [
    "from src import Watermark\n",
    "\n",
    "# Пробую погрузить ЦВЗ с полученными параметрами\n",
    "watermark = Watermark(\n",
    "    baboon.best_candidate_indexes, \n",
    "    baboon.embedded_image_bin, \n",
    "    baboon.image_matrix, \n",
    "    baboon.best_firefly_value\n",
    ")"
   ]
  },
  {
   "cell_type": "code",
   "execution_count": null,
   "id": "363128bf",
   "metadata": {},
   "outputs": [],
   "source": [
    "# Исходное изображение без ЦВЗ\n",
    "model.image"
   ]
  },
  {
   "cell_type": "code",
   "execution_count": null,
   "id": "1bd3689b",
   "metadata": {},
   "outputs": [],
   "source": [
    "# Полученное изображение с ЦВЗ\n",
    "watermark.watermark"
   ]
  },
  {
   "cell_type": "code",
   "execution_count": null,
   "id": "12a6f9f0",
   "metadata": {},
   "outputs": [],
   "source": [
    "import matplotlib.pyplot as plt\n",
    "\n",
    "plt.imshow(watermark.extracted_image_bin, cmap=plt.cm.gray)"
   ]
  },
  {
   "cell_type": "code",
   "execution_count": null,
   "id": "e6119c9c",
   "metadata": {},
   "outputs": [],
   "source": [
    "from src import Attack, Utilities\n",
    "\n",
    "attacked = Attack(watermark.watermark)"
   ]
  },
  {
   "cell_type": "code",
   "execution_count": null,
   "id": "f8767391",
   "metadata": {},
   "outputs": [],
   "source": [
    "# медианный фильтр\n",
    "\n",
    "mf = Utilities.extracting(Utilities.matrix_to_image(attacked.mf), watermark.secret_key)\n",
    "Utilities.get_normal_correlation(mf, watermark.embedded_image_bin)"
   ]
  },
  {
   "cell_type": "code",
   "execution_count": null,
   "id": "f1f348f7",
   "metadata": {},
   "outputs": [],
   "source": [
    "# фильтр Гаусса\n",
    "\n",
    "gs3 = Utilities.extracting(Utilities.matrix_to_image(attacked.gs3), watermark.secret_key)\n",
    "Utilities.get_normal_correlation(gs3, watermark.embedded_image_bin)"
   ]
  },
  {
   "cell_type": "code",
   "execution_count": null,
   "id": "5d890d2b",
   "metadata": {},
   "outputs": [],
   "source": [
    "# фильтр Гаусса, kernel=5\n",
    "\n",
    "gs5 = Utilities.extracting(Utilities.matrix_to_image(attacked.gs5), watermark.secret_key)\n",
    "Utilities.get_normal_correlation(gs5, watermark.embedded_image_bin)"
   ]
  },
  {
   "cell_type": "code",
   "execution_count": null,
   "id": "fc500341",
   "metadata": {},
   "outputs": [],
   "source": [
    "# усредненная фильтрация, kernel=3\n",
    "\n",
    "avr = Utilities.extracting(Utilities.matrix_to_image(attacked.avr), watermark.secret_key)\n",
    "Utilities.get_normal_correlation(avr, watermark.embedded_image_bin)"
   ]
  },
  {
   "cell_type": "code",
   "execution_count": null,
   "id": "01eb037e",
   "metadata": {},
   "outputs": [],
   "source": [
    "# Фильтр увеличивает контраст соседних пикселей\n",
    "\n",
    "shr = Utilities.extracting(Utilities.matrix_to_image(attacked.shr), watermark.secret_key)\n",
    "Utilities.get_normal_correlation(shr, watermark.embedded_image_bin)"
   ]
  },
  {
   "cell_type": "code",
   "execution_count": null,
   "id": "85678766",
   "metadata": {},
   "outputs": [],
   "source": [
    "# Изменение контрастности изображения с использованием гистограмм\n",
    "\n",
    "his = Utilities.extracting(Utilities.matrix_to_image(attacked.his), watermark.secret_key)\n",
    "Utilities.get_normal_correlation(his, watermark.embedded_image_bin)"
   ]
  },
  {
   "cell_type": "code",
   "execution_count": null,
   "id": "f162b6af",
   "metadata": {},
   "outputs": [],
   "source": [
    "# Искажения яркости пикселей с параметром gamma=0.2\n",
    "\n",
    "gc2 = Utilities.extracting(Utilities.matrix_to_image(attacked.gc2), watermark.secret_key)\n",
    "Utilities.get_normal_correlation(gc2, watermark.embedded_image_bin)"
   ]
  },
  {
   "cell_type": "code",
   "execution_count": null,
   "id": "79c4ff5a",
   "metadata": {},
   "outputs": [],
   "source": [
    "# Искажения яркости пикселей с параметром gamma=0.4\n",
    "\n",
    "gc4 = Utilities.extracting(Utilities.matrix_to_image(attacked.gc4), watermark.secret_key)\n",
    "Utilities.get_normal_correlation(gc4, watermark.embedded_image_bin)"
   ]
  },
  {
   "cell_type": "code",
   "execution_count": null,
   "id": "abde2a8c",
   "metadata": {},
   "outputs": [],
   "source": [
    "# Гауссовый шум с параметром 0,001\n",
    "\n",
    "gn1 = Utilities.extracting(Utilities.matrix_to_image(attacked.gn1), watermark.secret_key)\n",
    "Utilities.get_normal_correlation(gn1, watermark.embedded_image_bin)"
   ]
  },
  {
   "cell_type": "code",
   "execution_count": null,
   "id": "26d89acf",
   "metadata": {},
   "outputs": [],
   "source": [
    "# Гауссовый шум с параметром 0,005\n",
    "\n",
    "gn5 = Utilities.extracting(Utilities.matrix_to_image(attacked.gn5), watermark.secret_key)\n",
    "Utilities.get_normal_correlation(gn5, watermark.embedded_image_bin)"
   ]
  },
  {
   "cell_type": "code",
   "execution_count": null,
   "id": "ad597ff4",
   "metadata": {},
   "outputs": [],
   "source": [
    "# Гауссовый шум с параметром 0,009\n",
    "\n",
    "gn9 = Utilities.extracting(Utilities.matrix_to_image(attacked.gn9), watermark.secret_key)\n",
    "Utilities.get_normal_correlation(gn9, watermark.embedded_image_bin)"
   ]
  },
  {
   "cell_type": "code",
   "execution_count": null,
   "id": "a3be6474",
   "metadata": {},
   "outputs": [],
   "source": [
    "# Атака соль/перец с параметром p=0.01\n",
    "\n",
    "sp1 = Utilities.extracting(Utilities.matrix_to_image(attacked.sp1), watermark.secret_key)\n",
    "Utilities.get_normal_correlation(sp1, watermark.embedded_image_bin)"
   ]
  },
  {
   "cell_type": "code",
   "execution_count": null,
   "id": "39a8de5e",
   "metadata": {},
   "outputs": [],
   "source": [
    "# Атака соль/перец с параметром p=0.02\n",
    "\n",
    "sp2 = Utilities.extracting(Utilities.matrix_to_image(attacked.sp2), watermark.secret_key)\n",
    "Utilities.get_normal_correlation(sp2, watermark.embedded_image_bin)"
   ]
  },
  {
   "cell_type": "code",
   "execution_count": null,
   "id": "c525f533",
   "metadata": {},
   "outputs": [],
   "source": [
    "# Атака соль/перец с параметром p=0.03\n",
    "\n",
    "sp3 = Utilities.extracting(Utilities.matrix_to_image(attacked.sp3), watermark.secret_key)\n",
    "Utilities.get_normal_correlation(sp3, watermark.embedded_image_bin)"
   ]
  },
  {
   "cell_type": "code",
   "execution_count": null,
   "id": "41123398",
   "metadata": {},
   "outputs": [],
   "source": [
    "# В заданной области затемняет 1/4 пикселей, с параметром center\n",
    "\n",
    "crp_ct = Utilities.extracting(Utilities.matrix_to_image(attacked.crp_ct), watermark.secret_key)\n",
    "Utilities.get_normal_correlation(crp_ct, watermark.embedded_image_bin)"
   ]
  },
  {
   "cell_type": "code",
   "execution_count": null,
   "id": "e37a028a",
   "metadata": {},
   "outputs": [],
   "source": [
    "# В заданной области затемняет 1/4 пикселей, с параметром top-left\n",
    "\n",
    "crp_tl = Utilities.extracting(Utilities.matrix_to_image(attacked.crp_tl), watermark.secret_key)\n",
    "Utilities.get_normal_correlation(crp_tl, watermark.embedded_image_bin)"
   ]
  },
  {
   "cell_type": "code",
   "execution_count": null,
   "id": "9a4c91b2",
   "metadata": {},
   "outputs": [],
   "source": [
    "# В заданной области затемняет 1/4 пикселей, с параметром bottom-right\n",
    "\n",
    "crp_br = Utilities.extracting(Utilities.matrix_to_image(attacked.crp_br), watermark.secret_key)\n",
    "Utilities.get_normal_correlation(crp_br, watermark.embedded_image_bin)"
   ]
  },
  {
   "cell_type": "code",
   "execution_count": null,
   "id": "9f5de9f0",
   "metadata": {},
   "outputs": [],
   "source": [
    "# Растягивает изображения и возвращает к изначальным размерам \n",
    "\n",
    "scl_1024 = Utilities.extracting(Utilities.matrix_to_image(attacked.scl_1024), watermark.secret_key)\n",
    "Utilities.get_normal_correlation(scl_1024, watermark.embedded_image_bin)"
   ]
  },
  {
   "cell_type": "code",
   "execution_count": null,
   "id": "db05fb85",
   "metadata": {},
   "outputs": [],
   "source": [
    "# Сжимает изображения и возвращает к изначальным размерам \n",
    "\n",
    "scl_256 = Utilities.extracting(Utilities.matrix_to_image(attacked.scl_256), watermark.secret_key)\n",
    "Utilities.get_normal_correlation(scl_256, watermark.embedded_image_bin)"
   ]
  },
  {
   "cell_type": "code",
   "execution_count": null,
   "id": "e390b586",
   "metadata": {},
   "outputs": [],
   "source": [
    "# Вращает изображение против часовой стрелки на заданный угол, 5 градусов\n",
    "\n",
    "rt5 = Utilities.extracting(Utilities.matrix_to_image(attacked.rt5), watermark.secret_key)\n",
    "Utilities.get_normal_correlation(rt5, watermark.embedded_image_bin)"
   ]
  },
  {
   "cell_type": "code",
   "execution_count": null,
   "id": "18d66e33",
   "metadata": {},
   "outputs": [],
   "source": [
    "# Вращает изображение против часовой стрелки на заданный угол, 45 градусов\n",
    "\n",
    "rt45 = Utilities.extracting(Utilities.matrix_to_image(attacked.rt45), watermark.secret_key)\n",
    "Utilities.get_normal_correlation(rt45, watermark.embedded_image_bin)"
   ]
  },
  {
   "cell_type": "code",
   "execution_count": null,
   "id": "6d1bed6d",
   "metadata": {},
   "outputs": [],
   "source": [
    "# Вращает изображение против часовой стрелки на заданный угол, 90 градусов\n",
    "\n",
    "rt90 = Utilities.extracting(Utilities.matrix_to_image(attacked.rt90), watermark.secret_key)\n",
    "Utilities.get_normal_correlation(rt90, watermark.embedded_image_bin)"
   ]
  },
  {
   "cell_type": "code",
   "execution_count": null,
   "id": "f2ca44fd",
   "metadata": {},
   "outputs": [],
   "source": [
    "# Применяет сжатие JPEG с заданным параметром качества, с параметром 70\n",
    "\n",
    "com70 = Utilities.extracting(Utilities.matrix_to_image(attacked.com70), watermark.secret_key)\n",
    "Utilities.get_normal_correlation(com70, watermark.embedded_image_bin)"
   ]
  },
  {
   "cell_type": "code",
   "execution_count": null,
   "id": "fbec905d",
   "metadata": {},
   "outputs": [],
   "source": [
    "# Применяет сжатие JPEG с заданным параметром качества, с параметром 80\n",
    "\n",
    "com80 = Utilities.extracting(Utilities.matrix_to_image(attacked.com80), watermark.secret_key)\n",
    "Utilities.get_normal_correlation(com80, watermark.embedded_image_bin)"
   ]
  },
  {
   "cell_type": "code",
   "execution_count": null,
   "id": "d6662160",
   "metadata": {},
   "outputs": [],
   "source": [
    "# Применяет сжатие JPEG с заданным параметром качества, с параметром 90\n",
    "\n",
    "com90 = Utilities.extracting(Utilities.matrix_to_image(attacked.com90), watermark.secret_key)\n",
    "Utilities.get_normal_correlation(com90, watermark.embedded_image_bin)"
   ]
  },
  {
   "cell_type": "code",
   "execution_count": null,
   "id": "76495db1",
   "metadata": {},
   "outputs": [],
   "source": []
  }
 ],
 "metadata": {
  "kernelspec": {
   "display_name": "Python 3 (ipykernel)",
   "language": "python",
   "name": "python3"
  },
  "language_info": {
   "codemirror_mode": {
    "name": "ipython",
    "version": 3
   },
   "file_extension": ".py",
   "mimetype": "text/x-python",
   "name": "python",
   "nbconvert_exporter": "python",
   "pygments_lexer": "ipython3",
   "version": "3.11.2"
  }
 },
 "nbformat": 4,
 "nbformat_minor": 5
}
