{
 "cells": [
  {
   "cell_type": "code",
   "execution_count": 1,
   "id": "d67ffbb1",
   "metadata": {},
   "outputs": [],
   "source": [
    "import json\n",
    "import numpy as np\n",
    "import pandas as pd\n",
    "from src import Utilities"
   ]
  },
  {
   "cell_type": "markdown",
   "id": "9dbd63b2-b912-427a-bc55-8a3fa4d631cd",
   "metadata": {},
   "source": [
    "## Диаграмма 1. Threshold"
   ]
  },
  {
   "cell_type": "code",
   "execution_count": 2,
   "id": "668e42a6",
   "metadata": {},
   "outputs": [
    {
     "name": "stderr",
     "output_type": "stream",
     "text": [
      "/home/evgeny/Documents/vkr/src/utilities.py:278: PerformanceWarning: DataFrame is highly fragmented.  This is usually the result of calling `frame.insert` many times, which has poor performance.  Consider joining all columns at once using pd.concat(axis=1) instead. To get a de-fragmented frame, use `newframe = frame.copy()`\n",
      "  dataframe[i] = dataframe[\"data\"].map(lambda x: preprocess_data(x, ind=i))\n",
      "/home/evgeny/Documents/vkr/src/utilities.py:278: PerformanceWarning: DataFrame is highly fragmented.  This is usually the result of calling `frame.insert` many times, which has poor performance.  Consider joining all columns at once using pd.concat(axis=1) instead. To get a de-fragmented frame, use `newframe = frame.copy()`\n",
      "  dataframe[i] = dataframe[\"data\"].map(lambda x: preprocess_data(x, ind=i))\n"
     ]
    }
   ],
   "source": [
    "# Boat and Logo\n",
    "\n",
    "df = Utilities.get_data('log/baboon_logo_genetic.csv', name='score', size=100)\n",
    "matrix = df.to_numpy()"
   ]
  },
  {
   "cell_type": "code",
   "execution_count": 3,
   "id": "de1d11cd-3a60-43bd-8d44-ae775ecefda8",
   "metadata": {},
   "outputs": [
    {
     "data": {
      "text/plain": [
       "(38, 0)"
      ]
     },
     "execution_count": 3,
     "metadata": {},
     "output_type": "execute_result"
    }
   ],
   "source": [
    "col = np.argmin(matrix) // 100\n",
    "row = np.argmin(matrix) % 100\n",
    "col, row"
   ]
  },
  {
   "cell_type": "code",
   "execution_count": 4,
   "id": "9ced82b3-81df-4f65-b098-f78dbd30e601",
   "metadata": {},
   "outputs": [
    {
     "data": {
      "text/plain": [
       "True"
      ]
     },
     "execution_count": 4,
     "metadata": {},
     "output_type": "execute_result"
    }
   ],
   "source": [
    "# Assertion\n",
    "df.min().min() == matrix[col][row] == df[row][col]"
   ]
  },
  {
   "cell_type": "markdown",
   "id": "7ac6c27a-5bdb-4838-a057-c2e66b1f7f0c",
   "metadata": {},
   "source": [
    "### Objective function"
   ]
  },
  {
   "cell_type": "code",
   "execution_count": 5,
   "id": "ed80a2c9-39a9-45ad-937f-218d4050e432",
   "metadata": {},
   "outputs": [
    {
     "data": {
      "text/plain": [
       "2.381170770145746"
      ]
     },
     "execution_count": 5,
     "metadata": {},
     "output_type": "execute_result"
    }
   ],
   "source": [
    "df[row][col]"
   ]
  },
  {
   "cell_type": "markdown",
   "id": "01a1704f-5b61-4d11-9908-ddc62233725f",
   "metadata": {},
   "source": [
    "### NC"
   ]
  },
  {
   "cell_type": "code",
   "execution_count": 6,
   "id": "48e96b41-32c8-4dd4-a1b9-1ab94963ffbf",
   "metadata": {},
   "outputs": [
    {
     "name": "stderr",
     "output_type": "stream",
     "text": [
      "/home/evgeny/Documents/vkr/src/utilities.py:278: PerformanceWarning: DataFrame is highly fragmented.  This is usually the result of calling `frame.insert` many times, which has poor performance.  Consider joining all columns at once using pd.concat(axis=1) instead. To get a de-fragmented frame, use `newframe = frame.copy()`\n",
      "  dataframe[i] = dataframe[\"data\"].map(lambda x: preprocess_data(x, ind=i))\n",
      "/home/evgeny/Documents/vkr/src/utilities.py:278: PerformanceWarning: DataFrame is highly fragmented.  This is usually the result of calling `frame.insert` many times, which has poor performance.  Consider joining all columns at once using pd.concat(axis=1) instead. To get a de-fragmented frame, use `newframe = frame.copy()`\n",
      "  dataframe[i] = dataframe[\"data\"].map(lambda x: preprocess_data(x, ind=i))\n"
     ]
    },
    {
     "data": {
      "text/plain": [
       "0.8827994929209722"
      ]
     },
     "execution_count": 6,
     "metadata": {},
     "output_type": "execute_result"
    }
   ],
   "source": [
    "Utilities.get_data('log/baboon_logo_genetic.csv', name='nc', size=100)[row][col]"
   ]
  },
  {
   "cell_type": "code",
   "execution_count": null,
   "id": "be548167-81de-4566-a39d-576b71440ee5",
   "metadata": {},
   "outputs": [],
   "source": []
  }
 ],
 "metadata": {
  "kernelspec": {
   "display_name": "Python 3 (ipykernel)",
   "language": "python",
   "name": "python3"
  },
  "language_info": {
   "codemirror_mode": {
    "name": "ipython",
    "version": 3
   },
   "file_extension": ".py",
   "mimetype": "text/x-python",
   "name": "python",
   "nbconvert_exporter": "python",
   "pygments_lexer": "ipython3",
   "version": "3.11.2"
  }
 },
 "nbformat": 4,
 "nbformat_minor": 5
}
